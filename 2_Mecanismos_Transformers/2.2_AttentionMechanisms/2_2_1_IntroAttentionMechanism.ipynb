{
  "nbformat": 4,
  "nbformat_minor": 0,
  "metadata": {
    "colab": {
      "provenance": [],
      "authorship_tag": "ABX9TyPYLu4Jrlu4iky3mcLkaqLF",
      "include_colab_link": true
    },
    "kernelspec": {
      "name": "python3",
      "display_name": "Python 3"
    },
    "language_info": {
      "name": "python"
    }
  },
  "cells": [
    {
      "cell_type": "markdown",
      "metadata": {
        "id": "view-in-github",
        "colab_type": "text"
      },
      "source": [
        "<a href=\"https://colab.research.google.com/github/juacardonahe/Curso_NLP/blob/main/2_Mecanismos_Transformers/2.2_AttentionMechanisms/2_2_1_IntroAttentionMechanism.ipynb\" target=\"_parent\"><img src=\"https://colab.research.google.com/assets/colab-badge.svg\" alt=\"Open In Colab\"/></a>"
      ]
    },
    {
      "cell_type": "markdown",
      "source": [
        "<img src=\"https://raw.githubusercontent.com/juacardonahe/Curso_NLP/refs/heads/main/data/UnFieldB.png\" width=\"40%\">\n",
        "\n",
        "# **Natural Language Procesing (NLP)**\n",
        "### Departamento de Ingeniería Eléctrica, Electrónica y Computación\n",
        "#### Universidad Nacional de Colombia - Sede Manizales\n",
        "\n",
        "#### Created by: Juan José Cardona H.\n",
        "#### Reviewed by: Diego A. Perez"
      ],
      "metadata": {
        "id": "5mpTKaT8-03-"
      }
    },
    {
      "cell_type": "markdown",
      "source": [
        "#**2.2.1 - Introduction to Attention Mechanism**\n",
        "The idea is to create a new context vector every timestep of the decoder which attends differently to the encoded sequence. Attention acts as a bridge between the encoder and decoder, allowing the decoder to access all encoder hidden states rather than relying solely on the final one. With this mechanism, the model can focus on relevant parts of the input sequence, enabling it to align input segments with their corresponding output segments. This alignment process helps the model handle long input sequences more effectively."
      ],
      "metadata": {
        "id": "3vYK3qQ3BVIp"
      }
    },
    {
      "cell_type": "markdown",
      "source": [
        "##**0. Prepare hidden states**"
      ],
      "metadata": {
        "id": "-UKtjdDKNpJw"
      }
    },
    {
      "cell_type": "code",
      "source": [
        "import torch\n",
        "import torch.nn.functional as F\n",
        "import pandas as pd\n",
        "import matplotlib.pyplot as plt\n",
        "import seaborn as sns\n",
        "\n",
        "# Step 0: Prepare hidden states\n",
        "encoder_hidden_states = torch.tensor([\n",
        "    [0.0, 1.0, 1.0],\n",
        "    [5.0, 0.0, 1.0],\n",
        "    [1.0, 1.0, 0.0],\n",
        "    [0.0, 5.0, 1.0]\n",
        "])\n",
        "\n",
        "# Updated decoder hidden state\n",
        "decoder_hidden_state = torch.tensor([10.0, 5.0, 10.0])"
      ],
      "metadata": {
        "id": "BKtcI4KeNwvw"
      },
      "execution_count": 2,
      "outputs": []
    },
    {
      "cell_type": "markdown",
      "source": [
        "##**1. Obtain a score for every encoder hidden state**\n",
        "In this example, the score function is a dot product between the decoder and encoder hidden states"
      ],
      "metadata": {
        "id": "HlWljRsANxkR"
      }
    },
    {
      "cell_type": "code",
      "source": [
        "# Step 1: Compute attention scores using dot product\n",
        "attention_scores = torch.matmul(encoder_hidden_states, decoder_hidden_state)\n",
        "print(\"Attention Scores:\", attention_scores.tolist())"
      ],
      "metadata": {
        "colab": {
          "base_uri": "https://localhost:8080/"
        },
        "id": "p4M_LmvhN59H",
        "outputId": "51190a86-1a6d-4df0-a8b0-4edecda5c1b5"
      },
      "execution_count": 3,
      "outputs": [
        {
          "output_type": "stream",
          "name": "stdout",
          "text": [
            "Attention Scores: [15.0, 60.0, 15.0, 35.0]\n"
          ]
        }
      ]
    },
    {
      "cell_type": "markdown",
      "source": [
        "##**2. Run all the scores through a softmax layer**"
      ],
      "metadata": {
        "id": "lqdnZJ0nN7o0"
      }
    },
    {
      "cell_type": "code",
      "source": [
        "# Step 2: Softmax the scores to get attention weights\n",
        "attention_weights = F.softmax(attention_scores, dim=0)\n",
        "print(\"Attention Weights (softmaxed scores):\", attention_weights.tolist())"
      ],
      "metadata": {
        "colab": {
          "base_uri": "https://localhost:8080/"
        },
        "id": "QqWxQ6ZdOAET",
        "outputId": "fa060bc1-f1bb-4634-f51f-0f99fff2edde"
      },
      "execution_count": 4,
      "outputs": [
        {
          "output_type": "stream",
          "name": "stdout",
          "text": [
            "Attention Weights (softmaxed scores): [2.862518609581133e-20, 1.0, 2.862518609581133e-20, 1.3887943746404563e-11]\n"
          ]
        }
      ]
    },
    {
      "cell_type": "markdown",
      "source": [
        "##**3. Multiply each encoder hidden state by its softmaxed score**"
      ],
      "metadata": {
        "id": "Hd4gP4aQOFI4"
      }
    },
    {
      "cell_type": "code",
      "source": [
        "# Step 3: Multiply each encoder hidden state by its attention weight\n",
        "alignment_vectors = encoder_hidden_states * attention_weights.unsqueeze(1)"
      ],
      "metadata": {
        "id": "4EnWnKFXOEvD"
      },
      "execution_count": 5,
      "outputs": []
    },
    {
      "cell_type": "markdown",
      "source": [
        "##**4. Sum up the alignment vectors**"
      ],
      "metadata": {
        "id": "LD2fkSWvPQlG"
      }
    },
    {
      "cell_type": "code",
      "source": [
        "# Step 4: Sum the alignment vectors to get the context vector\n",
        "context_vector = alignment_vectors.sum(dim=0)  # Shape: (3,)\n",
        "print(\"Context Vector:\", context_vector.tolist())"
      ],
      "metadata": {
        "colab": {
          "base_uri": "https://localhost:8080/"
        },
        "id": "ooUVgf4GPpqJ",
        "outputId": "e8f78d7e-0a9e-4dbd-8b05-d4690ce8e511"
      },
      "execution_count": 6,
      "outputs": [
        {
          "output_type": "stream",
          "name": "stdout",
          "text": [
            "Step 4 - Context Vector: [5.0, 6.943971786466108e-11, 1.0]\n"
          ]
        }
      ]
    },
    {
      "cell_type": "markdown",
      "source": [
        "#**Table for visualization**"
      ],
      "metadata": {
        "id": "3s_wLK0qPxBP"
      }
    },
    {
      "cell_type": "code",
      "execution_count": 8,
      "metadata": {
        "colab": {
          "base_uri": "https://localhost:8080/"
        },
        "id": "BSEHjn_m-rQL",
        "outputId": "0ee25c19-7b82-4707-9ebb-bc7977304873"
      },
      "outputs": [
        {
          "output_type": "stream",
          "name": "stdout",
          "text": [
            "\n",
            "Step-by-Step Attention Mechanism Table:\n",
            "        encoder  score  score^       alignment\n",
            "[0.0, 1.0, 1.0]   15.0     0.0 [0.0, 0.0, 0.0]\n",
            "[5.0, 0.0, 1.0]   60.0     1.0 [5.0, 0.0, 1.0]\n",
            "[1.0, 1.0, 0.0]   15.0     0.0 [0.0, 0.0, 0.0]\n",
            "[0.0, 5.0, 1.0]   35.0     0.0 [0.0, 0.0, 0.0]\n"
          ]
        }
      ],
      "source": [
        "# Create a table for visualization\n",
        "encoder_list = encoder_hidden_states.tolist()\n",
        "scores_list = attention_scores.tolist()\n",
        "weights_list = attention_weights.tolist()\n",
        "alignment_list = alignment_vectors.tolist()\n",
        "\n",
        "data = {\n",
        "    \"encoder\": encoder_list,\n",
        "    \"score\": [round(s, 2) for s in scores_list],\n",
        "    \"score^\": [round(w, 2) for w in weights_list],\n",
        "    \"alignment\": [[round(v, 2) for v in align] for align in alignment_list],\n",
        "}\n",
        "\n",
        "df = pd.DataFrame(data)\n",
        "print(\"\\nStep-by-Step Attention Mechanism Table:\")\n",
        "print(df.to_string(index=False))"
      ]
    },
    {
      "cell_type": "markdown",
      "source": [
        "#**Attention distribution**"
      ],
      "metadata": {
        "id": "0icc_Q-3QGqc"
      }
    },
    {
      "cell_type": "code",
      "source": [
        "#Visualize attention distribution\n",
        "sns.set()\n",
        "plt.figure(figsize=(6, 2))\n",
        "sns.heatmap(attention_weights.unsqueeze(0).numpy(), annot=True, cmap=\"YlGnBu\",\n",
        "            xticklabels=[\"t1\", \"t2\", \"t3\", \"t4\"], yticklabels=[\"Attention\"])\n",
        "plt.title(\"Attention Weights Distribution\")\n",
        "plt.show()"
      ],
      "metadata": {
        "colab": {
          "base_uri": "https://localhost:8080/",
          "height": 241
        },
        "id": "zhFYygBrQK8K",
        "outputId": "681566fe-1e90-405f-e112-d46e9839658f"
      },
      "execution_count": 9,
      "outputs": [
        {
          "output_type": "display_data",
          "data": {
            "text/plain": [
              "<Figure size 600x200 with 2 Axes>"
            ],
            "image/png": "[encoded data removed]"
          },
          "metadata": {}
        }
      ]
    }
  ]
}