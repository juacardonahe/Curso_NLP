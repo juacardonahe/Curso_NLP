{
  "nbformat": 4,
  "nbformat_minor": 0,
  "metadata": {
    "colab": {
      "provenance": [],
      "toc_visible": true,
      "include_colab_link": true
    },
    "kernelspec": {
      "name": "python3",
      "display_name": "Python 3"
    },
    "language_info": {
      "name": "python"
    }
  },
  "cells": [
    {
      "cell_type": "markdown",
      "metadata": {
        "id": "view-in-github",
        "colab_type": "text"
      },
      "source": [
        "<a href=\"https://colab.research.google.com/github/juacardonahe/Curso_NLP/blob/main/0_ElementosPrevios/RegEx_Avanzado%2BToken.ipynb\" target=\"_parent\"><img src=\"https://colab.research.google.com/assets/colab-badge.svg\" alt=\"Open In Colab\"/></a>"
      ]
    },
    {
      "cell_type": "markdown",
      "source": [
        "<img src=\"https://raw.githubusercontent.com/juacardonahe/Curso_NLP/refs/heads/main/data/UNAL_Field_w.png\" width=\"40%\">\n",
        "\n",
        "# **Procesamiento de Lenguaje Natural (NLP)**\n",
        "### Departamento de Ingeniería Eléctrica, Electrónica y Computación\n",
        "#### Universidad Nacional de Colombia - Sede Manizales\n",
        "\n",
        "#### Elaboró: Juan José Cardona H.\n",
        "#### Revisó: Diego A. Perez"
      ],
      "metadata": {
        "id": "Uc7TgbY_tbfV"
      }
    },
    {
      "cell_type": "markdown",
      "metadata": {
        "id": "iMkwF9FETyec"
      },
      "source": [
        "# Expresiones Regulares\n",
        "### Identificación de patrones\n",
        "#####  \".\" : Matchea cualquier caracter excepto '\\n'\n",
        "#####  \"^\" y  \"$\": Matchean el comienzo y el final de un string\n",
        "##### \"[]\": Matchea el set de caracteres que se encuentren dentro de los corchetes (r\"l[ao]s\" machea \"las\" y \"los\")\n",
        "##### \\d: Matchea digitos; equivalente a [0-9].\n",
        "##### \\D: Matchea caracteres que NO sean digitos; equivalente a [^0-9].\n",
        "##### \\s: Matchea espacios en blanco; equivalente a [ \\t\\n\\r\\f\\v].\n",
        "##### \\S: Matchea espacios que NO esten en blanco; equivalente a [^ \\t\\n\\r\\f\\v].\n",
        "##### \\w: Matchea caracteres alfanuméricos; equivalente a [a-zA-Z0-9_].\n",
        "##### \\W: Matchea caracteres que NO sean alfanuméricos; equivalente a[^a-zA-Z0-9_].\n",
        "##### a|b: Matchea \"a\" o \"b\"\n",
        "##### Repeticiones:\n",
        "##### \"+\": Matchea 1 o mas ocurrencias\n",
        "##### \"*\": Matchea 0 o mas ocurrencias\n",
        "##### \"?\": Matchea 0 o 1 ocurrencia\n",
        "##### \"{n, m}\": Matchea entre n y m ocurrencias\n",
        "##### \"\\\\\": Permite matchear caracteres especiales\n",
        "##### para más info ver: https://docs.python.org/3.1/library/re.html#re-syntax"
      ]
    },
    {
      "cell_type": "code",
      "execution_count": null,
      "metadata": {
        "id": "ab1mrdcVwrrA"
      },
      "outputs": [],
      "source": [
        "import re # Librería para trabajar con expresiones regulares\n",
        "import pandas as pd # Librería para trabajar con DataFrames"
      ]
    },
    {
      "cell_type": "code",
      "execution_count": null,
      "metadata": {
        "id": "IxKkd__WwrrD"
      },
      "outputs": [],
      "source": [
        "texto = \"\"\"(Jefe de los Minisupers) 14'49'' Podéis hacerme tres preguntas.\n",
        "(Apu) 14'58'' Qué bueno, porque sólo necesito una.\n",
        "(Homer) 15'05'' ¿Usted es el Jefe de los Minisupers?\n",
        "(Jefe de los Minisupers) 15'13'' Así es.\n",
        "(Homer) 15'22'' ¿Usted?\n",
        "(Jefe de los Minisupers) 15'38'' Así es.\n",
        "(Homer) 15'41'' ¿Está seguro?\n",
        "(Jefe de los Minisupers) 16' Sí. Espero que los haya iluminado.\n",
        "(Apu) 16'11'' Pero tengo que...\n",
        "(Jefe de los Minisupers) 16'2'' Gracias. Vuelva pronto.\n",
        "(Apu) 16'29'' Pero.\n",
        "(Jefe de los Minisupers) 16'33'' Graciaaaaas. Vuelva pronto.\"\"\""
      ]
    },
    {
      "cell_type": "code",
      "execution_count": null,
      "metadata": {
        "id": "kEZ-8_Q9wrrF",
        "outputId": "9bb87ab6-5f95-42cd-dbca-35724b3ea0e3",
        "colab": {
          "base_uri": "https://localhost:8080/"
        }
      },
      "outputs": [
        {
          "output_type": "stream",
          "name": "stdout",
          "text": [
            "(Jefe de los Minisupers) 14'49'' Podéis hacerme tres preguntas.\n",
            "(Apu) 14'58'' Qué bueno, porque sólo necesito una.\n",
            "(Homer) 15'05'' ¿Usted es el Jefe de los Minisupers?\n",
            "(Jefe de los Minisupers) 15'13'' Así es.\n",
            "(Homer) 15'22'' ¿Usted?\n",
            "(Jefe de los Minisupers) 15'38'' Así es.\n",
            "(Homer) 15'41'' ¿Está seguro?\n",
            "(Jefe de los Minisupers) 16' Sí. Espero que los haya iluminado.\n",
            "(Apu) 16'11'' Pero tengo que...\n",
            "(Jefe de los Minisupers) 16'2'' Gracias. Vuelva pronto.\n",
            "(Apu) 16'29'' Pero.\n",
            "(Jefe de los Minisupers) 16'33'' Graciaaaaas. Vuelva pronto.\n"
          ]
        }
      ],
      "source": [
        "print(texto)"
      ]
    },
    {
      "cell_type": "code",
      "execution_count": null,
      "metadata": {
        "id": "U5hB4eSOwrrG",
        "outputId": "724bf226-1ddf-4810-c72d-5de52f9c14a3",
        "colab": {
          "base_uri": "https://localhost:8080/"
        }
      },
      "outputs": [
        {
          "output_type": "execute_result",
          "data": {
            "text/plain": [
              "<re.Match object; span=(432, 454), match='Gracias. Vuelva pronto'>"
            ]
          },
          "metadata": {},
          "execution_count": 4
        }
      ],
      "source": [
        "# re.search() busca el patron de la expresion regular y devuelve un objeto si lo encuentra\n",
        "match = re.search(r\"Gracias. Vuelva pronto\", texto)\n",
        "match"
      ]
    },
    {
      "cell_type": "code",
      "execution_count": null,
      "metadata": {
        "id": "3NunFZQ2wrrJ",
        "outputId": "1be6c073-dd87-4acc-8b30-56b5465bcf81",
        "colab": {
          "base_uri": "https://localhost:8080/"
        }
      },
      "outputs": [
        {
          "output_type": "stream",
          "name": "stdout",
          "text": [
            "El primer matcheo es: Gracias. Vuelva pronto\n",
            "El rango de los indices es: (432, 454)\n"
          ]
        }
      ],
      "source": [
        "# el \"if\" testea si re.search() encontró el patrón;\n",
        "# match.group() devuelve el primer matcheo\n",
        "# match.span() el rango de sus indices\n",
        "if match:\n",
        "    print(\"El primer matcheo es:\",match.group())\n",
        "    print(\"El rango de los indices es:\",match.span())\n",
        "else:\n",
        "    print(\"El patron NO esta en el texto\")"
      ]
    },
    {
      "cell_type": "code",
      "execution_count": null,
      "metadata": {
        "id": "ZiuhW_XNwrrL",
        "outputId": "5acf3b66-8aa8-415a-b962-9de5e13cffb8",
        "colab": {
          "base_uri": "https://localhost:8080/"
        }
      },
      "outputs": [
        {
          "output_type": "execute_result",
          "data": {
            "text/plain": [
              "['Gracias. Vuelva pronto', 'Graciaaaaas. Vuelva pronto']"
            ]
          },
          "metadata": {},
          "execution_count": 6
        }
      ],
      "source": [
        "# re.findall() devuelve todos los matcheos\n",
        "re.findall(r\"Gracia+s\\. Vuelva pronto\", texto)"
      ]
    },
    {
      "cell_type": "code",
      "execution_count": null,
      "metadata": {
        "id": "Gqg8vHIvwrrP",
        "outputId": "91a64fef-0ef6-48b9-e32c-7d3d610f94d3",
        "colab": {
          "base_uri": "https://localhost:8080/"
        }
      },
      "outputs": [
        {
          "output_type": "execute_result",
          "data": {
            "text/plain": [
              "[\"14'49''\",\n",
              " \"14'58''\",\n",
              " \"15'05''\",\n",
              " \"15'13''\",\n",
              " \"15'22''\",\n",
              " \"15'38''\",\n",
              " \"15'41''\",\n",
              " \"16'11''\",\n",
              " \"16'29''\",\n",
              " \"16'33''\"]"
            ]
          },
          "metadata": {},
          "execution_count": 7
        }
      ],
      "source": [
        "# re.findall() devuelve todos los matcheos\n",
        "re.findall(r\"\\d\\d'\\d\\d''\", texto)"
      ]
    },
    {
      "cell_type": "code",
      "execution_count": null,
      "metadata": {
        "id": "tXtBg2ZpwrrS",
        "outputId": "8badbe4c-a382-40e4-b84d-77cd784d2dda",
        "colab": {
          "base_uri": "https://localhost:8080/"
        }
      },
      "outputs": [
        {
          "output_type": "execute_result",
          "data": {
            "text/plain": [
              "[\"14'49''\",\n",
              " \"14'58''\",\n",
              " \"15'05''\",\n",
              " \"15'13''\",\n",
              " \"15'22''\",\n",
              " \"15'38''\",\n",
              " \"15'41''\",\n",
              " \"16'\",\n",
              " \"16'11''\",\n",
              " \"16'2''\",\n",
              " \"16'29''\",\n",
              " \"16'33''\"]"
            ]
          },
          "metadata": {},
          "execution_count": 8
        }
      ],
      "source": [
        "# re.findall() devuelve todos los matcheos\n",
        "re.findall(r\"\\d\\d'\\d{0,2}'{0,2}\", texto)"
      ]
    },
    {
      "cell_type": "code",
      "execution_count": null,
      "metadata": {
        "id": "LQbQwB1JwrrT",
        "outputId": "71f0847e-2512-4fe9-90c3-934ce59d40ce",
        "colab": {
          "base_uri": "https://localhost:8080/"
        }
      },
      "outputs": [
        {
          "output_type": "execute_result",
          "data": {
            "text/plain": [
              "['(Jefe de los Minisupers)',\n",
              " '(Apu)',\n",
              " '(Homer)',\n",
              " '(Jefe de los Minisupers)',\n",
              " '(Homer)',\n",
              " '(Jefe de los Minisupers)',\n",
              " '(Homer)',\n",
              " '(Jefe de los Minisupers)',\n",
              " '(Apu)',\n",
              " '(Jefe de los Minisupers)',\n",
              " '(Apu)',\n",
              " '(Jefe de los Minisupers)']"
            ]
          },
          "metadata": {},
          "execution_count": 9
        }
      ],
      "source": [
        "re.findall(r\"\\(.*\\)\", texto)"
      ]
    },
    {
      "cell_type": "markdown",
      "metadata": {
        "id": "TYJUQb8Fwrrc"
      },
      "source": [
        "### Grupos"
      ]
    },
    {
      "cell_type": "code",
      "execution_count": null,
      "metadata": {
        "id": "SA-ub8wywrrc",
        "outputId": "1d6ed4ef-7de2-4ff2-ca2f-aa0aef17d1d8",
        "colab": {
          "base_uri": "https://localhost:8080/"
        }
      },
      "outputs": [
        {
          "output_type": "execute_result",
          "data": {
            "text/plain": [
              "['Jefe de los Minisupers',\n",
              " 'Apu',\n",
              " 'Homer',\n",
              " 'Jefe de los Minisupers',\n",
              " 'Homer',\n",
              " 'Jefe de los Minisupers',\n",
              " 'Homer',\n",
              " 'Jefe de los Minisupers',\n",
              " 'Apu',\n",
              " 'Jefe de los Minisupers',\n",
              " 'Apu',\n",
              " 'Jefe de los Minisupers']"
            ]
          },
          "metadata": {},
          "execution_count": 10
        }
      ],
      "source": [
        "# Los paréntesis definen los grupos, que identifican los elementos a devolver\n",
        "re.findall(r\"\\((.*)\\)\", texto)"
      ]
    },
    {
      "cell_type": "code",
      "execution_count": null,
      "metadata": {
        "id": "oYO_m-dBwrrg",
        "outputId": "8c1d5f93-7d37-48a8-d245-15007f91139f",
        "colab": {
          "base_uri": "https://localhost:8080/"
        }
      },
      "outputs": [
        {
          "output_type": "execute_result",
          "data": {
            "text/plain": [
              "[('Jefe de los Minisupers', \"14'49''\", 'Podéis hacerme tres preguntas.'),\n",
              " ('Apu', \"14'58''\", 'Qué bueno, porque sólo necesito una.'),\n",
              " ('Homer', \"15'05''\", '¿Usted es el Jefe de los Minisupers?'),\n",
              " ('Jefe de los Minisupers', \"15'13''\", 'Así es.'),\n",
              " ('Homer', \"15'22''\", '¿Usted?'),\n",
              " ('Jefe de los Minisupers', \"15'38''\", 'Así es.'),\n",
              " ('Homer', \"15'41''\", '¿Está seguro?'),\n",
              " ('Jefe de los Minisupers', \"16'\", 'Sí. Espero que los haya iluminado.'),\n",
              " ('Apu', \"16'11''\", 'Pero tengo que...'),\n",
              " ('Jefe de los Minisupers', \"16'2''\", 'Gracias. Vuelva pronto.'),\n",
              " ('Apu', \"16'29''\", 'Pero.'),\n",
              " ('Jefe de los Minisupers', \"16'33''\", 'Graciaaaaas. Vuelva pronto.')]"
            ]
          },
          "metadata": {},
          "execution_count": 11
        }
      ],
      "source": [
        "script = re.findall(r\"\\((.*)\\) (\\d\\d'\\d{0,2}'{0,2}) (.*)\", texto)\n",
        "script"
      ]
    },
    {
      "cell_type": "code",
      "execution_count": null,
      "metadata": {
        "id": "nMbwxvu3wrri",
        "outputId": "d3d22c8d-ed78-4aea-e47f-a2ea2f1c1617",
        "colab": {
          "base_uri": "https://localhost:8080/",
          "height": 425
        }
      },
      "outputs": [
        {
          "output_type": "execute_result",
          "data": {
            "text/plain": [
              "                 personaje   tiempo                                 texto\n",
              "0   Jefe de los Minisupers  14'49''        Podéis hacerme tres preguntas.\n",
              "1                      Apu  14'58''  Qué bueno, porque sólo necesito una.\n",
              "2                    Homer  15'05''  ¿Usted es el Jefe de los Minisupers?\n",
              "3   Jefe de los Minisupers  15'13''                               Así es.\n",
              "4                    Homer  15'22''                               ¿Usted?\n",
              "5   Jefe de los Minisupers  15'38''                               Así es.\n",
              "6                    Homer  15'41''                         ¿Está seguro?\n",
              "7   Jefe de los Minisupers      16'    Sí. Espero que los haya iluminado.\n",
              "8                      Apu  16'11''                     Pero tengo que...\n",
              "9   Jefe de los Minisupers   16'2''               Gracias. Vuelva pronto.\n",
              "10                     Apu  16'29''                                 Pero.\n",
              "11  Jefe de los Minisupers  16'33''           Graciaaaaas. Vuelva pronto."
            ],
            "text/html": [
              "\n",
              "  <div id=\"df-fe528e22-9444-4097-8cd7-c0cc41dde35c\" class=\"colab-df-container\">\n",
              "    <div>\n",
              "<style scoped>\n",
              "    .dataframe tbody tr th:only-of-type {\n",
              "        vertical-align: middle;\n",
              "    }\n",
              "\n",
              "    .dataframe tbody tr th {\n",
              "        vertical-align: top;\n",
              "    }\n",
              "\n",
              "    .dataframe thead th {\n",
              "        text-align: right;\n",
              "    }\n",
              "</style>\n",
              "<table border=\"1\" class=\"dataframe\">\n",
              "  <thead>\n",
              "    <tr style=\"text-align: right;\">\n",
              "      <th></th>\n",
              "      <th>personaje</th>\n",
              "      <th>tiempo</th>\n",
              "      <th>texto</th>\n",
              "    </tr>\n",
              "  </thead>\n",
              "  <tbody>\n",
              "    <tr>\n",
              "      <th>0</th>\n",
              "      <td>Jefe de los Minisupers</td>\n",
              "      <td>14'49''</td>\n",
              "      <td>Podéis hacerme tres preguntas.</td>\n",
              "    </tr>\n",
              "    <tr>\n",
              "      <th>1</th>\n",
              "      <td>Apu</td>\n",
              "      <td>14'58''</td>\n",
              "      <td>Qué bueno, porque sólo necesito una.</td>\n",
              "    </tr>\n",
              "    <tr>\n",
              "      <th>2</th>\n",
              "      <td>Homer</td>\n",
              "      <td>15'05''</td>\n",
              "      <td>¿Usted es el Jefe de los Minisupers?</td>\n",
              "    </tr>\n",
              "    <tr>\n",
              "      <th>3</th>\n",
              "      <td>Jefe de los Minisupers</td>\n",
              "      <td>15'13''</td>\n",
              "      <td>Así es.</td>\n",
              "    </tr>\n",
              "    <tr>\n",
              "      <th>4</th>\n",
              "      <td>Homer</td>\n",
              "      <td>15'22''</td>\n",
              "      <td>¿Usted?</td>\n",
              "    </tr>\n",
              "    <tr>\n",
              "      <th>5</th>\n",
              "      <td>Jefe de los Minisupers</td>\n",
              "      <td>15'38''</td>\n",
              "      <td>Así es.</td>\n",
              "    </tr>\n",
              "    <tr>\n",
              "      <th>6</th>\n",
              "      <td>Homer</td>\n",
              "      <td>15'41''</td>\n",
              "      <td>¿Está seguro?</td>\n",
              "    </tr>\n",
              "    <tr>\n",
              "      <th>7</th>\n",
              "      <td>Jefe de los Minisupers</td>\n",
              "      <td>16'</td>\n",
              "      <td>Sí. Espero que los haya iluminado.</td>\n",
              "    </tr>\n",
              "    <tr>\n",
              "      <th>8</th>\n",
              "      <td>Apu</td>\n",
              "      <td>16'11''</td>\n",
              "      <td>Pero tengo que...</td>\n",
              "    </tr>\n",
              "    <tr>\n",
              "      <th>9</th>\n",
              "      <td>Jefe de los Minisupers</td>\n",
              "      <td>16'2''</td>\n",
              "      <td>Gracias. Vuelva pronto.</td>\n",
              "    </tr>\n",
              "    <tr>\n",
              "      <th>10</th>\n",
              "      <td>Apu</td>\n",
              "      <td>16'29''</td>\n",
              "      <td>Pero.</td>\n",
              "    </tr>\n",
              "    <tr>\n",
              "      <th>11</th>\n",
              "      <td>Jefe de los Minisupers</td>\n",
              "      <td>16'33''</td>\n",
              "      <td>Graciaaaaas. Vuelva pronto.</td>\n",
              "    </tr>\n",
              "  </tbody>\n",
              "</table>\n",
              "</div>\n",
              "    <div class=\"colab-df-buttons\">\n",
              "\n",
              "  <div class=\"colab-df-container\">\n",
              "    <button class=\"colab-df-convert\" onclick=\"convertToInteractive('df-fe528e22-9444-4097-8cd7-c0cc41dde35c')\"\n",
              "            title=\"Convert this dataframe to an interactive table.\"\n",
              "            style=\"display:none;\">\n",
              "\n",
              "  <svg xmlns=\"http://www.w3.org/2000/svg\" height=\"24px\" viewBox=\"0 -960 960 960\">\n",
              "    <path d=\"M120-120v-720h720v720H120Zm60-500h600v-160H180v160Zm220 220h160v-160H400v160Zm0 220h160v-160H400v160ZM180-400h160v-160H180v160Zm440 0h160v-160H620v160ZM180-180h160v-160H180v160Zm440 0h160v-160H620v160Z\"/>\n",
              "  </svg>\n",
              "    </button>\n",
              "\n",
              "  <style>\n",
              "    .colab-df-container {\n",
              "      display:flex;\n",
              "      gap: 12px;\n",
              "    }\n",
              "\n",
              "    .colab-df-convert {\n",
              "      background-color: #E8F0FE;\n",
              "      border: none;\n",
              "      border-radius: 50%;\n",
              "      cursor: pointer;\n",
              "      display: none;\n",
              "      fill: #1967D2;\n",
              "      height: 32px;\n",
              "      padding: 0 0 0 0;\n",
              "      width: 32px;\n",
              "    }\n",
              "\n",
              "    .colab-df-convert:hover {\n",
              "      background-color: #E2EBFA;\n",
              "      box-shadow: 0px 1px 2px rgba(60, 64, 67, 0.3), 0px 1px 3px 1px rgba(60, 64, 67, 0.15);\n",
              "      fill: #174EA6;\n",
              "    }\n",
              "\n",
              "    .colab-df-buttons div {\n",
              "      margin-bottom: 4px;\n",
              "    }\n",
              "\n",
              "    [theme=dark] .colab-df-convert {\n",
              "      background-color: #3B4455;\n",
              "      fill: #D2E3FC;\n",
              "    }\n",
              "\n",
              "    [theme=dark] .colab-df-convert:hover {\n",
              "      background-color: #434B5C;\n",
              "      box-shadow: 0px 1px 3px 1px rgba(0, 0, 0, 0.15);\n",
              "      filter: drop-shadow(0px 1px 2px rgba(0, 0, 0, 0.3));\n",
              "      fill: #FFFFFF;\n",
              "    }\n",
              "  </style>\n",
              "\n",
              "    <script>\n",
              "      const buttonEl =\n",
              "        document.querySelector('#df-fe528e22-9444-4097-8cd7-c0cc41dde35c button.colab-df-convert');\n",
              "      buttonEl.style.display =\n",
              "        google.colab.kernel.accessAllowed ? 'block' : 'none';\n",
              "\n",
              "      async function convertToInteractive(key) {\n",
              "        const element = document.querySelector('#df-fe528e22-9444-4097-8cd7-c0cc41dde35c');\n",
              "        const dataTable =\n",
              "          await google.colab.kernel.invokeFunction('convertToInteractive',\n",
              "                                                    [key], {});\n",
              "        if (!dataTable) return;\n",
              "\n",
              "        const docLinkHtml = 'Like what you see? Visit the ' +\n",
              "          '<a target=\"_blank\" href=https://colab.research.google.com/notebooks/data_table.ipynb>data table notebook</a>'\n",
              "          + ' to learn more about interactive tables.';\n",
              "        element.innerHTML = '';\n",
              "        dataTable['output_type'] = 'display_data';\n",
              "        await google.colab.output.renderOutput(dataTable, element);\n",
              "        const docLink = document.createElement('div');\n",
              "        docLink.innerHTML = docLinkHtml;\n",
              "        element.appendChild(docLink);\n",
              "      }\n",
              "    </script>\n",
              "  </div>\n",
              "\n",
              "\n",
              "    <div id=\"df-ea887740-566f-4b8e-b311-17cb429fa69b\">\n",
              "      <button class=\"colab-df-quickchart\" onclick=\"quickchart('df-ea887740-566f-4b8e-b311-17cb429fa69b')\"\n",
              "                title=\"Suggest charts\"\n",
              "                style=\"display:none;\">\n",
              "\n",
              "<svg xmlns=\"http://www.w3.org/2000/svg\" height=\"24px\"viewBox=\"0 0 24 24\"\n",
              "     width=\"24px\">\n",
              "    <g>\n",
              "        <path d=\"M19 3H5c-1.1 0-2 .9-2 2v14c0 1.1.9 2 2 2h14c1.1 0 2-.9 2-2V5c0-1.1-.9-2-2-2zM9 17H7v-7h2v7zm4 0h-2V7h2v10zm4 0h-2v-4h2v4z\"/>\n",
              "    </g>\n",
              "</svg>\n",
              "      </button>\n",
              "\n",
              "<style>\n",
              "  .colab-df-quickchart {\n",
              "      --bg-color: #E8F0FE;\n",
              "      --fill-color: #1967D2;\n",
              "      --hover-bg-color: #E2EBFA;\n",
              "      --hover-fill-color: #174EA6;\n",
              "      --disabled-fill-color: #AAA;\n",
              "      --disabled-bg-color: #DDD;\n",
              "  }\n",
              "\n",
              "  [theme=dark] .colab-df-quickchart {\n",
              "      --bg-color: #3B4455;\n",
              "      --fill-color: #D2E3FC;\n",
              "      --hover-bg-color: #434B5C;\n",
              "      --hover-fill-color: #FFFFFF;\n",
              "      --disabled-bg-color: #3B4455;\n",
              "      --disabled-fill-color: #666;\n",
              "  }\n",
              "\n",
              "  .colab-df-quickchart {\n",
              "    background-color: var(--bg-color);\n",
              "    border: none;\n",
              "    border-radius: 50%;\n",
              "    cursor: pointer;\n",
              "    display: none;\n",
              "    fill: var(--fill-color);\n",
              "    height: 32px;\n",
              "    padding: 0;\n",
              "    width: 32px;\n",
              "  }\n",
              "\n",
              "  .colab-df-quickchart:hover {\n",
              "    background-color: var(--hover-bg-color);\n",
              "    box-shadow: 0 1px 2px rgba(60, 64, 67, 0.3), 0 1px 3px 1px rgba(60, 64, 67, 0.15);\n",
              "    fill: var(--button-hover-fill-color);\n",
              "  }\n",
              "\n",
              "  .colab-df-quickchart-complete:disabled,\n",
              "  .colab-df-quickchart-complete:disabled:hover {\n",
              "    background-color: var(--disabled-bg-color);\n",
              "    fill: var(--disabled-fill-color);\n",
              "    box-shadow: none;\n",
              "  }\n",
              "\n",
              "  .colab-df-spinner {\n",
              "    border: 2px solid var(--fill-color);\n",
              "    border-color: transparent;\n",
              "    border-bottom-color: var(--fill-color);\n",
              "    animation:\n",
              "      spin 1s steps(1) infinite;\n",
              "  }\n",
              "\n",
              "  @keyframes spin {\n",
              "    0% {\n",
              "      border-color: transparent;\n",
              "      border-bottom-color: var(--fill-color);\n",
              "      border-left-color: var(--fill-color);\n",
              "    }\n",
              "    20% {\n",
              "      border-color: transparent;\n",
              "      border-left-color: var(--fill-color);\n",
              "      border-top-color: var(--fill-color);\n",
              "    }\n",
              "    30% {\n",
              "      border-color: transparent;\n",
              "      border-left-color: var(--fill-color);\n",
              "      border-top-color: var(--fill-color);\n",
              "      border-right-color: var(--fill-color);\n",
              "    }\n",
              "    40% {\n",
              "      border-color: transparent;\n",
              "      border-right-color: var(--fill-color);\n",
              "      border-top-color: var(--fill-color);\n",
              "    }\n",
              "    60% {\n",
              "      border-color: transparent;\n",
              "      border-right-color: var(--fill-color);\n",
              "    }\n",
              "    80% {\n",
              "      border-color: transparent;\n",
              "      border-right-color: var(--fill-color);\n",
              "      border-bottom-color: var(--fill-color);\n",
              "    }\n",
              "    90% {\n",
              "      border-color: transparent;\n",
              "      border-bottom-color: var(--fill-color);\n",
              "    }\n",
              "  }\n",
              "</style>\n",
              "\n",
              "      <script>\n",
              "        async function quickchart(key) {\n",
              "          const quickchartButtonEl =\n",
              "            document.querySelector('#' + key + ' button');\n",
              "          quickchartButtonEl.disabled = true;  // To prevent multiple clicks.\n",
              "          quickchartButtonEl.classList.add('colab-df-spinner');\n",
              "          try {\n",
              "            const charts = await google.colab.kernel.invokeFunction(\n",
              "                'suggestCharts', [key], {});\n",
              "          } catch (error) {\n",
              "            console.error('Error during call to suggestCharts:', error);\n",
              "          }\n",
              "          quickchartButtonEl.classList.remove('colab-df-spinner');\n",
              "          quickchartButtonEl.classList.add('colab-df-quickchart-complete');\n",
              "        }\n",
              "        (() => {\n",
              "          let quickchartButtonEl =\n",
              "            document.querySelector('#df-ea887740-566f-4b8e-b311-17cb429fa69b button');\n",
              "          quickchartButtonEl.style.display =\n",
              "            google.colab.kernel.accessAllowed ? 'block' : 'none';\n",
              "        })();\n",
              "      </script>\n",
              "    </div>\n",
              "\n",
              "  <div id=\"id_072b4761-9f62-4af8-850e-42f57dd6d3e1\">\n",
              "    <style>\n",
              "      .colab-df-generate {\n",
              "        background-color: #E8F0FE;\n",
              "        border: none;\n",
              "        border-radius: 50%;\n",
              "        cursor: pointer;\n",
              "        display: none;\n",
              "        fill: #1967D2;\n",
              "        height: 32px;\n",
              "        padding: 0 0 0 0;\n",
              "        width: 32px;\n",
              "      }\n",
              "\n",
              "      .colab-df-generate:hover {\n",
              "        background-color: #E2EBFA;\n",
              "        box-shadow: 0px 1px 2px rgba(60, 64, 67, 0.3), 0px 1px 3px 1px rgba(60, 64, 67, 0.15);\n",
              "        fill: #174EA6;\n",
              "      }\n",
              "\n",
              "      [theme=dark] .colab-df-generate {\n",
              "        background-color: #3B4455;\n",
              "        fill: #D2E3FC;\n",
              "      }\n",
              "\n",
              "      [theme=dark] .colab-df-generate:hover {\n",
              "        background-color: #434B5C;\n",
              "        box-shadow: 0px 1px 3px 1px rgba(0, 0, 0, 0.15);\n",
              "        filter: drop-shadow(0px 1px 2px rgba(0, 0, 0, 0.3));\n",
              "        fill: #FFFFFF;\n",
              "      }\n",
              "    </style>\n",
              "    <button class=\"colab-df-generate\" onclick=\"generateWithVariable('df')\"\n",
              "            title=\"Generate code using this dataframe.\"\n",
              "            style=\"display:none;\">\n",
              "\n",
              "  <svg xmlns=\"http://www.w3.org/2000/svg\" height=\"24px\"viewBox=\"0 0 24 24\"\n",
              "       width=\"24px\">\n",
              "    <path d=\"M7,19H8.4L18.45,9,17,7.55,7,17.6ZM5,21V16.75L18.45,3.32a2,2,0,0,1,2.83,0l1.4,1.43a1.91,1.91,0,0,1,.58,1.4,1.91,1.91,0,0,1-.58,1.4L9.25,21ZM18.45,9,17,7.55Zm-12,3A5.31,5.31,0,0,0,4.9,8.1,5.31,5.31,0,0,0,1,6.5,5.31,5.31,0,0,0,4.9,4.9,5.31,5.31,0,0,0,6.5,1,5.31,5.31,0,0,0,8.1,4.9,5.31,5.31,0,0,0,12,6.5,5.46,5.46,0,0,0,6.5,12Z\"/>\n",
              "  </svg>\n",
              "    </button>\n",
              "    <script>\n",
              "      (() => {\n",
              "      const buttonEl =\n",
              "        document.querySelector('#id_072b4761-9f62-4af8-850e-42f57dd6d3e1 button.colab-df-generate');\n",
              "      buttonEl.style.display =\n",
              "        google.colab.kernel.accessAllowed ? 'block' : 'none';\n",
              "\n",
              "      buttonEl.onclick = () => {\n",
              "        google.colab.notebook.generateWithVariable('df');\n",
              "      }\n",
              "      })();\n",
              "    </script>\n",
              "  </div>\n",
              "\n",
              "    </div>\n",
              "  </div>\n"
            ],
            "application/vnd.google.colaboratory.intrinsic+json": {
              "type": "dataframe",
              "variable_name": "df",
              "summary": "{\n  \"name\": \"df\",\n  \"rows\": 12,\n  \"fields\": [\n    {\n      \"column\": \"personaje\",\n      \"properties\": {\n        \"dtype\": \"category\",\n        \"num_unique_values\": 3,\n        \"samples\": [\n          \"Jefe de los Minisupers\",\n          \"Apu\",\n          \"Homer\"\n        ],\n        \"semantic_type\": \"\",\n        \"description\": \"\"\n      }\n    },\n    {\n      \"column\": \"tiempo\",\n      \"properties\": {\n        \"dtype\": \"string\",\n        \"num_unique_values\": 12,\n        \"samples\": [\n          \"16'29''\",\n          \"16'2''\",\n          \"14'49''\"\n        ],\n        \"semantic_type\": \"\",\n        \"description\": \"\"\n      }\n    },\n    {\n      \"column\": \"texto\",\n      \"properties\": {\n        \"dtype\": \"string\",\n        \"num_unique_values\": 11,\n        \"samples\": [\n          \"\\u00bfEst\\u00e1 seguro?\",\n          \"Pod\\u00e9is hacerme tres preguntas.\",\n          \"Pero.\"\n        ],\n        \"semantic_type\": \"\",\n        \"description\": \"\"\n      }\n    }\n  ]\n}"
            }
          },
          "metadata": {},
          "execution_count": 12
        }
      ],
      "source": [
        "df = pd.DataFrame(script) # Dataframe de pandas\n",
        "df.columns = [\"personaje\",\"tiempo\",\"texto\"]\n",
        "df"
      ]
    },
    {
      "cell_type": "code",
      "execution_count": null,
      "metadata": {
        "id": "WVi9z5g8wrrk",
        "outputId": "ad6b36ab-d2d0-4c9b-b6a7-9ddf61a2fff5",
        "colab": {
          "base_uri": "https://localhost:8080/",
          "height": 237
        }
      },
      "outputs": [
        {
          "output_type": "execute_result",
          "data": {
            "text/plain": [
              "                 personaje   tiempo                               texto\n",
              "0   Jefe de los Minisupers  14'49''      Podéis hacerme tres preguntas.\n",
              "3   Jefe de los Minisupers  15'13''                             Así es.\n",
              "5   Jefe de los Minisupers  15'38''                             Así es.\n",
              "7   Jefe de los Minisupers      16'  Sí. Espero que los haya iluminado.\n",
              "9   Jefe de los Minisupers   16'2''             Gracias. Vuelva pronto.\n",
              "11  Jefe de los Minisupers  16'33''         Graciaaaaas. Vuelva pronto."
            ],
            "text/html": [
              "\n",
              "  <div id=\"df-cb3f3957-a95b-47a6-a769-c31d5d8ff4f3\" class=\"colab-df-container\">\n",
              "    <div>\n",
              "<style scoped>\n",
              "    .dataframe tbody tr th:only-of-type {\n",
              "        vertical-align: middle;\n",
              "    }\n",
              "\n",
              "    .dataframe tbody tr th {\n",
              "        vertical-align: top;\n",
              "    }\n",
              "\n",
              "    .dataframe thead th {\n",
              "        text-align: right;\n",
              "    }\n",
              "</style>\n",
              "<table border=\"1\" class=\"dataframe\">\n",
              "  <thead>\n",
              "    <tr style=\"text-align: right;\">\n",
              "      <th></th>\n",
              "      <th>personaje</th>\n",
              "      <th>tiempo</th>\n",
              "      <th>texto</th>\n",
              "    </tr>\n",
              "  </thead>\n",
              "  <tbody>\n",
              "    <tr>\n",
              "      <th>0</th>\n",
              "      <td>Jefe de los Minisupers</td>\n",
              "      <td>14'49''</td>\n",
              "      <td>Podéis hacerme tres preguntas.</td>\n",
              "    </tr>\n",
              "    <tr>\n",
              "      <th>3</th>\n",
              "      <td>Jefe de los Minisupers</td>\n",
              "      <td>15'13''</td>\n",
              "      <td>Así es.</td>\n",
              "    </tr>\n",
              "    <tr>\n",
              "      <th>5</th>\n",
              "      <td>Jefe de los Minisupers</td>\n",
              "      <td>15'38''</td>\n",
              "      <td>Así es.</td>\n",
              "    </tr>\n",
              "    <tr>\n",
              "      <th>7</th>\n",
              "      <td>Jefe de los Minisupers</td>\n",
              "      <td>16'</td>\n",
              "      <td>Sí. Espero que los haya iluminado.</td>\n",
              "    </tr>\n",
              "    <tr>\n",
              "      <th>9</th>\n",
              "      <td>Jefe de los Minisupers</td>\n",
              "      <td>16'2''</td>\n",
              "      <td>Gracias. Vuelva pronto.</td>\n",
              "    </tr>\n",
              "    <tr>\n",
              "      <th>11</th>\n",
              "      <td>Jefe de los Minisupers</td>\n",
              "      <td>16'33''</td>\n",
              "      <td>Graciaaaaas. Vuelva pronto.</td>\n",
              "    </tr>\n",
              "  </tbody>\n",
              "</table>\n",
              "</div>\n",
              "    <div class=\"colab-df-buttons\">\n",
              "\n",
              "  <div class=\"colab-df-container\">\n",
              "    <button class=\"colab-df-convert\" onclick=\"convertToInteractive('df-cb3f3957-a95b-47a6-a769-c31d5d8ff4f3')\"\n",
              "            title=\"Convert this dataframe to an interactive table.\"\n",
              "            style=\"display:none;\">\n",
              "\n",
              "  <svg xmlns=\"http://www.w3.org/2000/svg\" height=\"24px\" viewBox=\"0 -960 960 960\">\n",
              "    <path d=\"M120-120v-720h720v720H120Zm60-500h600v-160H180v160Zm220 220h160v-160H400v160Zm0 220h160v-160H400v160ZM180-400h160v-160H180v160Zm440 0h160v-160H620v160ZM180-180h160v-160H180v160Zm440 0h160v-160H620v160Z\"/>\n",
              "  </svg>\n",
              "    </button>\n",
              "\n",
              "  <style>\n",
              "    .colab-df-container {\n",
              "      display:flex;\n",
              "      gap: 12px;\n",
              "    }\n",
              "\n",
              "    .colab-df-convert {\n",
              "      background-color: #E8F0FE;\n",
              "      border: none;\n",
              "      border-radius: 50%;\n",
              "      cursor: pointer;\n",
              "      display: none;\n",
              "      fill: #1967D2;\n",
              "      height: 32px;\n",
              "      padding: 0 0 0 0;\n",
              "      width: 32px;\n",
              "    }\n",
              "\n",
              "    .colab-df-convert:hover {\n",
              "      background-color: #E2EBFA;\n",
              "      box-shadow: 0px 1px 2px rgba(60, 64, 67, 0.3), 0px 1px 3px 1px rgba(60, 64, 67, 0.15);\n",
              "      fill: #174EA6;\n",
              "    }\n",
              "\n",
              "    .colab-df-buttons div {\n",
              "      margin-bottom: 4px;\n",
              "    }\n",
              "\n",
              "    [theme=dark] .colab-df-convert {\n",
              "      background-color: #3B4455;\n",
              "      fill: #D2E3FC;\n",
              "    }\n",
              "\n",
              "    [theme=dark] .colab-df-convert:hover {\n",
              "      background-color: #434B5C;\n",
              "      box-shadow: 0px 1px 3px 1px rgba(0, 0, 0, 0.15);\n",
              "      filter: drop-shadow(0px 1px 2px rgba(0, 0, 0, 0.3));\n",
              "      fill: #FFFFFF;\n",
              "    }\n",
              "  </style>\n",
              "\n",
              "    <script>\n",
              "      const buttonEl =\n",
              "        document.querySelector('#df-cb3f3957-a95b-47a6-a769-c31d5d8ff4f3 button.colab-df-convert');\n",
              "      buttonEl.style.display =\n",
              "        google.colab.kernel.accessAllowed ? 'block' : 'none';\n",
              "\n",
              "      async function convertToInteractive(key) {\n",
              "        const element = document.querySelector('#df-cb3f3957-a95b-47a6-a769-c31d5d8ff4f3');\n",
              "        const dataTable =\n",
              "          await google.colab.kernel.invokeFunction('convertToInteractive',\n",
              "                                                    [key], {});\n",
              "        if (!dataTable) return;\n",
              "\n",
              "        const docLinkHtml = 'Like what you see? Visit the ' +\n",
              "          '<a target=\"_blank\" href=https://colab.research.google.com/notebooks/data_table.ipynb>data table notebook</a>'\n",
              "          + ' to learn more about interactive tables.';\n",
              "        element.innerHTML = '';\n",
              "        dataTable['output_type'] = 'display_data';\n",
              "        await google.colab.output.renderOutput(dataTable, element);\n",
              "        const docLink = document.createElement('div');\n",
              "        docLink.innerHTML = docLinkHtml;\n",
              "        element.appendChild(docLink);\n",
              "      }\n",
              "    </script>\n",
              "  </div>\n",
              "\n",
              "\n",
              "    <div id=\"df-1d093be8-aa20-47da-89a6-6a2a4aeb7604\">\n",
              "      <button class=\"colab-df-quickchart\" onclick=\"quickchart('df-1d093be8-aa20-47da-89a6-6a2a4aeb7604')\"\n",
              "                title=\"Suggest charts\"\n",
              "                style=\"display:none;\">\n",
              "\n",
              "<svg xmlns=\"http://www.w3.org/2000/svg\" height=\"24px\"viewBox=\"0 0 24 24\"\n",
              "     width=\"24px\">\n",
              "    <g>\n",
              "        <path d=\"M19 3H5c-1.1 0-2 .9-2 2v14c0 1.1.9 2 2 2h14c1.1 0 2-.9 2-2V5c0-1.1-.9-2-2-2zM9 17H7v-7h2v7zm4 0h-2V7h2v10zm4 0h-2v-4h2v4z\"/>\n",
              "    </g>\n",
              "</svg>\n",
              "      </button>\n",
              "\n",
              "<style>\n",
              "  .colab-df-quickchart {\n",
              "      --bg-color: #E8F0FE;\n",
              "      --fill-color: #1967D2;\n",
              "      --hover-bg-color: #E2EBFA;\n",
              "      --hover-fill-color: #174EA6;\n",
              "      --disabled-fill-color: #AAA;\n",
              "      --disabled-bg-color: #DDD;\n",
              "  }\n",
              "\n",
              "  [theme=dark] .colab-df-quickchart {\n",
              "      --bg-color: #3B4455;\n",
              "      --fill-color: #D2E3FC;\n",
              "      --hover-bg-color: #434B5C;\n",
              "      --hover-fill-color: #FFFFFF;\n",
              "      --disabled-bg-color: #3B4455;\n",
              "      --disabled-fill-color: #666;\n",
              "  }\n",
              "\n",
              "  .colab-df-quickchart {\n",
              "    background-color: var(--bg-color);\n",
              "    border: none;\n",
              "    border-radius: 50%;\n",
              "    cursor: pointer;\n",
              "    display: none;\n",
              "    fill: var(--fill-color);\n",
              "    height: 32px;\n",
              "    padding: 0;\n",
              "    width: 32px;\n",
              "  }\n",
              "\n",
              "  .colab-df-quickchart:hover {\n",
              "    background-color: var(--hover-bg-color);\n",
              "    box-shadow: 0 1px 2px rgba(60, 64, 67, 0.3), 0 1px 3px 1px rgba(60, 64, 67, 0.15);\n",
              "    fill: var(--button-hover-fill-color);\n",
              "  }\n",
              "\n",
              "  .colab-df-quickchart-complete:disabled,\n",
              "  .colab-df-quickchart-complete:disabled:hover {\n",
              "    background-color: var(--disabled-bg-color);\n",
              "    fill: var(--disabled-fill-color);\n",
              "    box-shadow: none;\n",
              "  }\n",
              "\n",
              "  .colab-df-spinner {\n",
              "    border: 2px solid var(--fill-color);\n",
              "    border-color: transparent;\n",
              "    border-bottom-color: var(--fill-color);\n",
              "    animation:\n",
              "      spin 1s steps(1) infinite;\n",
              "  }\n",
              "\n",
              "  @keyframes spin {\n",
              "    0% {\n",
              "      border-color: transparent;\n",
              "      border-bottom-color: var(--fill-color);\n",
              "      border-left-color: var(--fill-color);\n",
              "    }\n",
              "    20% {\n",
              "      border-color: transparent;\n",
              "      border-left-color: var(--fill-color);\n",
              "      border-top-color: var(--fill-color);\n",
              "    }\n",
              "    30% {\n",
              "      border-color: transparent;\n",
              "      border-left-color: var(--fill-color);\n",
              "      border-top-color: var(--fill-color);\n",
              "      border-right-color: var(--fill-color);\n",
              "    }\n",
              "    40% {\n",
              "      border-color: transparent;\n",
              "      border-right-color: var(--fill-color);\n",
              "      border-top-color: var(--fill-color);\n",
              "    }\n",
              "    60% {\n",
              "      border-color: transparent;\n",
              "      border-right-color: var(--fill-color);\n",
              "    }\n",
              "    80% {\n",
              "      border-color: transparent;\n",
              "      border-right-color: var(--fill-color);\n",
              "      border-bottom-color: var(--fill-color);\n",
              "    }\n",
              "    90% {\n",
              "      border-color: transparent;\n",
              "      border-bottom-color: var(--fill-color);\n",
              "    }\n",
              "  }\n",
              "</style>\n",
              "\n",
              "      <script>\n",
              "        async function quickchart(key) {\n",
              "          const quickchartButtonEl =\n",
              "            document.querySelector('#' + key + ' button');\n",
              "          quickchartButtonEl.disabled = true;  // To prevent multiple clicks.\n",
              "          quickchartButtonEl.classList.add('colab-df-spinner');\n",
              "          try {\n",
              "            const charts = await google.colab.kernel.invokeFunction(\n",
              "                'suggestCharts', [key], {});\n",
              "          } catch (error) {\n",
              "            console.error('Error during call to suggestCharts:', error);\n",
              "          }\n",
              "          quickchartButtonEl.classList.remove('colab-df-spinner');\n",
              "          quickchartButtonEl.classList.add('colab-df-quickchart-complete');\n",
              "        }\n",
              "        (() => {\n",
              "          let quickchartButtonEl =\n",
              "            document.querySelector('#df-1d093be8-aa20-47da-89a6-6a2a4aeb7604 button');\n",
              "          quickchartButtonEl.style.display =\n",
              "            google.colab.kernel.accessAllowed ? 'block' : 'none';\n",
              "        })();\n",
              "      </script>\n",
              "    </div>\n",
              "\n",
              "    </div>\n",
              "  </div>\n"
            ],
            "application/vnd.google.colaboratory.intrinsic+json": {
              "type": "dataframe",
              "summary": "{\n  \"name\": \"df[df[\\\"personaje\\\"] == \\\"Jefe de los Minisupers\\\"]\",\n  \"rows\": 6,\n  \"fields\": [\n    {\n      \"column\": \"personaje\",\n      \"properties\": {\n        \"dtype\": \"category\",\n        \"num_unique_values\": 1,\n        \"samples\": [\n          \"Jefe de los Minisupers\"\n        ],\n        \"semantic_type\": \"\",\n        \"description\": \"\"\n      }\n    },\n    {\n      \"column\": \"tiempo\",\n      \"properties\": {\n        \"dtype\": \"string\",\n        \"num_unique_values\": 6,\n        \"samples\": [\n          \"14'49''\"\n        ],\n        \"semantic_type\": \"\",\n        \"description\": \"\"\n      }\n    },\n    {\n      \"column\": \"texto\",\n      \"properties\": {\n        \"dtype\": \"string\",\n        \"num_unique_values\": 5,\n        \"samples\": [\n          \"As\\u00ed es.\"\n        ],\n        \"semantic_type\": \"\",\n        \"description\": \"\"\n      }\n    }\n  ]\n}"
            }
          },
          "metadata": {},
          "execution_count": 13
        }
      ],
      "source": [
        "df[df[\"personaje\"] == \"Jefe de los Minisupers\"]"
      ]
    },
    {
      "cell_type": "code",
      "execution_count": null,
      "metadata": {
        "id": "xp-0F_CZwrrm",
        "outputId": "9b1ccd7a-0b8a-40ed-ab32-ab27878c1312",
        "colab": {
          "base_uri": "https://localhost:8080/"
        }
      },
      "outputs": [
        {
          "output_type": "execute_result",
          "data": {
            "text/plain": [
              "[['Jefe de los Minisupers',\n",
              "  '14',\n",
              "  '49',\n",
              "  'Podéis hacerme tres preguntas.',\n",
              "  (0, 63)],\n",
              " ['Apu', '14', '58', 'Qué bueno, porque sólo necesito una.', (64, 114)],\n",
              " ['Homer', '15', '05', '¿Usted es el Jefe de los Minisupers?', (115, 167)],\n",
              " ['Jefe de los Minisupers', '15', '13', 'Así es.', (168, 208)],\n",
              " ['Homer', '15', '22', '¿Usted?', (209, 232)],\n",
              " ['Jefe de los Minisupers', '15', '38', 'Así es.', (233, 273)],\n",
              " ['Homer', '15', '41', '¿Está seguro?', (274, 303)],\n",
              " ['Jefe de los Minisupers',\n",
              "  '16',\n",
              "  '',\n",
              "  'Sí. Espero que los haya iluminado.',\n",
              "  (304, 367)],\n",
              " ['Apu', '16', '11', 'Pero tengo que...', (368, 399)],\n",
              " ['Jefe de los Minisupers', '16', '2', 'Gracias. Vuelva pronto.', (400, 455)],\n",
              " ['Apu', '16', '29', 'Pero.', (456, 475)],\n",
              " ['Jefe de los Minisupers',\n",
              "  '16',\n",
              "  '33',\n",
              "  'Graciaaaaas. Vuelva pronto.',\n",
              "  (476, 536)]]"
            ]
          },
          "metadata": {},
          "execution_count": 14
        }
      ],
      "source": [
        "# re.finditer(pattern, string) devuelve un iterador de MatchObjects\n",
        "script_iterator = re.finditer(r\"\\((.*)\\) (\\d\\d'\\d{0,2}'{0,2}) (.*)\", texto)\n",
        "scripts = []\n",
        "for match in script_iterator:\n",
        "    g1 = match.group(1)\n",
        "    g2_min = match.group(2).split(\"'\")[0] #  \"16'33''\".split(\"'\") -> ['16', '33', '', '']\n",
        "    g2_seg = match.group(2).split(\"'\")[1]\n",
        "    g3 = match.group(3)\n",
        "    span = match.span()\n",
        "    scripts.append([g1,g2_min,g2_seg,g3,span])\n",
        "\n",
        "scripts"
      ]
    },
    {
      "cell_type": "code",
      "execution_count": null,
      "metadata": {
        "id": "uk39__V1wrrn",
        "outputId": "053f84f1-1099-4940-e4e2-0349127270bc",
        "colab": {
          "base_uri": "https://localhost:8080/",
          "height": 425
        }
      },
      "outputs": [
        {
          "output_type": "execute_result",
          "data": {
            "text/plain": [
              "                 personaje min seg                                 texto  \\\n",
              "0   Jefe de los Minisupers  14  49        Podéis hacerme tres preguntas.   \n",
              "1                      Apu  14  58  Qué bueno, porque sólo necesito una.   \n",
              "2                    Homer  15  05  ¿Usted es el Jefe de los Minisupers?   \n",
              "3   Jefe de los Minisupers  15  13                               Así es.   \n",
              "4                    Homer  15  22                               ¿Usted?   \n",
              "5   Jefe de los Minisupers  15  38                               Así es.   \n",
              "6                    Homer  15  41                         ¿Está seguro?   \n",
              "7   Jefe de los Minisupers  16        Sí. Espero que los haya iluminado.   \n",
              "8                      Apu  16  11                     Pero tengo que...   \n",
              "9   Jefe de los Minisupers  16   2               Gracias. Vuelva pronto.   \n",
              "10                     Apu  16  29                                 Pero.   \n",
              "11  Jefe de los Minisupers  16  33           Graciaaaaas. Vuelva pronto.   \n",
              "\n",
              "       indices  \n",
              "0      (0, 63)  \n",
              "1    (64, 114)  \n",
              "2   (115, 167)  \n",
              "3   (168, 208)  \n",
              "4   (209, 232)  \n",
              "5   (233, 273)  \n",
              "6   (274, 303)  \n",
              "7   (304, 367)  \n",
              "8   (368, 399)  \n",
              "9   (400, 455)  \n",
              "10  (456, 475)  \n",
              "11  (476, 536)  "
            ],
            "text/html": [
              "\n",
              "  <div id=\"df-feceb835-b61a-466d-93a4-7280a5b98f4b\" class=\"colab-df-container\">\n",
              "    <div>\n",
              "<style scoped>\n",
              "    .dataframe tbody tr th:only-of-type {\n",
              "        vertical-align: middle;\n",
              "    }\n",
              "\n",
              "    .dataframe tbody tr th {\n",
              "        vertical-align: top;\n",
              "    }\n",
              "\n",
              "    .dataframe thead th {\n",
              "        text-align: right;\n",
              "    }\n",
              "</style>\n",
              "<table border=\"1\" class=\"dataframe\">\n",
              "  <thead>\n",
              "    <tr style=\"text-align: right;\">\n",
              "      <th></th>\n",
              "      <th>personaje</th>\n",
              "      <th>min</th>\n",
              "      <th>seg</th>\n",
              "      <th>texto</th>\n",
              "      <th>indices</th>\n",
              "    </tr>\n",
              "  </thead>\n",
              "  <tbody>\n",
              "    <tr>\n",
              "      <th>0</th>\n",
              "      <td>Jefe de los Minisupers</td>\n",
              "      <td>14</td>\n",
              "      <td>49</td>\n",
              "      <td>Podéis hacerme tres preguntas.</td>\n",
              "      <td>(0, 63)</td>\n",
              "    </tr>\n",
              "    <tr>\n",
              "      <th>1</th>\n",
              "      <td>Apu</td>\n",
              "      <td>14</td>\n",
              "      <td>58</td>\n",
              "      <td>Qué bueno, porque sólo necesito una.</td>\n",
              "      <td>(64, 114)</td>\n",
              "    </tr>\n",
              "    <tr>\n",
              "      <th>2</th>\n",
              "      <td>Homer</td>\n",
              "      <td>15</td>\n",
              "      <td>05</td>\n",
              "      <td>¿Usted es el Jefe de los Minisupers?</td>\n",
              "      <td>(115, 167)</td>\n",
              "    </tr>\n",
              "    <tr>\n",
              "      <th>3</th>\n",
              "      <td>Jefe de los Minisupers</td>\n",
              "      <td>15</td>\n",
              "      <td>13</td>\n",
              "      <td>Así es.</td>\n",
              "      <td>(168, 208)</td>\n",
              "    </tr>\n",
              "    <tr>\n",
              "      <th>4</th>\n",
              "      <td>Homer</td>\n",
              "      <td>15</td>\n",
              "      <td>22</td>\n",
              "      <td>¿Usted?</td>\n",
              "      <td>(209, 232)</td>\n",
              "    </tr>\n",
              "    <tr>\n",
              "      <th>5</th>\n",
              "      <td>Jefe de los Minisupers</td>\n",
              "      <td>15</td>\n",
              "      <td>38</td>\n",
              "      <td>Así es.</td>\n",
              "      <td>(233, 273)</td>\n",
              "    </tr>\n",
              "    <tr>\n",
              "      <th>6</th>\n",
              "      <td>Homer</td>\n",
              "      <td>15</td>\n",
              "      <td>41</td>\n",
              "      <td>¿Está seguro?</td>\n",
              "      <td>(274, 303)</td>\n",
              "    </tr>\n",
              "    <tr>\n",
              "      <th>7</th>\n",
              "      <td>Jefe de los Minisupers</td>\n",
              "      <td>16</td>\n",
              "      <td></td>\n",
              "      <td>Sí. Espero que los haya iluminado.</td>\n",
              "      <td>(304, 367)</td>\n",
              "    </tr>\n",
              "    <tr>\n",
              "      <th>8</th>\n",
              "      <td>Apu</td>\n",
              "      <td>16</td>\n",
              "      <td>11</td>\n",
              "      <td>Pero tengo que...</td>\n",
              "      <td>(368, 399)</td>\n",
              "    </tr>\n",
              "    <tr>\n",
              "      <th>9</th>\n",
              "      <td>Jefe de los Minisupers</td>\n",
              "      <td>16</td>\n",
              "      <td>2</td>\n",
              "      <td>Gracias. Vuelva pronto.</td>\n",
              "      <td>(400, 455)</td>\n",
              "    </tr>\n",
              "    <tr>\n",
              "      <th>10</th>\n",
              "      <td>Apu</td>\n",
              "      <td>16</td>\n",
              "      <td>29</td>\n",
              "      <td>Pero.</td>\n",
              "      <td>(456, 475)</td>\n",
              "    </tr>\n",
              "    <tr>\n",
              "      <th>11</th>\n",
              "      <td>Jefe de los Minisupers</td>\n",
              "      <td>16</td>\n",
              "      <td>33</td>\n",
              "      <td>Graciaaaaas. Vuelva pronto.</td>\n",
              "      <td>(476, 536)</td>\n",
              "    </tr>\n",
              "  </tbody>\n",
              "</table>\n",
              "</div>\n",
              "    <div class=\"colab-df-buttons\">\n",
              "\n",
              "  <div class=\"colab-df-container\">\n",
              "    <button class=\"colab-df-convert\" onclick=\"convertToInteractive('df-feceb835-b61a-466d-93a4-7280a5b98f4b')\"\n",
              "            title=\"Convert this dataframe to an interactive table.\"\n",
              "            style=\"display:none;\">\n",
              "\n",
              "  <svg xmlns=\"http://www.w3.org/2000/svg\" height=\"24px\" viewBox=\"0 -960 960 960\">\n",
              "    <path d=\"M120-120v-720h720v720H120Zm60-500h600v-160H180v160Zm220 220h160v-160H400v160Zm0 220h160v-160H400v160ZM180-400h160v-160H180v160Zm440 0h160v-160H620v160ZM180-180h160v-160H180v160Zm440 0h160v-160H620v160Z\"/>\n",
              "  </svg>\n",
              "    </button>\n",
              "\n",
              "  <style>\n",
              "    .colab-df-container {\n",
              "      display:flex;\n",
              "      gap: 12px;\n",
              "    }\n",
              "\n",
              "    .colab-df-convert {\n",
              "      background-color: #E8F0FE;\n",
              "      border: none;\n",
              "      border-radius: 50%;\n",
              "      cursor: pointer;\n",
              "      display: none;\n",
              "      fill: #1967D2;\n",
              "      height: 32px;\n",
              "      padding: 0 0 0 0;\n",
              "      width: 32px;\n",
              "    }\n",
              "\n",
              "    .colab-df-convert:hover {\n",
              "      background-color: #E2EBFA;\n",
              "      box-shadow: 0px 1px 2px rgba(60, 64, 67, 0.3), 0px 1px 3px 1px rgba(60, 64, 67, 0.15);\n",
              "      fill: #174EA6;\n",
              "    }\n",
              "\n",
              "    .colab-df-buttons div {\n",
              "      margin-bottom: 4px;\n",
              "    }\n",
              "\n",
              "    [theme=dark] .colab-df-convert {\n",
              "      background-color: #3B4455;\n",
              "      fill: #D2E3FC;\n",
              "    }\n",
              "\n",
              "    [theme=dark] .colab-df-convert:hover {\n",
              "      background-color: #434B5C;\n",
              "      box-shadow: 0px 1px 3px 1px rgba(0, 0, 0, 0.15);\n",
              "      filter: drop-shadow(0px 1px 2px rgba(0, 0, 0, 0.3));\n",
              "      fill: #FFFFFF;\n",
              "    }\n",
              "  </style>\n",
              "\n",
              "    <script>\n",
              "      const buttonEl =\n",
              "        document.querySelector('#df-feceb835-b61a-466d-93a4-7280a5b98f4b button.colab-df-convert');\n",
              "      buttonEl.style.display =\n",
              "        google.colab.kernel.accessAllowed ? 'block' : 'none';\n",
              "\n",
              "      async function convertToInteractive(key) {\n",
              "        const element = document.querySelector('#df-feceb835-b61a-466d-93a4-7280a5b98f4b');\n",
              "        const dataTable =\n",
              "          await google.colab.kernel.invokeFunction('convertToInteractive',\n",
              "                                                    [key], {});\n",
              "        if (!dataTable) return;\n",
              "\n",
              "        const docLinkHtml = 'Like what you see? Visit the ' +\n",
              "          '<a target=\"_blank\" href=https://colab.research.google.com/notebooks/data_table.ipynb>data table notebook</a>'\n",
              "          + ' to learn more about interactive tables.';\n",
              "        element.innerHTML = '';\n",
              "        dataTable['output_type'] = 'display_data';\n",
              "        await google.colab.output.renderOutput(dataTable, element);\n",
              "        const docLink = document.createElement('div');\n",
              "        docLink.innerHTML = docLinkHtml;\n",
              "        element.appendChild(docLink);\n",
              "      }\n",
              "    </script>\n",
              "  </div>\n",
              "\n",
              "\n",
              "    <div id=\"df-cb5b65ee-c692-4983-ac75-564036e06b3a\">\n",
              "      <button class=\"colab-df-quickchart\" onclick=\"quickchart('df-cb5b65ee-c692-4983-ac75-564036e06b3a')\"\n",
              "                title=\"Suggest charts\"\n",
              "                style=\"display:none;\">\n",
              "\n",
              "<svg xmlns=\"http://www.w3.org/2000/svg\" height=\"24px\"viewBox=\"0 0 24 24\"\n",
              "     width=\"24px\">\n",
              "    <g>\n",
              "        <path d=\"M19 3H5c-1.1 0-2 .9-2 2v14c0 1.1.9 2 2 2h14c1.1 0 2-.9 2-2V5c0-1.1-.9-2-2-2zM9 17H7v-7h2v7zm4 0h-2V7h2v10zm4 0h-2v-4h2v4z\"/>\n",
              "    </g>\n",
              "</svg>\n",
              "      </button>\n",
              "\n",
              "<style>\n",
              "  .colab-df-quickchart {\n",
              "      --bg-color: #E8F0FE;\n",
              "      --fill-color: #1967D2;\n",
              "      --hover-bg-color: #E2EBFA;\n",
              "      --hover-fill-color: #174EA6;\n",
              "      --disabled-fill-color: #AAA;\n",
              "      --disabled-bg-color: #DDD;\n",
              "  }\n",
              "\n",
              "  [theme=dark] .colab-df-quickchart {\n",
              "      --bg-color: #3B4455;\n",
              "      --fill-color: #D2E3FC;\n",
              "      --hover-bg-color: #434B5C;\n",
              "      --hover-fill-color: #FFFFFF;\n",
              "      --disabled-bg-color: #3B4455;\n",
              "      --disabled-fill-color: #666;\n",
              "  }\n",
              "\n",
              "  .colab-df-quickchart {\n",
              "    background-color: var(--bg-color);\n",
              "    border: none;\n",
              "    border-radius: 50%;\n",
              "    cursor: pointer;\n",
              "    display: none;\n",
              "    fill: var(--fill-color);\n",
              "    height: 32px;\n",
              "    padding: 0;\n",
              "    width: 32px;\n",
              "  }\n",
              "\n",
              "  .colab-df-quickchart:hover {\n",
              "    background-color: var(--hover-bg-color);\n",
              "    box-shadow: 0 1px 2px rgba(60, 64, 67, 0.3), 0 1px 3px 1px rgba(60, 64, 67, 0.15);\n",
              "    fill: var(--button-hover-fill-color);\n",
              "  }\n",
              "\n",
              "  .colab-df-quickchart-complete:disabled,\n",
              "  .colab-df-quickchart-complete:disabled:hover {\n",
              "    background-color: var(--disabled-bg-color);\n",
              "    fill: var(--disabled-fill-color);\n",
              "    box-shadow: none;\n",
              "  }\n",
              "\n",
              "  .colab-df-spinner {\n",
              "    border: 2px solid var(--fill-color);\n",
              "    border-color: transparent;\n",
              "    border-bottom-color: var(--fill-color);\n",
              "    animation:\n",
              "      spin 1s steps(1) infinite;\n",
              "  }\n",
              "\n",
              "  @keyframes spin {\n",
              "    0% {\n",
              "      border-color: transparent;\n",
              "      border-bottom-color: var(--fill-color);\n",
              "      border-left-color: var(--fill-color);\n",
              "    }\n",
              "    20% {\n",
              "      border-color: transparent;\n",
              "      border-left-color: var(--fill-color);\n",
              "      border-top-color: var(--fill-color);\n",
              "    }\n",
              "    30% {\n",
              "      border-color: transparent;\n",
              "      border-left-color: var(--fill-color);\n",
              "      border-top-color: var(--fill-color);\n",
              "      border-right-color: var(--fill-color);\n",
              "    }\n",
              "    40% {\n",
              "      border-color: transparent;\n",
              "      border-right-color: var(--fill-color);\n",
              "      border-top-color: var(--fill-color);\n",
              "    }\n",
              "    60% {\n",
              "      border-color: transparent;\n",
              "      border-right-color: var(--fill-color);\n",
              "    }\n",
              "    80% {\n",
              "      border-color: transparent;\n",
              "      border-right-color: var(--fill-color);\n",
              "      border-bottom-color: var(--fill-color);\n",
              "    }\n",
              "    90% {\n",
              "      border-color: transparent;\n",
              "      border-bottom-color: var(--fill-color);\n",
              "    }\n",
              "  }\n",
              "</style>\n",
              "\n",
              "      <script>\n",
              "        async function quickchart(key) {\n",
              "          const quickchartButtonEl =\n",
              "            document.querySelector('#' + key + ' button');\n",
              "          quickchartButtonEl.disabled = true;  // To prevent multiple clicks.\n",
              "          quickchartButtonEl.classList.add('colab-df-spinner');\n",
              "          try {\n",
              "            const charts = await google.colab.kernel.invokeFunction(\n",
              "                'suggestCharts', [key], {});\n",
              "          } catch (error) {\n",
              "            console.error('Error during call to suggestCharts:', error);\n",
              "          }\n",
              "          quickchartButtonEl.classList.remove('colab-df-spinner');\n",
              "          quickchartButtonEl.classList.add('colab-df-quickchart-complete');\n",
              "        }\n",
              "        (() => {\n",
              "          let quickchartButtonEl =\n",
              "            document.querySelector('#df-cb5b65ee-c692-4983-ac75-564036e06b3a button');\n",
              "          quickchartButtonEl.style.display =\n",
              "            google.colab.kernel.accessAllowed ? 'block' : 'none';\n",
              "        })();\n",
              "      </script>\n",
              "    </div>\n",
              "\n",
              "  <div id=\"id_8b90a676-b0dc-4c2f-8fb8-00ffd0b9ed0b\">\n",
              "    <style>\n",
              "      .colab-df-generate {\n",
              "        background-color: #E8F0FE;\n",
              "        border: none;\n",
              "        border-radius: 50%;\n",
              "        cursor: pointer;\n",
              "        display: none;\n",
              "        fill: #1967D2;\n",
              "        height: 32px;\n",
              "        padding: 0 0 0 0;\n",
              "        width: 32px;\n",
              "      }\n",
              "\n",
              "      .colab-df-generate:hover {\n",
              "        background-color: #E2EBFA;\n",
              "        box-shadow: 0px 1px 2px rgba(60, 64, 67, 0.3), 0px 1px 3px 1px rgba(60, 64, 67, 0.15);\n",
              "        fill: #174EA6;\n",
              "      }\n",
              "\n",
              "      [theme=dark] .colab-df-generate {\n",
              "        background-color: #3B4455;\n",
              "        fill: #D2E3FC;\n",
              "      }\n",
              "\n",
              "      [theme=dark] .colab-df-generate:hover {\n",
              "        background-color: #434B5C;\n",
              "        box-shadow: 0px 1px 3px 1px rgba(0, 0, 0, 0.15);\n",
              "        filter: drop-shadow(0px 1px 2px rgba(0, 0, 0, 0.3));\n",
              "        fill: #FFFFFF;\n",
              "      }\n",
              "    </style>\n",
              "    <button class=\"colab-df-generate\" onclick=\"generateWithVariable('df_scripts')\"\n",
              "            title=\"Generate code using this dataframe.\"\n",
              "            style=\"display:none;\">\n",
              "\n",
              "  <svg xmlns=\"http://www.w3.org/2000/svg\" height=\"24px\"viewBox=\"0 0 24 24\"\n",
              "       width=\"24px\">\n",
              "    <path d=\"M7,19H8.4L18.45,9,17,7.55,7,17.6ZM5,21V16.75L18.45,3.32a2,2,0,0,1,2.83,0l1.4,1.43a1.91,1.91,0,0,1,.58,1.4,1.91,1.91,0,0,1-.58,1.4L9.25,21ZM18.45,9,17,7.55Zm-12,3A5.31,5.31,0,0,0,4.9,8.1,5.31,5.31,0,0,0,1,6.5,5.31,5.31,0,0,0,4.9,4.9,5.31,5.31,0,0,0,6.5,1,5.31,5.31,0,0,0,8.1,4.9,5.31,5.31,0,0,0,12,6.5,5.46,5.46,0,0,0,6.5,12Z\"/>\n",
              "  </svg>\n",
              "    </button>\n",
              "    <script>\n",
              "      (() => {\n",
              "      const buttonEl =\n",
              "        document.querySelector('#id_8b90a676-b0dc-4c2f-8fb8-00ffd0b9ed0b button.colab-df-generate');\n",
              "      buttonEl.style.display =\n",
              "        google.colab.kernel.accessAllowed ? 'block' : 'none';\n",
              "\n",
              "      buttonEl.onclick = () => {\n",
              "        google.colab.notebook.generateWithVariable('df_scripts');\n",
              "      }\n",
              "      })();\n",
              "    </script>\n",
              "  </div>\n",
              "\n",
              "    </div>\n",
              "  </div>\n"
            ],
            "application/vnd.google.colaboratory.intrinsic+json": {
              "type": "dataframe",
              "variable_name": "df_scripts",
              "summary": "{\n  \"name\": \"df_scripts\",\n  \"rows\": 12,\n  \"fields\": [\n    {\n      \"column\": \"personaje\",\n      \"properties\": {\n        \"dtype\": \"category\",\n        \"num_unique_values\": 3,\n        \"samples\": [\n          \"Jefe de los Minisupers\",\n          \"Apu\",\n          \"Homer\"\n        ],\n        \"semantic_type\": \"\",\n        \"description\": \"\"\n      }\n    },\n    {\n      \"column\": \"min\",\n      \"properties\": {\n        \"dtype\": \"category\",\n        \"num_unique_values\": 3,\n        \"samples\": [\n          \"14\",\n          \"15\",\n          \"16\"\n        ],\n        \"semantic_type\": \"\",\n        \"description\": \"\"\n      }\n    },\n    {\n      \"column\": \"seg\",\n      \"properties\": {\n        \"dtype\": \"string\",\n        \"num_unique_values\": 12,\n        \"samples\": [\n          \"29\",\n          \"2\",\n          \"49\"\n        ],\n        \"semantic_type\": \"\",\n        \"description\": \"\"\n      }\n    },\n    {\n      \"column\": \"texto\",\n      \"properties\": {\n        \"dtype\": \"string\",\n        \"num_unique_values\": 11,\n        \"samples\": [\n          \"\\u00bfEst\\u00e1 seguro?\",\n          \"Pod\\u00e9is hacerme tres preguntas.\",\n          \"Pero.\"\n        ],\n        \"semantic_type\": \"\",\n        \"description\": \"\"\n      }\n    },\n    {\n      \"column\": \"indices\",\n      \"properties\": {\n        \"dtype\": \"string\",\n        \"num_unique_values\": 12,\n        \"samples\": [\n          [\n            456,\n            475\n          ],\n          [\n            400,\n            455\n          ],\n          [\n            0,\n            63\n          ]\n        ],\n        \"semantic_type\": \"\",\n        \"description\": \"\"\n      }\n    }\n  ]\n}"
            }
          },
          "metadata": {},
          "execution_count": 15
        }
      ],
      "source": [
        "df_scripts = pd.DataFrame(scripts)\n",
        "df_scripts.columns = [\"personaje\",\"min\",\"seg\",\"texto\",\"indices\"]\n",
        "df_scripts"
      ]
    },
    {
      "cell_type": "markdown",
      "metadata": {
        "id": "7Fjk88gdwrrp"
      },
      "source": [
        "### Más sobre grupos"
      ]
    },
    {
      "cell_type": "markdown",
      "metadata": {
        "id": "G555Edqhwrrq"
      },
      "source": [
        "#### Hallar el hablante y los tiempos en los que habla.  Pero solo para Homero o Apu"
      ]
    },
    {
      "cell_type": "code",
      "execution_count": null,
      "metadata": {
        "id": "zbm-Z4iSwrrr",
        "outputId": "16b4a2fc-41a1-4e8a-d119-4a0c5518e6c3",
        "colab": {
          "base_uri": "https://localhost:8080/"
        }
      },
      "outputs": [
        {
          "output_type": "execute_result",
          "data": {
            "text/plain": [
              "[\"(Apu) 14'58''\",\n",
              " \"(Homer) 15'05''\",\n",
              " \"(Homer) 15'22''\",\n",
              " \"(Homer) 15'41''\",\n",
              " \"(Apu) 16'11''\",\n",
              " \"(Apu) 16'29''\"]"
            ]
          },
          "metadata": {},
          "execution_count": 16
        }
      ],
      "source": [
        "# (?:...) No identifica el contenido del parentesis con un grupo\n",
        "re.findall(r\"\\((?:Homer|Apu)\\) \\d\\d'\\d{0,2}'{0,2}\",texto)"
      ]
    },
    {
      "cell_type": "markdown",
      "metadata": {
        "id": "8xlA1qD-wrru"
      },
      "source": [
        "#### Cambiar \"(Personaje)\" por \"Personaje:\" en el texto"
      ]
    },
    {
      "cell_type": "code",
      "execution_count": null,
      "metadata": {
        "id": "YUwTf9eNwrru",
        "outputId": "83d852b3-d81c-4869-8982-18ede765c080",
        "colab": {
          "base_uri": "https://localhost:8080/",
          "height": 88
        }
      },
      "outputs": [
        {
          "output_type": "execute_result",
          "data": {
            "text/plain": [
              "\"Jefe de los Minisupers: 14'49'' Podéis hacerme tres preguntas.\\nApu: 14'58'' Qué bueno, porque sólo necesito una.\\nHomer: 15'05'' ¿Usted es el Jefe de los Minisupers?\\nJefe de los Minisupers: 15'13'' Así es.\\nHomer: 15'22'' ¿Usted?\\nJefe de los Minisupers: 15'38'' Así es.\\nHomer: 15'41'' ¿Está seguro?\\nJefe de los Minisupers: 16' Sí. Espero que los haya iluminado.\\nApu: 16'11'' Pero tengo que...\\nJefe de los Minisupers: 16'2'' Gracias. Vuelva pronto.\\nApu: 16'29'' Pero.\\nJefe de los Minisupers: 16'33'' Graciaaaaas. Vuelva pronto.\""
            ],
            "application/vnd.google.colaboratory.intrinsic+json": {
              "type": "string"
            }
          },
          "metadata": {},
          "execution_count": 17
        }
      ],
      "source": [
        "re.sub(r\"\\((.*)\\)\",\"\\g<1>:\",texto)"
      ]
    },
    {
      "cell_type": "markdown",
      "metadata": {
        "id": "cOtBl8CKwrrw"
      },
      "source": [
        "#### Cambiar el texto precedido por \"Jefe de los Minisupers:\""
      ]
    },
    {
      "cell_type": "code",
      "execution_count": null,
      "metadata": {
        "id": "CngUQq8ywrrw",
        "outputId": "d2265774-130a-4c3c-b7d7-51dba954876d",
        "colab": {
          "base_uri": "https://localhost:8080/"
        }
      },
      "outputs": [
        {
          "output_type": "stream",
          "name": "stdout",
          "text": [
            "(Jefe de los Minisupers) 14'49'' Podéis hacerme tres preguntas.\n",
            "(Apu) 14'58'' Qué bueno, porque sólo necesito una.\n",
            "(Homer) 15'05'' ¿Usted es el Jefe de los Minisupers?\n",
            "(Jefe de los Minisupers) 15'13'' Así es.\n",
            "(Homer) 15'22'' ¿Usted?\n",
            "(Jefe de los Minisupers) 15'38'' Así es.\n",
            "(Homer) 15'41'' ¿Está seguro?\n",
            "(Jefe de los Minisupers) 16' Sí. Espero que los haya iluminado.\n",
            "(Apu) 16'11'' Pero tengo que...\n",
            "(Jefe de los Minisupers) 16'2'' Gracias. Vuelva pronto.\n",
            "(Apu) 16'29'' Pero.\n",
            "(Jefe de los Minisupers) 16'33'' Graciaaaaas. Vuelva pronto.\n"
          ]
        }
      ],
      "source": [
        "# machea si es precedido por un match de (?<=...)\n",
        "print(re.sub(r\"(?<=Jefe de los Minisupers:).*\",\" PALABRAS SANTAS\",texto))"
      ]
    },
    {
      "cell_type": "markdown",
      "metadata": {
        "id": "i3w7DDJvwrry"
      },
      "source": [
        "### Greedy vs Non Greedy"
      ]
    },
    {
      "cell_type": "code",
      "execution_count": null,
      "metadata": {
        "id": "yjDYEde5lAW_",
        "outputId": "8235a285-6a83-4b39-884d-943d3936c753",
        "colab": {
          "base_uri": "https://localhost:8080/",
          "height": 53
        }
      },
      "outputs": [
        {
          "output_type": "execute_result",
          "data": {
            "text/plain": [
              "'Podéis hacerme tres preguntas. Qué bueno, porque sólo necesito una. ¿Usted es el Jefe de los Minisupers? Así es. ¿Usted? Así es. ¿Está seguro? Sí. Espero que los haya iluminado. Pero tengo que... Gracias. Vuelva pronto. Pero. Graciaaaaas. Vuelva pronto.'"
            ],
            "application/vnd.google.colaboratory.intrinsic+json": {
              "type": "string"
            }
          },
          "metadata": {},
          "execution_count": 19
        }
      ],
      "source": [
        "textos = \" \".join(df_scripts[\"texto\"])\n",
        "textos"
      ]
    },
    {
      "cell_type": "code",
      "execution_count": null,
      "metadata": {
        "id": "6Vn51UIUwrr0",
        "outputId": "70dcd635-91ee-4d7b-f604-b558d489bf9b",
        "colab": {
          "base_uri": "https://localhost:8080/"
        }
      },
      "outputs": [
        {
          "output_type": "execute_result",
          "data": {
            "text/plain": [
              "['¿Usted es el Jefe de los Minisupers? Así es. ¿Usted? Así es. ¿Está seguro?']"
            ]
          },
          "metadata": {},
          "execution_count": 20
        }
      ],
      "source": [
        "# quiero extraer todas las preguntas\n",
        "re.findall(r\"\\¿.*\\?\",textos)"
      ]
    },
    {
      "cell_type": "markdown",
      "metadata": {
        "id": "Y_YwfQpqwrr2"
      },
      "source": [
        "###  + y \\* machean el patron mas largo posible ( se dice que +  y \\* son \"greedy\")\n",
        "### para que sean non-greedy se le agrega un \"?\" a la derecha => \"*?\""
      ]
    },
    {
      "cell_type": "code",
      "execution_count": null,
      "metadata": {
        "id": "mQfSc9sDwrr3",
        "outputId": "82ce9294-28d6-4e99-f3ab-a089b28fff8a",
        "colab": {
          "base_uri": "https://localhost:8080/"
        }
      },
      "outputs": [
        {
          "output_type": "execute_result",
          "data": {
            "text/plain": [
              "['¿Usted es el Jefe de los Minisupers?', '¿Usted?', '¿Está seguro?']"
            ]
          },
          "metadata": {},
          "execution_count": 21
        }
      ],
      "source": [
        "# quiero extraer todas las preguntas\n",
        "re.findall(r\"\\¿.*?\\?\",textos)"
      ]
    },
    {
      "cell_type": "markdown",
      "metadata": {
        "id": "PrKd5Qoqwrr5"
      },
      "source": [
        "# Preprocesamiento de Textos: Normalización"
      ]
    },
    {
      "cell_type": "code",
      "execution_count": null,
      "metadata": {
        "id": "FQXGtZWIloTn",
        "outputId": "92528955-7281-4bff-cb84-0b3c228ee703",
        "colab": {
          "base_uri": "https://localhost:8080/"
        }
      },
      "outputs": [
        {
          "output_type": "stream",
          "name": "stdout",
          "text": [
            "(Jefe de los Minisupers) 14'49'' Podéis hacerme tres preguntas.\n",
            "(Apu) 14'58'' Qué bueno, porque sólo necesito una.\n",
            "(Homer) 15'05'' ¿Usted es el Jefe de los Minisupers?\n",
            "(Jefe de los Minisupers) 15'13'' Así es.\n",
            "(Homer) 15'22'' ¿Usted?\n",
            "(Jefe de los Minisupers) 15'38'' Así es.\n",
            "(Homer) 15'41'' ¿Está seguro?\n",
            "(Jefe de los Minisupers) 16' Sí. Espero que los haya iluminado.\n",
            "(Apu) 16'11'' Pero tengo que...\n",
            "(Jefe de los Minisupers) 16'2'' Gracias. Vuelva pronto.\n",
            "(Apu) 16'29'' Pero.\n",
            "(Jefe de los Minisupers) 16'33'' Graciaaaaas. Vuelva pronto.\n"
          ]
        }
      ],
      "source": [
        "print(texto)"
      ]
    },
    {
      "cell_type": "code",
      "execution_count": null,
      "metadata": {
        "id": "xc19S_UOwrr5",
        "outputId": "7a29288e-4b2f-47af-c290-d11f93414d5f",
        "colab": {
          "base_uri": "https://localhost:8080/"
        }
      },
      "outputs": [
        {
          "output_type": "stream",
          "name": "stdout",
          "text": [
            "(Jefe de los Minisupers) 14'49'' Podéis hacerme tres preguntas.\n",
            "(Apu) 14'58'' Qué bueno, porque sólo necesito una.\n",
            "(Homer) 15'05'' ¿Usted es el Jefe de los Minisupers?\n",
            "(Jefe de los Minisupers) 15'13'' Así es.\n",
            "(Homer) 15'22'' ¿Usted?\n",
            "(Jefe de los Minisupers) 15'38'' Así es.\n",
            "(Homer) 15'41'' ¿Está seguro?\n",
            "(Jefe de los Minisupers) 16' Sí. Espero que los haya iluminado.\n",
            "(Apu) 16'11'' Pero tengo que...\n",
            "(Jefe de los Minisupers) 16'2'' Gracias. Vuelva pronto.\n",
            "(Apu) 16'29'' Pero.\n",
            "(Jefe de los Minisupers) 16'33'' Gracias. Vuelva pronto.\n"
          ]
        }
      ],
      "source": [
        "# re.sub(patron, remplazo, string)\n",
        "# devuelve el string con el patron reemplazado\n",
        "textos = re.sub(r\"a+\",\"a\",texto)\n",
        "print(textos)"
      ]
    },
    {
      "cell_type": "markdown",
      "metadata": {
        "id": "ZPsBL3nzwrr7"
      },
      "source": [
        "# Tokenización\n",
        "### tokenizar es segmentar el texto en unidades (tokens)\n",
        "### los tokens podrían ser palabras, numeros, signos de puntuacion, emoticones, etc..."
      ]
    },
    {
      "cell_type": "markdown",
      "metadata": {
        "id": "DzfzkzOGwrr7"
      },
      "source": [
        "### En este ejemplo buscamos calcular la frecuencia de aparicion de las palabras"
      ]
    },
    {
      "cell_type": "code",
      "execution_count": null,
      "metadata": {
        "id": "HdxcI1CIwrr8",
        "outputId": "6999e10c-ddf4-4a25-f865-9e57b06c4301",
        "colab": {
          "base_uri": "https://localhost:8080/"
        }
      },
      "outputs": [
        {
          "output_type": "stream",
          "name": "stdout",
          "text": [
            "hay 95 tokens\n"
          ]
        },
        {
          "output_type": "execute_result",
          "data": {
            "text/plain": [
              "['',\n",
              " 'Jefe',\n",
              " 'de',\n",
              " 'los',\n",
              " 'Minisupers',\n",
              " '14',\n",
              " '49',\n",
              " 'Podéis',\n",
              " 'hacerme',\n",
              " 'tres']"
            ]
          },
          "metadata": {},
          "execution_count": 24
        }
      ],
      "source": [
        "tokens = re.split(r\"\\W+\",textos)\n",
        "print(\"hay\",len(tokens),\"tokens\")\n",
        "tokens[:10]"
      ]
    },
    {
      "cell_type": "code",
      "execution_count": null,
      "metadata": {
        "id": "02axuOY2wrr9",
        "outputId": "308c92a2-9a09-4006-f882-2a93e265eeee",
        "colab": {
          "base_uri": "https://localhost:8080/",
          "height": 458
        }
      },
      "outputs": [
        {
          "output_type": "execute_result",
          "data": {
            "text/plain": [
              "0               \n",
              "1           Jefe\n",
              "2             de\n",
              "3            los\n",
              "4     Minisupers\n",
              "         ...    \n",
              "90            33\n",
              "91       Gracias\n",
              "92        Vuelva\n",
              "93        pronto\n",
              "94              \n",
              "Length: 95, dtype: object"
            ],
            "text/html": [
              "<div>\n",
              "<style scoped>\n",
              "    .dataframe tbody tr th:only-of-type {\n",
              "        vertical-align: middle;\n",
              "    }\n",
              "\n",
              "    .dataframe tbody tr th {\n",
              "        vertical-align: top;\n",
              "    }\n",
              "\n",
              "    .dataframe thead th {\n",
              "        text-align: right;\n",
              "    }\n",
              "</style>\n",
              "<table border=\"1\" class=\"dataframe\">\n",
              "  <thead>\n",
              "    <tr style=\"text-align: right;\">\n",
              "      <th></th>\n",
              "      <th>0</th>\n",
              "    </tr>\n",
              "  </thead>\n",
              "  <tbody>\n",
              "    <tr>\n",
              "      <th>0</th>\n",
              "      <td></td>\n",
              "    </tr>\n",
              "    <tr>\n",
              "      <th>1</th>\n",
              "      <td>Jefe</td>\n",
              "    </tr>\n",
              "    <tr>\n",
              "      <th>2</th>\n",
              "      <td>de</td>\n",
              "    </tr>\n",
              "    <tr>\n",
              "      <th>3</th>\n",
              "      <td>los</td>\n",
              "    </tr>\n",
              "    <tr>\n",
              "      <th>4</th>\n",
              "      <td>Minisupers</td>\n",
              "    </tr>\n",
              "    <tr>\n",
              "      <th>...</th>\n",
              "      <td>...</td>\n",
              "    </tr>\n",
              "    <tr>\n",
              "      <th>90</th>\n",
              "      <td>33</td>\n",
              "    </tr>\n",
              "    <tr>\n",
              "      <th>91</th>\n",
              "      <td>Gracias</td>\n",
              "    </tr>\n",
              "    <tr>\n",
              "      <th>92</th>\n",
              "      <td>Vuelva</td>\n",
              "    </tr>\n",
              "    <tr>\n",
              "      <th>93</th>\n",
              "      <td>pronto</td>\n",
              "    </tr>\n",
              "    <tr>\n",
              "      <th>94</th>\n",
              "      <td></td>\n",
              "    </tr>\n",
              "  </tbody>\n",
              "</table>\n",
              "<p>95 rows × 1 columns</p>\n",
              "</div><br><label><b>dtype:</b> object</label>"
            ]
          },
          "metadata": {},
          "execution_count": 25
        }
      ],
      "source": [
        "pd.Series(tokens)"
      ]
    },
    {
      "cell_type": "code",
      "execution_count": null,
      "metadata": {
        "id": "H54-sktqwrr_",
        "outputId": "825bf133-7cb7-4c16-8086-04ac1e48f67f",
        "colab": {
          "base_uri": "https://localhost:8080/",
          "height": 397
        }
      },
      "outputs": [
        {
          "output_type": "execute_result",
          "data": {
            "text/plain": [
              "los           8\n",
              "de            7\n",
              "Jefe          7\n",
              "Minisupers    7\n",
              "15            5\n",
              "16            5\n",
              "Apu           3\n",
              "Homer         3\n",
              "es            3\n",
              "Gracias       2\n",
              "Name: count, dtype: int64"
            ],
            "text/html": [
              "<div>\n",
              "<style scoped>\n",
              "    .dataframe tbody tr th:only-of-type {\n",
              "        vertical-align: middle;\n",
              "    }\n",
              "\n",
              "    .dataframe tbody tr th {\n",
              "        vertical-align: top;\n",
              "    }\n",
              "\n",
              "    .dataframe thead th {\n",
              "        text-align: right;\n",
              "    }\n",
              "</style>\n",
              "<table border=\"1\" class=\"dataframe\">\n",
              "  <thead>\n",
              "    <tr style=\"text-align: right;\">\n",
              "      <th></th>\n",
              "      <th>count</th>\n",
              "    </tr>\n",
              "  </thead>\n",
              "  <tbody>\n",
              "    <tr>\n",
              "      <th>los</th>\n",
              "      <td>8</td>\n",
              "    </tr>\n",
              "    <tr>\n",
              "      <th>de</th>\n",
              "      <td>7</td>\n",
              "    </tr>\n",
              "    <tr>\n",
              "      <th>Jefe</th>\n",
              "      <td>7</td>\n",
              "    </tr>\n",
              "    <tr>\n",
              "      <th>Minisupers</th>\n",
              "      <td>7</td>\n",
              "    </tr>\n",
              "    <tr>\n",
              "      <th>15</th>\n",
              "      <td>5</td>\n",
              "    </tr>\n",
              "    <tr>\n",
              "      <th>16</th>\n",
              "      <td>5</td>\n",
              "    </tr>\n",
              "    <tr>\n",
              "      <th>Apu</th>\n",
              "      <td>3</td>\n",
              "    </tr>\n",
              "    <tr>\n",
              "      <th>Homer</th>\n",
              "      <td>3</td>\n",
              "    </tr>\n",
              "    <tr>\n",
              "      <th>es</th>\n",
              "      <td>3</td>\n",
              "    </tr>\n",
              "    <tr>\n",
              "      <th>Gracias</th>\n",
              "      <td>2</td>\n",
              "    </tr>\n",
              "  </tbody>\n",
              "</table>\n",
              "</div><br><label><b>dtype:</b> int64</label>"
            ]
          },
          "metadata": {},
          "execution_count": 26
        }
      ],
      "source": [
        "pd.Series(tokens).value_counts().head(10)"
      ]
    },
    {
      "cell_type": "markdown",
      "metadata": {
        "id": "TlcStgslwrsA"
      },
      "source": [
        "### Tokenización de oraciones"
      ]
    },
    {
      "cell_type": "code",
      "execution_count": null,
      "metadata": {
        "id": "3ERmOGv9wrsB",
        "outputId": "1101d40c-2a01-47ca-9bdc-463167f0a8d1",
        "colab": {
          "base_uri": "https://localhost:8080/"
        }
      },
      "outputs": [
        {
          "output_type": "execute_result",
          "data": {
            "text/plain": [
              "['Dr',\n",
              " ' formulate it to me',\n",
              " \" I don't know how to tokenize this\",\n",
              " \" it's impossible\",\n",
              " '']"
            ]
          },
          "metadata": {},
          "execution_count": 27
        }
      ],
      "source": [
        "dificil_de_tokenizar = \"Dr. formulate it to me. I don't know how to tokenize this! it's impossible!\"\n",
        "re.split(\"[\\.!]\",dificil_de_tokenizar)"
      ]
    },
    {
      "cell_type": "markdown",
      "metadata": {
        "id": "jx52iPvXwrsC"
      },
      "source": [
        "## NLTK"
      ]
    },
    {
      "cell_type": "code",
      "execution_count": null,
      "metadata": {
        "id": "tbi1e3mwmSNB",
        "outputId": "97762b16-f921-47d2-d3a5-1f539ce87ef6",
        "colab": {
          "base_uri": "https://localhost:8080/"
        }
      },
      "outputs": [
        {
          "output_type": "stream",
          "name": "stderr",
          "text": [
            "[nltk_data] Downloading package punkt to /root/nltk_data...\n",
            "[nltk_data]   Package punkt is already up-to-date!\n",
            "[nltk_data] Downloading package punkt_tab to /root/nltk_data...\n",
            "[nltk_data]   Package punkt_tab is already up-to-date!\n"
          ]
        },
        {
          "output_type": "execute_result",
          "data": {
            "text/plain": [
              "True"
            ]
          },
          "metadata": {},
          "execution_count": 28
        }
      ],
      "source": [
        "import nltk\n",
        "nltk.download('punkt')\n",
        "nltk.download('punkt_tab')"
      ]
    },
    {
      "cell_type": "code",
      "execution_count": null,
      "metadata": {
        "id": "IzK-LPr5wrsC"
      },
      "outputs": [],
      "source": [
        "from nltk import word_tokenize\n",
        "from nltk import sent_tokenize"
      ]
    },
    {
      "cell_type": "code",
      "execution_count": null,
      "metadata": {
        "id": "E2sk0ghnwrsE",
        "outputId": "cd3dc6b0-8eff-470c-cc5a-00b24dc9fb79",
        "colab": {
          "base_uri": "https://localhost:8080/"
        }
      },
      "outputs": [
        {
          "output_type": "execute_result",
          "data": {
            "text/plain": [
              "['Dr. formulate it to me.',\n",
              " \"I don't know how to tokenize this!\",\n",
              " \"it's impossible!\"]"
            ]
          },
          "metadata": {},
          "execution_count": 30
        }
      ],
      "source": [
        "sent = sent_tokenize(dificil_de_tokenizar)\n",
        "sent"
      ]
    },
    {
      "cell_type": "code",
      "execution_count": null,
      "metadata": {
        "id": "s_tjaiTTwrsG",
        "outputId": "654079e7-a1ae-4077-adc3-67ed5d45df99",
        "colab": {
          "base_uri": "https://localhost:8080/"
        }
      },
      "outputs": [
        {
          "output_type": "execute_result",
          "data": {
            "text/plain": [
              "['I', 'do', \"n't\", 'know', 'how', 'to', 'tokenize', 'this', '!']"
            ]
          },
          "metadata": {},
          "execution_count": 31
        }
      ],
      "source": [
        "word_tokenize(sent[1])"
      ]
    },
    {
      "cell_type": "markdown",
      "metadata": {
        "id": "PAkpCTajwrsH"
      },
      "source": [
        "### Ahora en español"
      ]
    },
    {
      "cell_type": "code",
      "execution_count": null,
      "metadata": {
        "id": "fS2svQ32wrsI",
        "outputId": "6050c93d-9659-4dec-99c7-d45617e86ca4",
        "colab": {
          "base_uri": "https://localhost:8080/"
        }
      },
      "outputs": [
        {
          "output_type": "execute_result",
          "data": {
            "text/plain": [
              "[\"(Jefe de los Minisupers) 14'49'' Podéis hacerme tres preguntas.\",\n",
              " \"(Apu) 14'58'' Qué bueno, porque sólo necesito una.\",\n",
              " \"(Homer) 15'05'' ¿Usted es el Jefe de los Minisupers?\",\n",
              " \"(Jefe de los Minisupers) 15'13'' Así es.\",\n",
              " \"(Homer) 15'22'' ¿Usted?\",\n",
              " \"(Jefe de los Minisupers) 15'38'' Así es.\",\n",
              " \"(Homer) 15'41'' ¿Está seguro?\",\n",
              " \"(Jefe de los Minisupers) 16' Sí.\",\n",
              " 'Espero que los haya iluminado.',\n",
              " \"(Apu) 16'11'' Pero tengo que...\\n(Jefe de los Minisupers) 16'2'' Gracias.\",\n",
              " 'Vuelva pronto.',\n",
              " \"(Apu) 16'29'' Pero.\",\n",
              " \"(Jefe de los Minisupers) 16'33'' Graciaaaaas.\",\n",
              " 'Vuelva pronto.']"
            ]
          },
          "metadata": {},
          "execution_count": 32
        }
      ],
      "source": [
        "sents = sent_tokenize(texto,language=\"spanish\")\n",
        "sents"
      ]
    },
    {
      "cell_type": "code",
      "execution_count": null,
      "metadata": {
        "id": "-UJdbAWSwrsJ"
      },
      "outputs": [],
      "source": [
        "tokens = word_tokenize(textos,language=\"spanish\")"
      ]
    },
    {
      "cell_type": "code",
      "execution_count": null,
      "metadata": {
        "id": "eZkX-MS6wrsK",
        "outputId": "43d6e765-3412-4aac-9b37-435a52399e04",
        "colab": {
          "base_uri": "https://localhost:8080/"
        }
      },
      "outputs": [
        {
          "output_type": "execute_result",
          "data": {
            "text/plain": [
              "['(',\n",
              " 'Jefe',\n",
              " 'de',\n",
              " 'los',\n",
              " 'Minisupers',\n",
              " ')',\n",
              " \"14'49\",\n",
              " \"''\",\n",
              " 'Podéis',\n",
              " 'hacerme',\n",
              " 'tres',\n",
              " 'preguntas',\n",
              " '.',\n",
              " '(',\n",
              " 'Apu',\n",
              " ')',\n",
              " \"14'58\",\n",
              " \"''\",\n",
              " 'Qué',\n",
              " 'bueno',\n",
              " ',',\n",
              " 'porque',\n",
              " 'sólo',\n",
              " 'necesito',\n",
              " 'una',\n",
              " '.',\n",
              " '(',\n",
              " 'Homer',\n",
              " ')',\n",
              " \"15'05\",\n",
              " \"''\",\n",
              " '¿Usted',\n",
              " 'es',\n",
              " 'el',\n",
              " 'Jefe',\n",
              " 'de',\n",
              " 'los',\n",
              " 'Minisupers',\n",
              " '?',\n",
              " '(',\n",
              " 'Jefe',\n",
              " 'de',\n",
              " 'los',\n",
              " 'Minisupers',\n",
              " ')',\n",
              " \"15'13\",\n",
              " \"''\",\n",
              " 'Así',\n",
              " 'es',\n",
              " '.',\n",
              " '(',\n",
              " 'Homer',\n",
              " ')',\n",
              " \"15'22\",\n",
              " \"''\",\n",
              " '¿Usted',\n",
              " '?',\n",
              " '(',\n",
              " 'Jefe',\n",
              " 'de',\n",
              " 'los',\n",
              " 'Minisupers',\n",
              " ')',\n",
              " \"15'38\",\n",
              " \"''\",\n",
              " 'Así',\n",
              " 'es',\n",
              " '.',\n",
              " '(',\n",
              " 'Homer',\n",
              " ')',\n",
              " \"15'41\",\n",
              " \"''\",\n",
              " '¿Está',\n",
              " 'seguro',\n",
              " '?',\n",
              " '(',\n",
              " 'Jefe',\n",
              " 'de',\n",
              " 'los',\n",
              " 'Minisupers',\n",
              " ')',\n",
              " '16',\n",
              " \"'\",\n",
              " 'Sí',\n",
              " '.',\n",
              " 'Espero',\n",
              " 'que',\n",
              " 'los',\n",
              " 'haya',\n",
              " 'iluminado',\n",
              " '.',\n",
              " '(',\n",
              " 'Apu',\n",
              " ')',\n",
              " \"16'11\",\n",
              " \"''\",\n",
              " 'Pero',\n",
              " 'tengo',\n",
              " 'que',\n",
              " '...',\n",
              " '(',\n",
              " 'Jefe',\n",
              " 'de',\n",
              " 'los',\n",
              " 'Minisupers',\n",
              " ')',\n",
              " '16',\n",
              " \"'\",\n",
              " '2',\n",
              " \"''\",\n",
              " 'Gracias',\n",
              " '.',\n",
              " 'Vuelva',\n",
              " 'pronto',\n",
              " '.',\n",
              " '(',\n",
              " 'Apu',\n",
              " ')',\n",
              " \"16'29\",\n",
              " \"''\",\n",
              " 'Pero',\n",
              " '.',\n",
              " '(',\n",
              " 'Jefe',\n",
              " 'de',\n",
              " 'los',\n",
              " 'Minisupers',\n",
              " ')',\n",
              " \"16'33\",\n",
              " \"''\",\n",
              " 'Gracias',\n",
              " '.',\n",
              " 'Vuelva',\n",
              " 'pronto',\n",
              " '.']"
            ]
          },
          "metadata": {},
          "execution_count": 34
        }
      ],
      "source": [
        "tokens"
      ]
    },
    {
      "cell_type": "markdown",
      "metadata": {
        "id": "q871gc_uwrsM"
      },
      "source": [
        "### Los problemas con el \"¿\" lo podemos corregir"
      ]
    },
    {
      "cell_type": "code",
      "execution_count": null,
      "metadata": {
        "id": "DZ14MUo7wrsM",
        "outputId": "f85838b2-2652-4db6-828b-225bb6b4fd86",
        "colab": {
          "base_uri": "https://localhost:8080/"
        }
      },
      "outputs": [
        {
          "output_type": "execute_result",
          "data": {
            "text/plain": [
              "['(',\n",
              " 'Jefe',\n",
              " 'de',\n",
              " 'los',\n",
              " 'Minisupers',\n",
              " ')',\n",
              " \"14'49\",\n",
              " \"''\",\n",
              " 'Podéis',\n",
              " 'hacerme',\n",
              " 'tres',\n",
              " 'preguntas',\n",
              " '.',\n",
              " '(',\n",
              " 'Apu',\n",
              " ')',\n",
              " \"14'58\",\n",
              " \"''\",\n",
              " 'Qué',\n",
              " 'bueno',\n",
              " ',',\n",
              " 'porque',\n",
              " 'sólo',\n",
              " 'necesito',\n",
              " 'una',\n",
              " '.',\n",
              " '(',\n",
              " 'Homer',\n",
              " ')',\n",
              " \"15'05\",\n",
              " \"''\",\n",
              " '¿',\n",
              " 'Usted',\n",
              " 'es',\n",
              " 'el',\n",
              " 'Jefe',\n",
              " 'de',\n",
              " 'los',\n",
              " 'Minisupers',\n",
              " '?',\n",
              " '(',\n",
              " 'Jefe',\n",
              " 'de',\n",
              " 'los',\n",
              " 'Minisupers',\n",
              " ')',\n",
              " \"15'13\",\n",
              " \"''\",\n",
              " 'Así',\n",
              " 'es',\n",
              " '.',\n",
              " '(',\n",
              " 'Homer',\n",
              " ')',\n",
              " \"15'22\",\n",
              " \"''\",\n",
              " '¿',\n",
              " 'Usted',\n",
              " '?',\n",
              " '(',\n",
              " 'Jefe',\n",
              " 'de',\n",
              " 'los',\n",
              " 'Minisupers',\n",
              " ')',\n",
              " \"15'38\",\n",
              " \"''\",\n",
              " 'Así',\n",
              " 'es',\n",
              " '.',\n",
              " '(',\n",
              " 'Homer',\n",
              " ')',\n",
              " \"15'41\",\n",
              " \"''\",\n",
              " '¿',\n",
              " 'Está',\n",
              " 'seguro',\n",
              " '?',\n",
              " '(',\n",
              " 'Jefe',\n",
              " 'de',\n",
              " 'los',\n",
              " 'Minisupers',\n",
              " ')',\n",
              " '16',\n",
              " \"'\",\n",
              " 'Sí',\n",
              " '.',\n",
              " 'Espero',\n",
              " 'que',\n",
              " 'los',\n",
              " 'haya',\n",
              " 'iluminado',\n",
              " '.',\n",
              " '(',\n",
              " 'Apu',\n",
              " ')',\n",
              " \"16'11\",\n",
              " \"''\",\n",
              " 'Pero',\n",
              " 'tengo',\n",
              " 'que',\n",
              " '...',\n",
              " '(',\n",
              " 'Jefe',\n",
              " 'de',\n",
              " 'los',\n",
              " 'Minisupers',\n",
              " ')',\n",
              " '16',\n",
              " \"'\",\n",
              " '2',\n",
              " \"''\",\n",
              " 'Gracias',\n",
              " '.',\n",
              " 'Vuelva',\n",
              " 'pronto',\n",
              " '.',\n",
              " '(',\n",
              " 'Apu',\n",
              " ')',\n",
              " \"16'29\",\n",
              " \"''\",\n",
              " 'Pero',\n",
              " '.',\n",
              " '(',\n",
              " 'Jefe',\n",
              " 'de',\n",
              " 'los',\n",
              " 'Minisupers',\n",
              " ')',\n",
              " \"16'33\",\n",
              " \"''\",\n",
              " 'Gracias',\n",
              " '.',\n",
              " 'Vuelva',\n",
              " 'pronto',\n",
              " '.']"
            ]
          },
          "metadata": {},
          "execution_count": 35
        }
      ],
      "source": [
        "textos_retocados = re.sub(r\"¿\",\" ¿ \",textos)\n",
        "tokens = word_tokenize(textos_retocados,language=\"spanish\")\n",
        "tokens"
      ]
    },
    {
      "cell_type": "code",
      "execution_count": null,
      "metadata": {
        "id": "2QLLT4iJwrsP",
        "outputId": "08c8d5bd-4600-4449-df4a-6d2f2a375f8d",
        "colab": {
          "base_uri": "https://localhost:8080/"
        }
      },
      "outputs": [
        {
          "output_type": "execute_result",
          "data": {
            "text/plain": [
              "['jefe',\n",
              " 'de',\n",
              " 'los',\n",
              " 'minisupers',\n",
              " 'podéis',\n",
              " 'hacerme',\n",
              " 'tres',\n",
              " 'preguntas',\n",
              " 'apu',\n",
              " 'qué',\n",
              " 'bueno',\n",
              " 'porque',\n",
              " 'sólo',\n",
              " 'necesito',\n",
              " 'una',\n",
              " 'homer',\n",
              " 'usted',\n",
              " 'es',\n",
              " 'el',\n",
              " 'jefe',\n",
              " 'de',\n",
              " 'los',\n",
              " 'minisupers',\n",
              " 'jefe',\n",
              " 'de',\n",
              " 'los',\n",
              " 'minisupers',\n",
              " 'así',\n",
              " 'es',\n",
              " 'homer',\n",
              " 'usted',\n",
              " 'jefe',\n",
              " 'de',\n",
              " 'los',\n",
              " 'minisupers',\n",
              " 'así',\n",
              " 'es',\n",
              " 'homer',\n",
              " 'está',\n",
              " 'seguro',\n",
              " 'jefe',\n",
              " 'de',\n",
              " 'los',\n",
              " 'minisupers',\n",
              " 'sí',\n",
              " 'espero',\n",
              " 'que',\n",
              " 'los',\n",
              " 'haya',\n",
              " 'iluminado',\n",
              " 'apu',\n",
              " 'pero',\n",
              " 'tengo',\n",
              " 'que',\n",
              " 'jefe',\n",
              " 'de',\n",
              " 'los',\n",
              " 'minisupers',\n",
              " 'gracias',\n",
              " 'vuelva',\n",
              " 'pronto',\n",
              " 'apu',\n",
              " 'pero',\n",
              " 'jefe',\n",
              " 'de',\n",
              " 'los',\n",
              " 'minisupers',\n",
              " 'gracias',\n",
              " 'vuelva',\n",
              " 'pronto']"
            ]
          },
          "metadata": {},
          "execution_count": 36
        }
      ],
      "source": [
        "palabras = [token.lower() for token in tokens if token.isalpha()]\n",
        "palabras"
      ]
    },
    {
      "cell_type": "markdown",
      "metadata": {
        "id": "OvuwxxDxwrsR"
      },
      "source": [
        "### Stopwords"
      ]
    },
    {
      "cell_type": "code",
      "execution_count": null,
      "metadata": {
        "id": "9TtPgPJuOs38",
        "outputId": "2d7a1800-6422-457f-e31f-32ef2096688b",
        "colab": {
          "base_uri": "https://localhost:8080/"
        }
      },
      "outputs": [
        {
          "output_type": "stream",
          "name": "stderr",
          "text": [
            "[nltk_data] Downloading package stopwords to /root/nltk_data...\n",
            "[nltk_data]   Unzipping corpora/stopwords.zip.\n"
          ]
        },
        {
          "output_type": "execute_result",
          "data": {
            "text/plain": [
              "True"
            ]
          },
          "metadata": {},
          "execution_count": 37
        }
      ],
      "source": [
        "import nltk\n",
        "nltk.download('stopwords')"
      ]
    },
    {
      "cell_type": "code",
      "execution_count": null,
      "metadata": {
        "id": "CrVwIRRrwrsR",
        "outputId": "1ffa79b0-3391-4f9f-fef7-daaf5b3e643f",
        "colab": {
          "base_uri": "https://localhost:8080/"
        }
      },
      "outputs": [
        {
          "output_type": "execute_result",
          "data": {
            "text/plain": [
              "['de',\n",
              " 'la',\n",
              " 'que',\n",
              " 'el',\n",
              " 'en',\n",
              " 'y',\n",
              " 'a',\n",
              " 'los',\n",
              " 'del',\n",
              " 'se',\n",
              " 'las',\n",
              " 'por',\n",
              " 'un',\n",
              " 'para',\n",
              " 'con',\n",
              " 'no',\n",
              " 'una',\n",
              " 'su',\n",
              " 'al',\n",
              " 'lo']"
            ]
          },
          "metadata": {},
          "execution_count": 38
        }
      ],
      "source": [
        "from nltk.corpus import stopwords\n",
        "stoplist = stopwords.words(\"spanish\")\n",
        "stoplist[:20]"
      ]
    },
    {
      "cell_type": "code",
      "execution_count": null,
      "metadata": {
        "id": "k6fByQsowrsV",
        "outputId": "b1c7f068-74f5-4083-80cb-a7708ffde539",
        "colab": {
          "base_uri": "https://localhost:8080/"
        }
      },
      "outputs": [
        {
          "output_type": "execute_result",
          "data": {
            "text/plain": [
              "['jefe',\n",
              " 'minisupers',\n",
              " 'podéis',\n",
              " 'hacerme',\n",
              " 'tres',\n",
              " 'preguntas',\n",
              " 'apu',\n",
              " 'bueno',\n",
              " 'sólo',\n",
              " 'necesito',\n",
              " 'homer',\n",
              " 'usted',\n",
              " 'jefe',\n",
              " 'minisupers',\n",
              " 'jefe',\n",
              " 'minisupers',\n",
              " 'así',\n",
              " 'homer',\n",
              " 'usted',\n",
              " 'jefe']"
            ]
          },
          "metadata": {},
          "execution_count": 39
        }
      ],
      "source": [
        "# elimino los stopwords\n",
        "palabras = [token.lower() for token in tokens if token.lower() not in stoplist and token.isalpha()]\n",
        "palabras[:20]"
      ]
    },
    {
      "cell_type": "markdown",
      "metadata": {
        "id": "roFjWSKgH_ii"
      },
      "source": [
        "## Ejercicio 1\n",
        "### armar un texto que tenga sentido usando las variables a, b, c y d"
      ]
    },
    {
      "cell_type": "code",
      "execution_count": null,
      "metadata": {
        "id": "ViCz2clGIDBX"
      },
      "outputs": [],
      "source": [
        "a = \"xxxxxxxxxxxxxxxx veces \"\n",
        "b = 1000\n",
        "c = \"xxxno puedo soñar xxxxx\"\n",
        "d = \"xlxaxsx xmxixsxmxaxsx xcxoxsxaxs\""
      ]
    },
    {
      "cell_type": "markdown",
      "metadata": {
        "id": "0Z-5EbssJlMf"
      },
      "source": [
        "## Ejercicio 2:\n",
        "### a) cuantas letras hay en la tercer oración?\n",
        "### b) cuantas palabras hay en todo el texto"
      ]
    },
    {
      "cell_type": "code",
      "execution_count": null,
      "metadata": {
        "id": "AOJahA_gJmjd"
      },
      "outputs": [],
      "source": [
        "texto_ej2 = \"Citadme diciendo que me han citado mal. Claro que lo entiendo. Incluso un niño de cinco años podría entenderlo. ¡Que me traigan un niño de cinco años!\""
      ]
    },
    {
      "cell_type": "markdown",
      "metadata": {
        "id": "5Kyl3FBMMQ-1"
      },
      "source": [
        "##  Ejercicio 3\n",
        "### Amar un Regex para extraer todas las fechas mencionadas"
      ]
    },
    {
      "cell_type": "code",
      "execution_count": null,
      "metadata": {
        "id": "Yky1OMbmKxvv"
      },
      "outputs": [],
      "source": [
        "texto_ej3=\"compras de julio: el 02/07 yerba, 5/7/18 azucar y 8/7 cafe. Agosto: 02-08-2018, 15-8-2018 y 29-08 mas yerba \""
      ]
    },
    {
      "cell_type": "markdown",
      "metadata": {
        "id": "P0xAmIgcwrsa"
      },
      "source": [
        "## Ejercicio 4\n",
        "\n",
        "### a) Cuales son las 10 palabras mas frecuentes? no contar efecto de si es mayúscula o minúscula.\n",
        "### b) Cuantas palabras son stopwords? que porcentaje de las palabras son stopwords?\n",
        "### c) Sacar las tíldes (normalización)\n",
        "### d) Pasar los millones a números 1.800 millones -> 1.800.000  (normalización)\n",
        "### e) Extraer los numeros asociados a dolares, pesos y porcentajes\n",
        "### f) Plotear en eje log-log un la frequencia de las palabras vs su ranking: es decir representar en un scatterplot cuantas veces aparece la palabra mas frecuente (ranking=1), cuantas veces la 2da mas frecuentes (ranking=2)..., la n-esima mas frecuente (ranking = n)"
      ]
    },
    {
      "cell_type": "code",
      "execution_count": null,
      "metadata": {
        "id": "2j8vQmOewrsc"
      },
      "outputs": [],
      "source": [
        "texto_ej4='Jueves 29.3.2018 BUENOS AIRES\\n INGRESAR EDICIÓN IMPRESA Suscribirse Onmail\\n   SEGUINOS\\nPORTADA\\t\\tPOLÍTICA\\tMUNDO\\tNACIONAL\\t\\tINFO. GRAL\\t\\tESPECTÁCULOS\\t\\t\\n\\nambito.comJueves 29.3.2018\\n\\nECONOMÍA\\n\\n\\n\\n\\n\\nPOR MARIANA LEIVA.- lunes 26 de Marzo de 2018\\nEl BCRA intervino por séptima rueda consecutiva y el dólar cedió cinco centavos a $ 20,49\\nMariana Leiva \\t\\nMARIANA LEIVA\\n \\nCon un Banco Central presente en la rueda por séptima rueda consecutiva, el dólar inició la semana con nueva baja, al ceder cinco centavos a $ 20,49 en agencias y bancos de la city porteña, de acuerdo al promedio de ámbito.com. \\n\\nEl billete -que anotó su segunda caída consecutiva- se desacopló del segmento mayorista, donde la divisa terminó sin cambios a $ 20,21.\\n\\nDurante la rueda, la moneda estadounidense tuvo un recorrido muy acotado en una rueda en la que el Banco Central volvió a fijar límites al movimiento de los precios. Operadores estimaron que la autoridad monetaria habría vendido unos u$s 100 millones, con lo que en el mes llevaría desembolsado cerca de u$s 1.800 millones. \\n\\nA poco de iniciada la sesión se hizo presente una postura de venta en $ 20,21 efectivizada por el BCRA que señaló el límite superior fijado en la banda de fluctuación del tipo de cambio. La presencia oficial, en este sentido, disuadió desde el arranque presiones sobre los precios que merced a una mayor oferta privada descendieron hasta tocar mínimos en los $ 20,163. Al final del día, sus ventas sumaron u$s 69 millones.\\n\\nLa oferta provino, además, de las liquidaciones de exportadores cerealeros con un promedio u$s 85 millones por día (aumentó 40% que la semana anterior) y también de otros rubros que realimentan la venta de la divisa norteamericana, además de algunos inversores tentados por la tasa de interés en pesos ahora que tienen un dólar con poca oscilación y con un techo de $ 20,4 y un piso de $ 20,2, según puntualizaron de ABC Mercado de Cambios. \\n\\nDesde PR Corredores de Cambio, indicaron que \"el inicio de la semana corta presentó un escenario dominado en forma reiterada por la regulación oficial del tipo de cambio. La estrategia del Banco Central apuntó a dejar sin posibilidad de que los precios del dólar superaran el nivel alcanzado en el cierre de la semana pasada pero sin forzar una nueva caída en su cotización\". El volumen operado descendió un 6,5% a u$s 758 millones.\\n\\n\"La suerte de la evolución del dólar en el cierre de marzo parece estar echada y, dadas las características de las últimas regulaciones oficiales su nivel para el miércoles próximo se anticipa que no estará muy alejado del alcanzado en la fecha, un dato que los mercados de futuros descuentan en su cotización de esta rueda\", agregaron.\\n\\nEn el mercado de dinero entre bancos, el \"call money\" operó estable a un promedio del 25,5% TNA y en \"swaps\" cambiarios se pactaron u$s 148 millones para tomar y/o colocar fondos en pesos mediante el uso de compra-venta de dólares para el martes y el miércoles. Las Lebac en el circuito secundario se operaban al plazo de 23 días a 23,55% TNA, y la de 268 días al 24,9% TNA.\\n\\nEn el Rofex, donde se operaron u$s 1.156 millones, más del 40% se operó para fin de mes a $ 20,215 con una tasa implícita del 9% TNA y el plazo más largo fue julio a $ 21,63 a una tasa del 20,50% TNA. \\n\\nEn la plaza paralela, el blue cayó seis centavos a $ 20,88, según el relevamiento de este medio en cuevas del microcentro porteño. Asimismo, el \"contado con liqui\" bajó 10 centavos a $ 20,19.\\n\\nPor último, las reservas del Banco Central aumentaron este lunes u$s 18 millones, hasta los u$s 60.917 millones.\\nTAGS\\n \\n\\n\\n\\n'"
      ]
    },
    {
      "cell_type": "code",
      "execution_count": null,
      "metadata": {
        "id": "d0oY_qnbSXDY",
        "outputId": "9a5ebd8e-f570-4038-d6f7-c6995fb72e74",
        "colab": {
          "base_uri": "https://localhost:8080/"
        }
      },
      "outputs": [
        {
          "output_type": "stream",
          "name": "stdout",
          "text": [
            "Jueves 29.3.2018 BUENOS AIRES\n",
            " INGRESAR EDICIÓN IMPRESA Suscribirse Onmail\n",
            "   SEGUINOS\n",
            "PORTADA\t\tPOLÍTICA\tMUNDO\tNACIONAL\t\tINFO. GRAL\t\tESPECTÁCULOS\t\t\n",
            "\n",
            "ambito.comJueves 29.3.2018\n",
            "\n",
            "ECONOMÍA\n",
            "\n",
            "\n",
            "\n",
            "\n",
            "\n",
            "POR MARIANA LEIVA.- lunes 26 de Marzo de 2018\n",
            "El BCRA intervino por séptima rueda consecutiva y el dólar cedió cinco centavos a $ 20,49\n",
            "Mariana Leiva \t\n",
            "MARIANA LEIVA\n",
            " \n",
            "Con un Banco Central presente en la rueda por séptima rueda consecutiva, el dólar inició la semana con nueva baja, al ceder cinco centavos a $ 20,49 en agencias y bancos de la city porteña, de acuerdo al promedio de ámbito.com. \n",
            "\n",
            "El billete -que anotó su segunda caída consecutiva- se desacopló del segmento mayorista, donde la divisa terminó sin cambios a $ 20,21.\n",
            "\n",
            "Durante la rueda, la moneda estadounidense tuvo un recorrido muy acotado en una rueda en la que el Banco Central volvió a fijar límites al movimiento de los precios. Operadores estimaron que la autoridad monetaria habría vendido unos u$s 100 millones, con lo que en el mes llevaría desembolsado cerca de u$s 1.800 millones. \n",
            "\n",
            "A poco de iniciada la sesión se hizo presente una postura de venta en $ 20,21 efectivizada por el BCRA que señaló el límite superior fijado en la banda de fluctuación del tipo de cambio. La presencia oficial, en este sentido, disuadió desde el arranque presiones sobre los precios que merced a una mayor oferta privada descendieron hasta tocar mínimos en los $ 20,163. Al final del día, sus ventas sumaron u$s 69 millones.\n",
            "\n",
            "La oferta provino, además, de las liquidaciones de exportadores cerealeros con un promedio u$s 85 millones por día (aumentó 40% que la semana anterior) y también de otros rubros que realimentan la venta de la divisa norteamericana, además de algunos inversores tentados por la tasa de interés en pesos ahora que tienen un dólar con poca oscilación y con un techo de $ 20,4 y un piso de $ 20,2, según puntualizaron de ABC Mercado de Cambios. \n",
            "\n",
            "Desde PR Corredores de Cambio, indicaron que \"el inicio de la semana corta presentó un escenario dominado en forma reiterada por la regulación oficial del tipo de cambio. La estrategia del Banco Central apuntó a dejar sin posibilidad de que los precios del dólar superaran el nivel alcanzado en el cierre de la semana pasada pero sin forzar una nueva caída en su cotización\". El volumen operado descendió un 6,5% a u$s 758 millones.\n",
            "\n",
            "\"La suerte de la evolución del dólar en el cierre de marzo parece estar echada y, dadas las características de las últimas regulaciones oficiales su nivel para el miércoles próximo se anticipa que no estará muy alejado del alcanzado en la fecha, un dato que los mercados de futuros descuentan en su cotización de esta rueda\", agregaron.\n",
            "\n",
            "En el mercado de dinero entre bancos, el \"call money\" operó estable a un promedio del 25,5% TNA y en \"swaps\" cambiarios se pactaron u$s 148 millones para tomar y/o colocar fondos en pesos mediante el uso de compra-venta de dólares para el martes y el miércoles. Las Lebac en el circuito secundario se operaban al plazo de 23 días a 23,55% TNA, y la de 268 días al 24,9% TNA.\n",
            "\n",
            "En el Rofex, donde se operaron u$s 1.156 millones, más del 40% se operó para fin de mes a $ 20,215 con una tasa implícita del 9% TNA y el plazo más largo fue julio a $ 21,63 a una tasa del 20,50% TNA. \n",
            "\n",
            "En la plaza paralela, el blue cayó seis centavos a $ 20,88, según el relevamiento de este medio en cuevas del microcentro porteño. Asimismo, el \"contado con liqui\" bajó 10 centavos a $ 20,19.\n",
            "\n",
            "Por último, las reservas del Banco Central aumentaron este lunes u$s 18 millones, hasta los u$s 60.917 millones.\n",
            "TAGS\n",
            " \n",
            "\n",
            "\n",
            "\n",
            "\n"
          ]
        }
      ],
      "source": [
        "print(texto_ej4)"
      ]
    },
    {
      "cell_type": "markdown",
      "metadata": {
        "id": "Nj-Rl4lFIia2"
      },
      "source": [
        "## Ejemplo de respuesta ej 1"
      ]
    },
    {
      "cell_type": "code",
      "execution_count": null,
      "metadata": {
        "id": "J3YecRXPwrsp",
        "outputId": "1968523e-dae4-4b31-a6cc-14b391827630",
        "colab": {
          "base_uri": "https://localhost:8080/",
          "height": 36
        }
      },
      "outputs": [
        {
          "output_type": "execute_result",
          "data": {
            "text/plain": [
              "'no puedo soñar 1000 veces las mismas cosas'"
            ],
            "application/vnd.google.colaboratory.intrinsic+json": {
              "type": "string"
            }
          },
          "metadata": {},
          "execution_count": 45
        }
      ],
      "source": [
        "c[3:-5]+str(b)+a[-7:]+d[1::2]"
      ]
    },
    {
      "cell_type": "markdown",
      "metadata": {
        "id": "1KIea6nIKFwm"
      },
      "source": [
        "## Ejemplo de respuesta ej 2\n",
        "### a) cuantas letras hay en la tercer oración?\n",
        "\n"
      ]
    },
    {
      "cell_type": "code",
      "execution_count": null,
      "metadata": {
        "id": "zPVptgJaKJQB",
        "outputId": "bbc5b52b-066f-4cbf-cc9d-fd7f9839d8a7",
        "colab": {
          "base_uri": "https://localhost:8080/"
        }
      },
      "outputs": [
        {
          "output_type": "execute_result",
          "data": {
            "text/plain": [
              "['Citadme diciendo que me han citado mal',\n",
              " ' Claro que lo entiendo',\n",
              " ' Incluso un niño de cinco años podría entenderlo',\n",
              " ' ¡Que me traigan un niño de cinco años!']"
            ]
          },
          "metadata": {},
          "execution_count": 46
        }
      ],
      "source": [
        "texto_ej2.split(\".\")"
      ]
    },
    {
      "cell_type": "code",
      "execution_count": null,
      "metadata": {
        "id": "F7KxZgx4KVup",
        "outputId": "57620641-1647-4e03-dbaf-49054aa8e954",
        "colab": {
          "base_uri": "https://localhost:8080/"
        }
      },
      "outputs": [
        {
          "output_type": "execute_result",
          "data": {
            "text/plain": [
              "40"
            ]
          },
          "metadata": {},
          "execution_count": 47
        }
      ],
      "source": [
        "len(texto_ej2.split(\".\")[2].replace(\" \",\"\"))"
      ]
    },
    {
      "cell_type": "markdown",
      "metadata": {
        "id": "UIdBtGzyLv_u"
      },
      "source": [
        "### b) cuantas palabras hay en todo el texto"
      ]
    },
    {
      "cell_type": "code",
      "execution_count": null,
      "metadata": {
        "id": "ik8yEQL4Lll8",
        "outputId": "e34b3619-bd8c-4f16-cd59-c0f33ad19adf",
        "colab": {
          "base_uri": "https://localhost:8080/"
        }
      },
      "outputs": [
        {
          "output_type": "execute_result",
          "data": {
            "text/plain": [
              "27"
            ]
          },
          "metadata": {},
          "execution_count": 48
        }
      ],
      "source": [
        "len(texto_ej2.split(\" \"))"
      ]
    },
    {
      "cell_type": "markdown",
      "metadata": {
        "id": "g41zAcSqsS6v"
      },
      "source": [
        "## Ejemplo de respuesta ej 3"
      ]
    },
    {
      "cell_type": "code",
      "execution_count": null,
      "metadata": {
        "id": "U7FfSZOosQo8",
        "outputId": "2d4aaa49-c563-4c4a-b11b-e01ef28176c5",
        "colab": {
          "base_uri": "https://localhost:8080/"
        }
      },
      "outputs": [
        {
          "output_type": "execute_result",
          "data": {
            "text/plain": [
              "['02/07', '5/7/18', '8/7', '02-08-2018', '15-8-2018', '29-08']"
            ]
          },
          "metadata": {},
          "execution_count": 49
        }
      ],
      "source": [
        "re.findall(r\"\\d{1,2}[/-]\\d{1,2}[/-]?\\d{0,4}\",texto_ej3)"
      ]
    },
    {
      "cell_type": "markdown",
      "metadata": {
        "id": "-CXsQruAwrss"
      },
      "source": [
        "## Ejemplo de respuesta ej 4"
      ]
    },
    {
      "cell_type": "markdown",
      "metadata": {
        "id": "krigxOSQwrss"
      },
      "source": [
        "### a) Cuales son las 10 palabras mas frecuentes? no contar efecto de si es mayúscula o minúscula."
      ]
    },
    {
      "cell_type": "code",
      "execution_count": null,
      "metadata": {
        "id": "ANHz-N-Xwrst",
        "outputId": "36731417-1f8b-4c55-f61a-588b5d8fbb42",
        "colab": {
          "base_uri": "https://localhost:8080/",
          "height": 397
        }
      },
      "outputs": [
        {
          "output_type": "execute_result",
          "data": {
            "text/plain": [
              "de     38\n",
              "el     26\n",
              "la     25\n",
              "en     23\n",
              "a      15\n",
              "del    14\n",
              "que    12\n",
              "y      10\n",
              "un     10\n",
              "s       9\n",
              "Name: count, dtype: int64"
            ],
            "text/html": [
              "<div>\n",
              "<style scoped>\n",
              "    .dataframe tbody tr th:only-of-type {\n",
              "        vertical-align: middle;\n",
              "    }\n",
              "\n",
              "    .dataframe tbody tr th {\n",
              "        vertical-align: top;\n",
              "    }\n",
              "\n",
              "    .dataframe thead th {\n",
              "        text-align: right;\n",
              "    }\n",
              "</style>\n",
              "<table border=\"1\" class=\"dataframe\">\n",
              "  <thead>\n",
              "    <tr style=\"text-align: right;\">\n",
              "      <th></th>\n",
              "      <th>count</th>\n",
              "    </tr>\n",
              "  </thead>\n",
              "  <tbody>\n",
              "    <tr>\n",
              "      <th>de</th>\n",
              "      <td>38</td>\n",
              "    </tr>\n",
              "    <tr>\n",
              "      <th>el</th>\n",
              "      <td>26</td>\n",
              "    </tr>\n",
              "    <tr>\n",
              "      <th>la</th>\n",
              "      <td>25</td>\n",
              "    </tr>\n",
              "    <tr>\n",
              "      <th>en</th>\n",
              "      <td>23</td>\n",
              "    </tr>\n",
              "    <tr>\n",
              "      <th>a</th>\n",
              "      <td>15</td>\n",
              "    </tr>\n",
              "    <tr>\n",
              "      <th>del</th>\n",
              "      <td>14</td>\n",
              "    </tr>\n",
              "    <tr>\n",
              "      <th>que</th>\n",
              "      <td>12</td>\n",
              "    </tr>\n",
              "    <tr>\n",
              "      <th>y</th>\n",
              "      <td>10</td>\n",
              "    </tr>\n",
              "    <tr>\n",
              "      <th>un</th>\n",
              "      <td>10</td>\n",
              "    </tr>\n",
              "    <tr>\n",
              "      <th>s</th>\n",
              "      <td>9</td>\n",
              "    </tr>\n",
              "  </tbody>\n",
              "</table>\n",
              "</div><br><label><b>dtype:</b> int64</label>"
            ]
          },
          "metadata": {},
          "execution_count": 50
        }
      ],
      "source": [
        "palabras_frec = pd.Series([w for w in word_tokenize(texto_ej4.lower(),language=\"spanish\") if w.isalpha()]).value_counts()\n",
        "palabras_frec[:10]"
      ]
    },
    {
      "cell_type": "markdown",
      "metadata": {
        "id": "F65Yqk4uwrsu"
      },
      "source": [
        "### b) cuantas palabras son stopwords? que porcentaje de las palabras son stopwords?"
      ]
    },
    {
      "cell_type": "code",
      "execution_count": null,
      "metadata": {
        "id": "E6JwnfU5wrsu",
        "outputId": "d6e82134-e4c9-4e4d-8fb6-3937c4b8786d",
        "colab": {
          "base_uri": "https://localhost:8080/"
        }
      },
      "outputs": [
        {
          "output_type": "stream",
          "name": "stdout",
          "text": [
            "hay 263 stopwords\n",
            "un % 46 de las palabras son stopwords! WTF\n"
          ]
        }
      ],
      "source": [
        "palabras = [w for w in word_tokenize(texto_ej4.lower(),language=\"spanish\") if w.isalpha()]\n",
        "texto_ej4_stopwords = [w for w in palabras if w in stoplist]\n",
        "n_stopwords = len(texto_ej4_stopwords)\n",
        "print(\"hay\",n_stopwords,\"stopwords\")\n",
        "porcentaje = n_stopwords/len(palabras)*100\n",
        "print(\"un %\",round(porcentaje),\"de las palabras son stopwords! WTF\")"
      ]
    },
    {
      "cell_type": "code",
      "execution_count": null,
      "metadata": {
        "id": "pu7dwpfuwrsw",
        "outputId": "4dd88be8-a828-4f2d-dd7d-30ed7b26f984",
        "colab": {
          "base_uri": "https://localhost:8080/"
        }
      },
      "outputs": [
        {
          "output_type": "stream",
          "name": "stdout",
          "text": [
            "263\n",
            "45.97902097902098\n"
          ]
        }
      ],
      "source": [
        "# usando pandas\n",
        "print( palabras_frec[[p in stoplist for p in palabras_frec.index]].sum())\n",
        "print( palabras_frec[[p in stoplist for p in palabras_frec.index]].sum() /palabras_frec.sum() *100)"
      ]
    },
    {
      "cell_type": "markdown",
      "metadata": {
        "id": "e_UqVHmiwrsy"
      },
      "source": [
        "### c) Sacar las tíldes (normalización)"
      ]
    },
    {
      "cell_type": "code",
      "execution_count": null,
      "metadata": {
        "id": "3ISSDUR4wrsy",
        "outputId": "cacc9bc6-0600-424b-d6d5-e1e60af6f618",
        "colab": {
          "base_uri": "https://localhost:8080/"
        }
      },
      "outputs": [
        {
          "output_type": "stream",
          "name": "stdout",
          "text": [
            "Jueves 29.3.2018 BUENOS AIRES\n",
            " INGRESAR EDICION IMPRESA Suscribirse Onmail\n",
            "   SEGUINOS\n",
            "PORTADA\t\tPOLITICA\tMUNDO\tNACIONAL\t\tINFO. GRAL\t\tESPECTACULOS\t\t\n",
            "\n",
            "ambito.comJueves 29.3.2018\n",
            "\n",
            "ECONOMIA\n",
            "\n",
            "\n",
            "\n",
            "\n",
            "\n",
            "POR MARIANA LEIVA.- lunes 26 de Marzo de 2018\n",
            "El BCRA intervino por septima rueda consecutiva y el dolar cedio cinco centavos a $ 20,49\n",
            "Mariana Leiva \t\n",
            "MARIANA LEIVA\n",
            " \n",
            "Con un Banco Central presente en la rueda por septima rueda consecutiva, el dolar inicio la semana con nueva baja, al ceder cinco centavos a $ 20,49 en agencias y bancos de la city porteña, de acuerdo al promedio de ambito.com. \n",
            "\n",
            "El billete -que anoto su segunda caida consecutiva- se desacoplo del segmento mayorista, donde la divisa termino sin cambios a $ 20,21.\n",
            "\n",
            "Durante la rueda, la moneda estadounidense tuvo un recorrido muy acotado en una rueda en la que el Banco Central volvio a fijar limites al movimiento de los precios. Operadores estimaron que la autoridad monetaria habria vendido unos u$s 100 millones, con lo que en el mes llevaria desembolsado cerca de u$s 1.800 millones. \n",
            "\n",
            "A poco de iniciada la sesion se hizo presente una postura de venta en $ 20,21 efectivizada por el BCRA que señalo el limite superior fijado en la banda de fluctuacion del tipo de cambio. La presencia oficial, en este sentido, disuadio desde el arranque presiones sobre los precios que merced a una mayor oferta privada descendieron hasta tocar minimos en los $ 20,163. Al final del dia, sus ventas sumaron u$s 69 millones.\n",
            "\n",
            "La oferta provino, ademas, de las liquidaciones de exportadores cerealeros con un promedio u$s 85 millones por dia (aumento 40% que la semana anterior) y tambien de otros rubros que realimentan la venta de la divisa norteamericana, ademas de algunos inversores tentados por la tasa de interes en pesos ahora que tienen un dolar con poca oscilacion y con un techo de $ 20,4 y un piso de $ 20,2, segun puntualizaron de ABC Mercado de Cambios. \n",
            "\n",
            "Desde PR Corredores de Cambio, indicaron que \"el inicio de la semana corta presento un escenario dominado en forma reiterada por la regulacion oficial del tipo de cambio. La estrategia del Banco Central apunto a dejar sin posibilidad de que los precios del dolar superaran el nivel alcanzado en el cierre de la semana pasada pero sin forzar una nueva caida en su cotizacion\". El volumen operado descendio un 6,5% a u$s 758 millones.\n",
            "\n",
            "\"La suerte de la evolucion del dolar en el cierre de marzo parece estar echada y, dadas las caracteristicas de las ultimas regulaciones oficiales su nivel para el miercoles proximo se anticipa que no estara muy alejado del alcanzado en la fecha, un dato que los mercados de futuros descuentan en su cotizacion de esta rueda\", agregaron.\n",
            "\n",
            "En el mercado de dinero entre bancos, el \"call money\" opero estable a un promedio del 25,5% TNA y en \"swaps\" cambiarios se pactaron u$s 148 millones para tomar y/o colocar fondos en pesos mediante el uso de compra-venta de dolares para el martes y el miercoles. Las Lebac en el circuito secundario se operaban al plazo de 23 dias a 23,55% TNA, y la de 268 dias al 24,9% TNA.\n",
            "\n",
            "En el Rofex, donde se operaron u$s 1.156 millones, mas del 40% se opero para fin de mes a $ 20,215 con una tasa implicita del 9% TNA y el plazo mas largo fue julio a $ 21,63 a una tasa del 20,50% TNA. \n",
            "\n",
            "En la plaza paralela, el blue cayo seis centavos a $ 20,88, segun el relevamiento de este medio en cuevas del microcentro porteño. Asimismo, el \"contado con liqui\" bajo 10 centavos a $ 20,19.\n",
            "\n",
            "Por ultimo, las reservas del Banco Central aumentaron este lunes u$s 18 millones, hasta los u$s 60.917 millones.\n",
            "TAGS\n",
            " \n",
            "\n",
            "\n",
            "\n",
            "\n"
          ]
        }
      ],
      "source": [
        "def sacar_tildes(texto):\n",
        "    texto = re.sub(\"á\",\"a\",texto)\n",
        "    texto = re.sub(\"é\",\"e\",texto)\n",
        "    texto = re.sub(\"í\",\"i\",texto)\n",
        "    texto = re.sub(\"ó\",\"o\",texto)\n",
        "    texto = re.sub(\"ú\",\"u\",texto)\n",
        "    texto = re.sub(\"Á\",\"A\",texto)\n",
        "    texto = re.sub(\"É\",\"E\",texto)\n",
        "    texto = re.sub(\"Í\",\"I\",texto)\n",
        "    texto = re.sub(\"Ó\",\"O\",texto)\n",
        "    return re.sub(\"Ú\",\"U\",texto)\n",
        "\n",
        "texto_ej4c = sacar_tildes(texto_ej4)\n",
        "print(texto_ej4c)"
      ]
    },
    {
      "cell_type": "markdown",
      "metadata": {
        "id": "qyOxgjKawrsz"
      },
      "source": [
        "### d) pasar los millones a números 1.800 millones -> 1.800.000  (normalización)"
      ]
    },
    {
      "cell_type": "code",
      "execution_count": null,
      "metadata": {
        "id": "UVEHYsAIwrsz",
        "outputId": "272a51bb-b6fe-4af7-e4a9-cefaf93579ec",
        "colab": {
          "base_uri": "https://localhost:8080/"
        }
      },
      "outputs": [
        {
          "output_type": "stream",
          "name": "stdout",
          "text": [
            "Jueves 29.3.2018 BUENOS AIRES\n",
            " INGRESAR EDICIÓN IMPRESA Suscribirse Onmail\n",
            "   SEGUINOS\n",
            "PORTADA\t\tPOLÍTICA\tMUNDO\tNACIONAL\t\tINFO. GRAL\t\tESPECTÁCULOS\t\t\n",
            "\n",
            "ambito.comJueves 29.3.2018\n",
            "\n",
            "ECONOMÍA\n",
            "\n",
            "\n",
            "\n",
            "\n",
            "\n",
            "POR MARIANA LEIVA.- lunes 26 de Marzo de 2018\n",
            "El BCRA intervino por séptima rueda consecutiva y el dólar cedió cinco centavos a $ 20,49\n",
            "Mariana Leiva \t\n",
            "MARIANA LEIVA\n",
            " \n",
            "Con un Banco Central presente en la rueda por séptima rueda consecutiva, el dólar inició la semana con nueva baja, al ceder cinco centavos a $ 20,49 en agencias y bancos de la city porteña, de acuerdo al promedio de ámbito.com. \n",
            "\n",
            "El billete -que anotó su segunda caída consecutiva- se desacopló del segmento mayorista, donde la divisa terminó sin cambios a $ 20,21.\n",
            "\n",
            "Durante la rueda, la moneda estadounidense tuvo un recorrido muy acotado en una rueda en la que el Banco Central volvió a fijar límites al movimiento de los precios. Operadores estimaron que la autoridad monetaria habría vendido unos u$s 100.000.000, con lo que en el mes llevaría desembolsado cerca de u$s 1.800.000.000. \n",
            "\n",
            "A poco de iniciada la sesión se hizo presente una postura de venta en $ 20,21 efectivizada por el BCRA que señaló el límite superior fijado en la banda de fluctuación del tipo de cambio. La presencia oficial, en este sentido, disuadió desde el arranque presiones sobre los precios que merced a una mayor oferta privada descendieron hasta tocar mínimos en los $ 20,163. Al final del día, sus ventas sumaron u$s 69.000.000.\n",
            "\n",
            "La oferta provino, además, de las liquidaciones de exportadores cerealeros con un promedio u$s 85.000.000 por día (aumentó 40% que la semana anterior) y también de otros rubros que realimentan la venta de la divisa norteamericana, además de algunos inversores tentados por la tasa de interés en pesos ahora que tienen un dólar con poca oscilación y con un techo de $ 20,4 y un piso de $ 20,2, según puntualizaron de ABC Mercado de Cambios. \n",
            "\n",
            "Desde PR Corredores de Cambio, indicaron que \"el inicio de la semana corta presentó un escenario dominado en forma reiterada por la regulación oficial del tipo de cambio. La estrategia del Banco Central apuntó a dejar sin posibilidad de que los precios del dólar superaran el nivel alcanzado en el cierre de la semana pasada pero sin forzar una nueva caída en su cotización\". El volumen operado descendió un 6,5% a u$s 758.000.000.\n",
            "\n",
            "\"La suerte de la evolución del dólar en el cierre de marzo parece estar echada y, dadas las características de las últimas regulaciones oficiales su nivel para el miércoles próximo se anticipa que no estará muy alejado del alcanzado en la fecha, un dato que los mercados de futuros descuentan en su cotización de esta rueda\", agregaron.\n",
            "\n",
            "En el mercado de dinero entre bancos, el \"call money\" operó estable a un promedio del 25,5% TNA y en \"swaps\" cambiarios se pactaron u$s 148.000.000 para tomar y/o colocar fondos en pesos mediante el uso de compra-venta de dólares para el martes y el miércoles. Las Lebac en el circuito secundario se operaban al plazo de 23 días a 23,55% TNA, y la de 268 días al 24,9% TNA.\n",
            "\n",
            "En el Rofex, donde se operaron u$s 1.156.000.000, más del 40% se operó para fin de mes a $ 20,215 con una tasa implícita del 9% TNA y el plazo más largo fue julio a $ 21,63 a una tasa del 20,50% TNA. \n",
            "\n",
            "En la plaza paralela, el blue cayó seis centavos a $ 20,88, según el relevamiento de este medio en cuevas del microcentro porteño. Asimismo, el \"contado con liqui\" bajó 10 centavos a $ 20,19.\n",
            "\n",
            "Por último, las reservas del Banco Central aumentaron este lunes u$s 18.000.000, hasta los u$s 60.917.000.000.\n",
            "TAGS\n",
            " \n",
            "\n",
            "\n",
            "\n",
            "\n"
          ]
        }
      ],
      "source": [
        "texto_ej4d = re.sub(r\"(\\d) millones\",\"\\g<1>.000.000\",texto_ej4)\n",
        "print(texto_ej4d)"
      ]
    },
    {
      "cell_type": "markdown",
      "metadata": {
        "id": "yMNs9g-Twrs1"
      },
      "source": [
        "### e) extraer los numeros asociados a dolares, pesos y porcentajes"
      ]
    },
    {
      "cell_type": "code",
      "execution_count": null,
      "metadata": {
        "id": "4rGrEmX_wrs1",
        "outputId": "f183a7e7-fdbe-439e-e477-28d0dc837acc",
        "colab": {
          "base_uri": "https://localhost:8080/"
        }
      },
      "outputs": [
        {
          "output_type": "stream",
          "name": "stdout",
          "text": [
            "Dolares: ['100', '1.800', '69', '85', '758', '148', '1.156', '18', '60.917']\n"
          ]
        }
      ],
      "source": [
        "print(\"Dolares:\",re.findall(r\"(?<=u\\$s )\\d+(?:\\.\\d\\d\\d)*(?:\\,\\d+)?\",texto_ej4))"
      ]
    },
    {
      "cell_type": "code",
      "execution_count": null,
      "metadata": {
        "id": "RPZL_pPdwrs3",
        "outputId": "e7688f15-7e88-4445-fe24-7e1125d15c52",
        "colab": {
          "base_uri": "https://localhost:8080/"
        }
      },
      "outputs": [
        {
          "output_type": "stream",
          "name": "stdout",
          "text": [
            "Pesos: ['20,49', '20,49', '20,21', '20,21', '20,163', '20,4', '20,2', '20,215', '21,63', '20,88', '20,19']\n"
          ]
        }
      ],
      "source": [
        "print(\"Pesos:\",re.findall(r\"(?<=\\$ )\\d+(?:\\.\\d\\d\\d)*(?:\\,\\d+)?\",texto_ej4))"
      ]
    },
    {
      "cell_type": "code",
      "execution_count": null,
      "metadata": {
        "id": "nGg0kN9ywrs4",
        "outputId": "532103a9-5081-4dee-fc20-cfdce1bf3760",
        "colab": {
          "base_uri": "https://localhost:8080/"
        }
      },
      "outputs": [
        {
          "output_type": "stream",
          "name": "stdout",
          "text": [
            "Porcentajes: ['40', '6,5', '25,5', '23,55', '24,9', '40', '9', '20,50']\n"
          ]
        }
      ],
      "source": [
        "print(\"Porcentajes:\",re.findall(r\"\\d+(?:\\,\\d+)?(?=\\%)\",texto_ej4))"
      ]
    },
    {
      "cell_type": "markdown",
      "metadata": {
        "id": "XHR_rapbwrs5"
      },
      "source": [
        "### f) Plotear en eje log-log un la frequencia de las palabras vs su ranking: es decir representar en un scatterplot cuantas veces aparece la palabra mas frecuente (ranking=1), cuantas veces la 2da mas frecuentes (ranking=2)..., la n-esima mas frecuente (ranking = n)"
      ]
    },
    {
      "cell_type": "code",
      "execution_count": null,
      "metadata": {
        "id": "pVTVZ-USwrs5",
        "outputId": "538914d4-542c-4326-f1e7-b109ad0ae707",
        "colab": {
          "base_uri": "https://localhost:8080/",
          "height": 454
        }
      },
      "outputs": [
        {
          "output_type": "display_data",
          "data": {
            "text/plain": [
              "<Figure size 640x480 with 1 Axes>"
            ],
            "image/png": "[encoded data removed]"
          },
          "metadata": {}
        }
      ],
      "source": [
        "%matplotlib inline\n",
        "import matplotlib.pyplot as plt\n",
        "plt.scatter(range(1,len(palabras_frec)+1),palabras_frec)\n",
        "plt.xscale(\"log\");plt.yscale(\"log\")\n",
        "plt.xlabel(\"Ranking\"); plt.ylabel(\"Frecuencia\");"
      ]
    }
  ]
}