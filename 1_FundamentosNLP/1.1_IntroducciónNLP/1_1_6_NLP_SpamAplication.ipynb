{
  "cells": [
    {
      "cell_type": "markdown",
      "metadata": {
        "id": "view-in-github",
        "colab_type": "text"
      },
      "source": [
        "<a href=\"https://colab.research.google.com/github/juacardonahe/Curso_NLP/blob/main/1_FundamentosNLP/1.1_Introducci%C3%B3nNLP/1_1_6_NLP_SpamAplication.ipynb\" target=\"_parent\"><img src=\"https://colab.research.google.com/assets/colab-badge.svg\" alt=\"Open In Colab\"/></a>"
      ]
    },
    {
      "cell_type": "markdown",
      "source": [
        "<img src=\"https://raw.githubusercontent.com/juacardonahe/Curso_NLP/refs/heads/main/data/UNAL_Field_w.png\" width=\"40%\">\n",
        "\n",
        "# **Procesamiento de Lenguaje Natural (NLP)**\n",
        "### Departamento de Ingeniería Eléctrica, Electrónica y Computación\n",
        "#### Universidad Nacional de Colombia - Sede Manizales\n",
        "\n",
        "#### Elaboró: Juan José Cardona H.\n",
        "#### Revisó: Diego A. Perez"
      ],
      "metadata": {
        "id": "2P3uNxHX2xKs"
      }
    },
    {
      "cell_type": "markdown",
      "metadata": {
        "id": "oN0UbPGw2uoW"
      },
      "source": [
        "# **Introducción al Procesamiento de Lenguaje Natural**\n",
        "\n",
        "En este notebook, exploraremos las dificultades y particularidades al trabajar con datos de texto. Como tarea de ejemplo, utilizaremos la colección SMS Spam. Esta contiene aproximadamente 5600 mensajes que han sido clasificados manualmente en dos categorías: \"spam\" (correo no deseado) y \"ham\" (no spam o mensajes legítimos).\n",
        "\n",
        "*Advertencia: Algunos de los mensajes de texto pueden contener palabras ofensivas o contenido sexual.*\n",
        "\n",
        "## Carga de datos\n",
        "\n",
        "Comencemos cargando los datos y echémosle un primer vistazo.\n"
      ]
    },
    {
      "cell_type": "code",
      "execution_count": null,
      "metadata": {
        "id": "1oNmd9Bh2uoX"
      },
      "outputs": [],
      "source": [
        "url = \"https://raw.githubusercontent.com/juacardonahe/Curso_NLP/refs/heads/main/data/SMSSpamCollection/SMSSpamCollection\""
      ]
    },
    {
      "cell_type": "code",
      "execution_count": null,
      "metadata": {
        "id": "SY1VnQXI2uoY"
      },
      "outputs": [],
      "source": [
        "import pandas as pd\n",
        "import urllib.request\n",
        "data = urllib.request.urlopen(url)\n",
        "\n",
        "lines_split = [\n",
        "    line.decode().strip().split(\"\\t\")\n",
        "    for line in data\n",
        "]\n",
        "df = pd.DataFrame(lines_split, columns=[\"label\", \"text\"])"
      ]
    },
    {
      "cell_type": "markdown",
      "metadata": {
        "id": "lyWXoHeW2uoY"
      },
      "source": [
        "Miremos 5 mensajes aleatorios de nuestros datos."
      ]
    },
    {
      "cell_type": "code",
      "execution_count": null,
      "metadata": {
        "colab": {
          "base_uri": "https://localhost:8080/",
          "height": 206
        },
        "id": "I1P8rnIV2uoY",
        "outputId": "bfe31cd8-7c40-4f62-c3bb-97d3f7903fdb"
      },
      "outputs": [
        {
          "output_type": "execute_result",
          "data": {
            "text/plain": [
              "     label                                               text\n",
              "3237   ham  Aight text me when you're back at mu and I'll ...\n",
              "843    ham  Our Prashanthettan's mother passed away last n...\n",
              "3521   ham  No it will reach by 9 only. She telling she wi...\n",
              "2123   ham                       Do you know when the result.\n",
              "738   spam  Hi. Customer Loyalty Offer:The NEW Nokia6650 M..."
            ],
            "text/html": [
              "\n",
              "  <div id=\"df-1acfcc0f-881f-44d4-b358-7a5b4a0085ad\" class=\"colab-df-container\">\n",
              "    <div>\n",
              "<style scoped>\n",
              "    .dataframe tbody tr th:only-of-type {\n",
              "        vertical-align: middle;\n",
              "    }\n",
              "\n",
              "    .dataframe tbody tr th {\n",
              "        vertical-align: top;\n",
              "    }\n",
              "\n",
              "    .dataframe thead th {\n",
              "        text-align: right;\n",
              "    }\n",
              "</style>\n",
              "<table border=\"1\" class=\"dataframe\">\n",
              "  <thead>\n",
              "    <tr style=\"text-align: right;\">\n",
              "      <th></th>\n",
              "      <th>label</th>\n",
              "      <th>text</th>\n",
              "    </tr>\n",
              "  </thead>\n",
              "  <tbody>\n",
              "    <tr>\n",
              "      <th>3237</th>\n",
              "      <td>ham</td>\n",
              "      <td>Aight text me when you're back at mu and I'll ...</td>\n",
              "    </tr>\n",
              "    <tr>\n",
              "      <th>843</th>\n",
              "      <td>ham</td>\n",
              "      <td>Our Prashanthettan's mother passed away last n...</td>\n",
              "    </tr>\n",
              "    <tr>\n",
              "      <th>3521</th>\n",
              "      <td>ham</td>\n",
              "      <td>No it will reach by 9 only. She telling she wi...</td>\n",
              "    </tr>\n",
              "    <tr>\n",
              "      <th>2123</th>\n",
              "      <td>ham</td>\n",
              "      <td>Do you know when the result.</td>\n",
              "    </tr>\n",
              "    <tr>\n",
              "      <th>738</th>\n",
              "      <td>spam</td>\n",
              "      <td>Hi. Customer Loyalty Offer:The NEW Nokia6650 M...</td>\n",
              "    </tr>\n",
              "  </tbody>\n",
              "</table>\n",
              "</div>\n",
              "    <div class=\"colab-df-buttons\">\n",
              "\n",
              "  <div class=\"colab-df-container\">\n",
              "    <button class=\"colab-df-convert\" onclick=\"convertToInteractive('df-1acfcc0f-881f-44d4-b358-7a5b4a0085ad')\"\n",
              "            title=\"Convert this dataframe to an interactive table.\"\n",
              "            style=\"display:none;\">\n",
              "\n",
              "  <svg xmlns=\"http://www.w3.org/2000/svg\" height=\"24px\" viewBox=\"0 -960 960 960\">\n",
              "    <path d=\"M120-120v-720h720v720H120Zm60-500h600v-160H180v160Zm220 220h160v-160H400v160Zm0 220h160v-160H400v160ZM180-400h160v-160H180v160Zm440 0h160v-160H620v160ZM180-180h160v-160H180v160Zm440 0h160v-160H620v160Z\"/>\n",
              "  </svg>\n",
              "    </button>\n",
              "\n",
              "  <style>\n",
              "    .colab-df-container {\n",
              "      display:flex;\n",
              "      gap: 12px;\n",
              "    }\n",
              "\n",
              "    .colab-df-convert {\n",
              "      background-color: #E8F0FE;\n",
              "      border: none;\n",
              "      border-radius: 50%;\n",
              "      cursor: pointer;\n",
              "      display: none;\n",
              "      fill: #1967D2;\n",
              "      height: 32px;\n",
              "      padding: 0 0 0 0;\n",
              "      width: 32px;\n",
              "    }\n",
              "\n",
              "    .colab-df-convert:hover {\n",
              "      background-color: #E2EBFA;\n",
              "      box-shadow: 0px 1px 2px rgba(60, 64, 67, 0.3), 0px 1px 3px 1px rgba(60, 64, 67, 0.15);\n",
              "      fill: #174EA6;\n",
              "    }\n",
              "\n",
              "    .colab-df-buttons div {\n",
              "      margin-bottom: 4px;\n",
              "    }\n",
              "\n",
              "    [theme=dark] .colab-df-convert {\n",
              "      background-color: #3B4455;\n",
              "      fill: #D2E3FC;\n",
              "    }\n",
              "\n",
              "    [theme=dark] .colab-df-convert:hover {\n",
              "      background-color: #434B5C;\n",
              "      box-shadow: 0px 1px 3px 1px rgba(0, 0, 0, 0.15);\n",
              "      filter: drop-shadow(0px 1px 2px rgba(0, 0, 0, 0.3));\n",
              "      fill: #FFFFFF;\n",
              "    }\n",
              "  </style>\n",
              "\n",
              "    <script>\n",
              "      const buttonEl =\n",
              "        document.querySelector('#df-1acfcc0f-881f-44d4-b358-7a5b4a0085ad button.colab-df-convert');\n",
              "      buttonEl.style.display =\n",
              "        google.colab.kernel.accessAllowed ? 'block' : 'none';\n",
              "\n",
              "      async function convertToInteractive(key) {\n",
              "        const element = document.querySelector('#df-1acfcc0f-881f-44d4-b358-7a5b4a0085ad');\n",
              "        const dataTable =\n",
              "          await google.colab.kernel.invokeFunction('convertToInteractive',\n",
              "                                                    [key], {});\n",
              "        if (!dataTable) return;\n",
              "\n",
              "        const docLinkHtml = 'Like what you see? Visit the ' +\n",
              "          '<a target=\"_blank\" href=https://colab.research.google.com/notebooks/data_table.ipynb>data table notebook</a>'\n",
              "          + ' to learn more about interactive tables.';\n",
              "        element.innerHTML = '';\n",
              "        dataTable['output_type'] = 'display_data';\n",
              "        await google.colab.output.renderOutput(dataTable, element);\n",
              "        const docLink = document.createElement('div');\n",
              "        docLink.innerHTML = docLinkHtml;\n",
              "        element.appendChild(docLink);\n",
              "      }\n",
              "    </script>\n",
              "  </div>\n",
              "\n",
              "\n",
              "    <div id=\"df-16110116-6923-4fe4-8f2f-cb063c3a878d\">\n",
              "      <button class=\"colab-df-quickchart\" onclick=\"quickchart('df-16110116-6923-4fe4-8f2f-cb063c3a878d')\"\n",
              "                title=\"Suggest charts\"\n",
              "                style=\"display:none;\">\n",
              "\n",
              "<svg xmlns=\"http://www.w3.org/2000/svg\" height=\"24px\"viewBox=\"0 0 24 24\"\n",
              "     width=\"24px\">\n",
              "    <g>\n",
              "        <path d=\"M19 3H5c-1.1 0-2 .9-2 2v14c0 1.1.9 2 2 2h14c1.1 0 2-.9 2-2V5c0-1.1-.9-2-2-2zM9 17H7v-7h2v7zm4 0h-2V7h2v10zm4 0h-2v-4h2v4z\"/>\n",
              "    </g>\n",
              "</svg>\n",
              "      </button>\n",
              "\n",
              "<style>\n",
              "  .colab-df-quickchart {\n",
              "      --bg-color: #E8F0FE;\n",
              "      --fill-color: #1967D2;\n",
              "      --hover-bg-color: #E2EBFA;\n",
              "      --hover-fill-color: #174EA6;\n",
              "      --disabled-fill-color: #AAA;\n",
              "      --disabled-bg-color: #DDD;\n",
              "  }\n",
              "\n",
              "  [theme=dark] .colab-df-quickchart {\n",
              "      --bg-color: #3B4455;\n",
              "      --fill-color: #D2E3FC;\n",
              "      --hover-bg-color: #434B5C;\n",
              "      --hover-fill-color: #FFFFFF;\n",
              "      --disabled-bg-color: #3B4455;\n",
              "      --disabled-fill-color: #666;\n",
              "  }\n",
              "\n",
              "  .colab-df-quickchart {\n",
              "    background-color: var(--bg-color);\n",
              "    border: none;\n",
              "    border-radius: 50%;\n",
              "    cursor: pointer;\n",
              "    display: none;\n",
              "    fill: var(--fill-color);\n",
              "    height: 32px;\n",
              "    padding: 0;\n",
              "    width: 32px;\n",
              "  }\n",
              "\n",
              "  .colab-df-quickchart:hover {\n",
              "    background-color: var(--hover-bg-color);\n",
              "    box-shadow: 0 1px 2px rgba(60, 64, 67, 0.3), 0 1px 3px 1px rgba(60, 64, 67, 0.15);\n",
              "    fill: var(--button-hover-fill-color);\n",
              "  }\n",
              "\n",
              "  .colab-df-quickchart-complete:disabled,\n",
              "  .colab-df-quickchart-complete:disabled:hover {\n",
              "    background-color: var(--disabled-bg-color);\n",
              "    fill: var(--disabled-fill-color);\n",
              "    box-shadow: none;\n",
              "  }\n",
              "\n",
              "  .colab-df-spinner {\n",
              "    border: 2px solid var(--fill-color);\n",
              "    border-color: transparent;\n",
              "    border-bottom-color: var(--fill-color);\n",
              "    animation:\n",
              "      spin 1s steps(1) infinite;\n",
              "  }\n",
              "\n",
              "  @keyframes spin {\n",
              "    0% {\n",
              "      border-color: transparent;\n",
              "      border-bottom-color: var(--fill-color);\n",
              "      border-left-color: var(--fill-color);\n",
              "    }\n",
              "    20% {\n",
              "      border-color: transparent;\n",
              "      border-left-color: var(--fill-color);\n",
              "      border-top-color: var(--fill-color);\n",
              "    }\n",
              "    30% {\n",
              "      border-color: transparent;\n",
              "      border-left-color: var(--fill-color);\n",
              "      border-top-color: var(--fill-color);\n",
              "      border-right-color: var(--fill-color);\n",
              "    }\n",
              "    40% {\n",
              "      border-color: transparent;\n",
              "      border-right-color: var(--fill-color);\n",
              "      border-top-color: var(--fill-color);\n",
              "    }\n",
              "    60% {\n",
              "      border-color: transparent;\n",
              "      border-right-color: var(--fill-color);\n",
              "    }\n",
              "    80% {\n",
              "      border-color: transparent;\n",
              "      border-right-color: var(--fill-color);\n",
              "      border-bottom-color: var(--fill-color);\n",
              "    }\n",
              "    90% {\n",
              "      border-color: transparent;\n",
              "      border-bottom-color: var(--fill-color);\n",
              "    }\n",
              "  }\n",
              "</style>\n",
              "\n",
              "      <script>\n",
              "        async function quickchart(key) {\n",
              "          const quickchartButtonEl =\n",
              "            document.querySelector('#' + key + ' button');\n",
              "          quickchartButtonEl.disabled = true;  // To prevent multiple clicks.\n",
              "          quickchartButtonEl.classList.add('colab-df-spinner');\n",
              "          try {\n",
              "            const charts = await google.colab.kernel.invokeFunction(\n",
              "                'suggestCharts', [key], {});\n",
              "          } catch (error) {\n",
              "            console.error('Error during call to suggestCharts:', error);\n",
              "          }\n",
              "          quickchartButtonEl.classList.remove('colab-df-spinner');\n",
              "          quickchartButtonEl.classList.add('colab-df-quickchart-complete');\n",
              "        }\n",
              "        (() => {\n",
              "          let quickchartButtonEl =\n",
              "            document.querySelector('#df-16110116-6923-4fe4-8f2f-cb063c3a878d button');\n",
              "          quickchartButtonEl.style.display =\n",
              "            google.colab.kernel.accessAllowed ? 'block' : 'none';\n",
              "        })();\n",
              "      </script>\n",
              "    </div>\n",
              "\n",
              "    </div>\n",
              "  </div>\n"
            ],
            "application/vnd.google.colaboratory.intrinsic+json": {
              "type": "dataframe",
              "summary": "{\n  \"name\": \"df\",\n  \"rows\": 5,\n  \"fields\": [\n    {\n      \"column\": \"label\",\n      \"properties\": {\n        \"dtype\": \"category\",\n        \"num_unique_values\": 2,\n        \"samples\": [\n          \"spam\",\n          \"ham\"\n        ],\n        \"semantic_type\": \"\",\n        \"description\": \"\"\n      }\n    },\n    {\n      \"column\": \"text\",\n      \"properties\": {\n        \"dtype\": \"string\",\n        \"num_unique_values\": 5,\n        \"samples\": [\n          \"Our Prashanthettan's mother passed away last night. pray for her and family.\",\n          \"Hi. Customer Loyalty Offer:The NEW Nokia6650 Mobile from ONLY \\u00a310 at TXTAUCTION! Txt word: START to No: 81151 & get yours Now! 4T&Ctxt TC 150p/MTmsg\"\n        ],\n        \"semantic_type\": \"\",\n        \"description\": \"\"\n      }\n    }\n  ]\n}"
            }
          },
          "metadata": {},
          "execution_count": 8
        }
      ],
      "source": [
        "df.sample(5, random_state=123)"
      ]
    },
    {
      "cell_type": "markdown",
      "metadata": {
        "id": "6WmEmNb42uoZ"
      },
      "source": [
        "Dado que estamos trabajando con mensajes de texto, nuestros datos están bastante desordenados.\n",
        "\n",
        "¿Cuál es la proporción de mensajes \"ham\" (no spam) frente a los mensajes \"spam\"?\n"
      ]
    },
    {
      "cell_type": "code",
      "execution_count": null,
      "metadata": {
        "colab": {
          "base_uri": "https://localhost:8080/",
          "height": 178
        },
        "id": "TBG1jVq42uoZ",
        "outputId": "5430d439-e24c-4d56-b7f4-a49d534d778f"
      },
      "outputs": [
        {
          "output_type": "execute_result",
          "data": {
            "text/plain": [
              "label\n",
              "ham     4827\n",
              "spam     747\n",
              "Name: count, dtype: int64"
            ],
            "text/html": [
              "<div>\n",
              "<style scoped>\n",
              "    .dataframe tbody tr th:only-of-type {\n",
              "        vertical-align: middle;\n",
              "    }\n",
              "\n",
              "    .dataframe tbody tr th {\n",
              "        vertical-align: top;\n",
              "    }\n",
              "\n",
              "    .dataframe thead th {\n",
              "        text-align: right;\n",
              "    }\n",
              "</style>\n",
              "<table border=\"1\" class=\"dataframe\">\n",
              "  <thead>\n",
              "    <tr style=\"text-align: right;\">\n",
              "      <th></th>\n",
              "      <th>count</th>\n",
              "    </tr>\n",
              "    <tr>\n",
              "      <th>label</th>\n",
              "      <th></th>\n",
              "    </tr>\n",
              "  </thead>\n",
              "  <tbody>\n",
              "    <tr>\n",
              "      <th>ham</th>\n",
              "      <td>4827</td>\n",
              "    </tr>\n",
              "    <tr>\n",
              "      <th>spam</th>\n",
              "      <td>747</td>\n",
              "    </tr>\n",
              "  </tbody>\n",
              "</table>\n",
              "</div><br><label><b>dtype:</b> int64</label>"
            ]
          },
          "metadata": {},
          "execution_count": 9
        }
      ],
      "source": [
        "df[\"label\"].value_counts()"
      ]
    },
    {
      "cell_type": "markdown",
      "metadata": {
        "id": "Go0nyat_2uoa"
      },
      "source": [
        "## **Extracción de características del texto**\n",
        "\n",
        "No podemos alimentar datos de texto directamente a un modelo; necesitamos valores numéricos en su lugar. En nuestro primer modelo, no analizaremos el contenido de las palabras, sino que nos centraremos en otras características que podemos extraer del texto. En particular, calcularemos:\n",
        "\n",
        "- La longitud de un mensaje de texto.\n",
        "- El número de signos de puntuación utilizados.\n",
        "- El número de letras en mayúsculas.\n",
        "- El número de números.\n",
        "- El número de ocurrencias de la letra X.\n"
      ]
    },
    {
      "cell_type": "code",
      "execution_count": null,
      "metadata": {
        "id": "R0BJr_Mb2uoa"
      },
      "outputs": [],
      "source": [
        "simple_features = df.copy()\n",
        "\n",
        "simple_features[\"length\"] = df[\"text\"].apply(len)\n",
        "simple_features[\"number_punctuation\"] = df[\"text\"].apply(lambda x: sum(1 for letter in x if letter in '\".,;:!?()_*'))\n",
        "simple_features[\"number_uppercase\"] = df[\"text\"].apply(lambda x: sum(1 for letter in x if letter!=letter.lower()))\n",
        "simple_features[\"number_numbers\"] = df[\"text\"].apply(lambda x: sum(1 for letter in x if letter in \"0123456789\"))\n",
        "simple_features[\"number_x\"] = df[\"text\"].apply(lambda x: sum(1 for letter in x if letter in \"xX\"))\n",
        "\n",
        "simple_features[\"is_spam\"] = df[\"label\"] == \"spam\""
      ]
    },
    {
      "cell_type": "markdown",
      "metadata": {
        "id": "atI-UJib2uob"
      },
      "source": [
        "Vamos a visualizar el efecto de nuestras nuevas características mediante diagramas de caja (box-plots).\n"
      ]
    },
    {
      "cell_type": "code",
      "execution_count": null,
      "metadata": {
        "colab": {
          "base_uri": "https://localhost:8080/",
          "height": 406
        },
        "id": "xWs92hdo2uob",
        "outputId": "537e338e-ddea-4b95-c9f4-670576ef75cc"
      },
      "outputs": [
        {
          "output_type": "display_data",
          "data": {
            "text/plain": [
              "<Figure size 1200x400 with 5 Axes>"
            ],
            "image/png": "[encoded data removed]"
          },
          "metadata": {}
        }
      ],
      "source": [
        "import seaborn as sns\n",
        "import matplotlib.pyplot as plt\n",
        "\n",
        "fig, axs = plt.subplots(1, 5, figsize=(12, 4))\n",
        "sns.violinplot(simple_features, x=\"is_spam\", y=\"length\", ax=axs[0])\n",
        "sns.violinplot(simple_features, x=\"is_spam\", y=\"number_punctuation\", ax=axs[1])\n",
        "sns.violinplot(simple_features, x=\"is_spam\", y=\"number_uppercase\", ax=axs[2])\n",
        "sns.violinplot(simple_features, x=\"is_spam\", y=\"number_numbers\", ax=axs[3])\n",
        "sns.violinplot(simple_features, x=\"is_spam\", y=\"number_x\", ax=axs[4])\n",
        "\n",
        "fig.tight_layout()"
      ]
    },
    {
      "cell_type": "markdown",
      "metadata": {
        "id": "trhEn8xh2uob"
      },
      "source": [
        "¿Qué tan bien nos desempeñamos con un modelo logístico simple?\n"
      ]
    },
    {
      "cell_type": "code",
      "execution_count": null,
      "metadata": {
        "id": "F84YAgWU2uob"
      },
      "outputs": [],
      "source": [
        "from sklearn.model_selection import train_test_split\n",
        "from sklearn.linear_model import LogisticRegression\n",
        "from sklearn.metrics import precision_score, recall_score\n",
        "\n",
        "train, test = train_test_split(simple_features, test_size=.2, random_state=123)\n",
        "\n",
        "features = [\n",
        "    \"length\",\n",
        "    \"number_punctuation\",\n",
        "    \"number_uppercase\",\n",
        "    \"number_numbers\",\n",
        "    \"number_x\",\n",
        "]\n",
        "\n",
        "logistic_regression = LogisticRegression()\n",
        "logistic_regression.fit(train[features], train[\"is_spam\"])\n",
        "\n",
        "test_predictions = logistic_regression.predict(test[features])"
      ]
    },
    {
      "cell_type": "markdown",
      "metadata": {
        "id": "Sib8e77a2uob"
      },
      "source": [
        "Vamos a calcular la precisión (precision) y la exhaustividad (recall):\n"
      ]
    },
    {
      "cell_type": "code",
      "execution_count": null,
      "metadata": {
        "colab": {
          "base_uri": "https://localhost:8080/"
        },
        "id": "E9d1v-y82uoc",
        "outputId": "4123f523-10b9-40a5-ba75-9ae9eee4621e"
      },
      "outputs": [
        {
          "output_type": "stream",
          "name": "stdout",
          "text": [
            "Precision: 0.9448275862068966\n",
            "Recall: 0.8616352201257862\n"
          ]
        }
      ],
      "source": [
        "print(\"Precision:\", precision_score(test[\"is_spam\"], test_predictions))\n",
        "print(\"Recall:\", recall_score(test[\"is_spam\"], test_predictions))"
      ]
    },
    {
      "cell_type": "markdown",
      "metadata": {
        "id": "3DJV89t02uoc"
      },
      "source": [
        "Vemos que ya obtenemos un rendimiento muy bueno sin siquiera observar las palabras en los datos.\n",
        "\n",
        "## **Conversión del texto a valores numéricos**\n",
        "A continuación, queremos crear modelos que realmente analicen el contenido de nuestros mensajes. Para ello, necesitamos convertir el contenido de los mensajes en una representación numérica, que luego podremos pasar a un modelo.\n",
        "\n",
        "Veamos un solo mensaje de texto:\n"
      ]
    },
    {
      "cell_type": "code",
      "execution_count": null,
      "metadata": {
        "colab": {
          "base_uri": "https://localhost:8080/",
          "height": 36
        },
        "id": "BP5ija9U2uoc",
        "outputId": "0ce189e8-f25f-4d31-9a05-684a5402f2bc"
      },
      "outputs": [
        {
          "output_type": "execute_result",
          "data": {
            "text/plain": [
              "\"I'm at home. Please call\""
            ],
            "application/vnd.google.colaboratory.intrinsic+json": {
              "type": "string"
            }
          },
          "metadata": {},
          "execution_count": 14
        }
      ],
      "source": [
        "example_text = df.loc[4233, \"text\"]\n",
        "example_text"
      ]
    },
    {
      "cell_type": "markdown",
      "metadata": {
        "id": "IunIHF7I2uoc"
      },
      "source": [
        "¿Cómo podríamos hacer eso? Dado que nuestro lenguaje está compuesto por palabras, parece intuitivo dividir nuestros mensajes en palabras. Luego, podemos asignar un número único a cada palabra. Dividir un documento de texto en partes más pequeñas (típicamente palabras o partes de palabras) se llama tokenization.\n",
        "\n",
        "Para dividir nuestros mensajes en palabras, primero eliminamos toda la puntuación, excepto la coma, y luego dividimos en cada espacio en blanco."
      ]
    },
    {
      "cell_type": "code",
      "execution_count": null,
      "metadata": {
        "colab": {
          "base_uri": "https://localhost:8080/"
        },
        "id": "l0iP7sZn2uoc",
        "outputId": "e7c178b9-88e5-4849-eca9-5f45c255ed22"
      },
      "outputs": [
        {
          "output_type": "execute_result",
          "data": {
            "text/plain": [
              "[\"I'm\", 'at', 'home', 'Please', 'call']"
            ]
          },
          "metadata": {},
          "execution_count": 15
        }
      ],
      "source": [
        "def remove_punctuation(text):\n",
        "    for letter in '\".,;:!?()_*':\n",
        "        text = text.replace(letter, \" \")  # replace with a space\n",
        "    return text\n",
        "\n",
        "def to_word_list(text):\n",
        "    without_punctuation = remove_punctuation(text)\n",
        "    return without_punctuation.split()  # splits at any whitespace\n",
        "\n",
        "word_list = to_word_list(example_text)\n",
        "word_list"
      ]
    },
    {
      "cell_type": "markdown",
      "metadata": {
        "id": "Tc6EiWq92uoc"
      },
      "source": [
        "Ahora le damos un ID unico a cada palabra:"
      ]
    },
    {
      "cell_type": "code",
      "execution_count": null,
      "metadata": {
        "colab": {
          "base_uri": "https://localhost:8080/"
        },
        "id": "P00Qwbs-2uoc",
        "outputId": "9df39491-0ae8-41e6-c9fb-1f445d88894d"
      },
      "outputs": [
        {
          "output_type": "execute_result",
          "data": {
            "text/plain": [
              "{'home': 0, 'Please': 1, 'call': 2, 'at': 3, \"I'm\": 4}"
            ]
          },
          "metadata": {},
          "execution_count": 16
        }
      ],
      "source": [
        "def get_word_dictionary(word_list):\n",
        "    \"\"\"Create a mapping from every word to an integer.\"\"\"\n",
        "    return {\n",
        "        word: i\n",
        "        for i, word in enumerate(set(word_list))\n",
        "    }\n",
        "\n",
        "\n",
        "word_dict = get_word_dictionary(word_list)\n",
        "number_list = [word_dict[word] for word in word_list]\n",
        "\n",
        "# let's look at the word dictionary\n",
        "word_dict"
      ]
    },
    {
      "cell_type": "markdown",
      "metadata": {
        "id": "2velskHI2uoc"
      },
      "source": [
        "El texto ahora está codificado como la siguiente lista de números:"
      ]
    },
    {
      "cell_type": "code",
      "execution_count": null,
      "metadata": {
        "colab": {
          "base_uri": "https://localhost:8080/"
        },
        "id": "A92rB65x2uoc",
        "outputId": "b870d50f-2a13-4c22-fb0f-c67704853ba9"
      },
      "outputs": [
        {
          "output_type": "execute_result",
          "data": {
            "text/plain": [
              "[4, 3, 0, 1, 2]"
            ]
          },
          "metadata": {},
          "execution_count": 17
        }
      ],
      "source": [
        "number_list"
      ]
    },
    {
      "cell_type": "markdown",
      "metadata": {
        "id": "t_vy2QJE2uoc"
      },
      "source": [
        "Ahora hemos obtenido una primera representación numérica de nuestros datos de muestra. Sin embargo, pasarla tal como está a algún modelo no tiene mucho sentido: El orden de las palabras se elige arbitrariamente, por lo que los números no significan realmente nada. Este es un problema: El modelo considerará que los números más cercanos entre sí son más similares que los números que están más alejados.\n",
        "\n",
        "Para hacer que cada palabra esté igualmente separada, podemos convertir nuestra oración en una llamada one-hot encoding. Mapeamos cada palabra a un vector, donde el tamaño del vector es igual al número de palabras en el corpus. Este vector tiene valor cero en todas partes, excepto en una fila: Colocamos el valor 1 en la fila correspondiente al número que se le asignó a nuestra palabra.\n",
        "\n",
        "Por ejemplo: Si tenemos un total de 5 palabras, crearíamos los siguientes vectores:\n",
        "\n",
        "- Word 0: `[1, 0, 0, 0, 0]`\n",
        "- Word 1: `[0, 1, 0, 0, 0]`\n",
        "- Word 2: `[0, 0, 1, 0, 0]`\n",
        "- Word 3: `[0, 0, 0, 1, 0]`\n",
        "- Word 4: `[0, 0, 0, 0, 1]`\n",
        "\n",
        "Vamos a implementarlo en Python:\n"
      ]
    },
    {
      "cell_type": "code",
      "execution_count": null,
      "metadata": {
        "colab": {
          "base_uri": "https://localhost:8080/"
        },
        "id": "V_YFtUXb2uod",
        "outputId": "8db777de-7717-4508-c110-1713d16d66da"
      },
      "outputs": [
        {
          "output_type": "execute_result",
          "data": {
            "text/plain": [
              "[0, 0, 1, 0, 0]"
            ]
          },
          "metadata": {},
          "execution_count": 18
        }
      ],
      "source": [
        "def number_to_one_hot(number, vocabulary_size):\n",
        "    \"\"\"Function that takes a single integer and the vocabulary size, and creates a one-hot vector.\"\"\"\n",
        "    output = [0] * vocabulary_size\n",
        "\n",
        "    # negative numbers will be reserved for when we encounter a new word\n",
        "    if number >= 0:\n",
        "        output[number] = 1\n",
        "    return output\n",
        "\n",
        "number_to_one_hot(2, 5)"
      ]
    },
    {
      "cell_type": "code",
      "execution_count": null,
      "metadata": {
        "colab": {
          "base_uri": "https://localhost:8080/"
        },
        "id": "ucVDeHMW2uod",
        "outputId": "03858977-2c9d-424d-e879-260ca38d31d8"
      },
      "outputs": [
        {
          "output_type": "execute_result",
          "data": {
            "text/plain": [
              "[[0, 0, 0, 0, 1],\n",
              " [0, 0, 0, 1, 0],\n",
              " [1, 0, 0, 0, 0],\n",
              " [0, 1, 0, 0, 0],\n",
              " [0, 0, 1, 0, 0]]"
            ]
          },
          "metadata": {},
          "execution_count": 19
        }
      ],
      "source": [
        "# now we can encode the entire sentence\n",
        "def number_list_to_one_hot(number_list, vocabulary_size):\n",
        "    return [\n",
        "        number_to_one_hot(number, vocabulary_size)\n",
        "        for number in number_list\n",
        "    ]\n",
        "\n",
        "vocabulary_size = max(number_list) + 1\n",
        "\n",
        "sentence_one_hot = number_list_to_one_hot(number_list, vocabulary_size)\n",
        "sentence_one_hot"
      ]
    },
    {
      "cell_type": "markdown",
      "metadata": {
        "id": "HogEangj2uod"
      },
      "source": [
        "Ahora hemos convertido nuestro texto en una representación numérica, donde la distancia entre cada palabra es igual.\n",
        "\n",
        "## **Codificando todos los mensajes de texto**\n",
        "\n",
        "Por supuesto, no queremos codificar solo un mensaje, sino todos los mensajes de texto a la vez. Podemos hacer esto de la siguiente manera:"
      ]
    },
    {
      "cell_type": "code",
      "execution_count": null,
      "metadata": {
        "id": "k70S2aSD2uod"
      },
      "outputs": [],
      "source": [
        "df[\"word_lists\"] = df[\"text\"].apply(to_word_list)\n",
        "\n",
        "def flatten_list_of_lists(list_of_lists):\n",
        "    \"\"\"Flattens the list of lists [[a], [b, c]] to [a, b, c].\"\"\"\n",
        "    return [\n",
        "        e\n",
        "        for sublist in list_of_lists\n",
        "        for e in sublist\n",
        "    ]\n",
        "\n",
        "# create a list of all words\n",
        "list_of_all_words = flatten_list_of_lists(df[\"word_lists\"].to_list())\n",
        "\n",
        "# create the dictionary\n",
        "full_dict = get_word_dictionary(list_of_all_words)"
      ]
    },
    {
      "cell_type": "markdown",
      "metadata": {
        "id": "I8ej0vio2uod"
      },
      "source": [
        "¿Que tan grande es nuestro diccionario?"
      ]
    },
    {
      "cell_type": "code",
      "execution_count": null,
      "metadata": {
        "colab": {
          "base_uri": "https://localhost:8080/"
        },
        "id": "2OcrmujU2uod",
        "outputId": "dbd918f0-918e-4b57-d6f3-4ecc30da72af"
      },
      "outputs": [
        {
          "output_type": "execute_result",
          "data": {
            "text/plain": [
              "11479"
            ]
          },
          "metadata": {},
          "execution_count": 21
        }
      ],
      "source": [
        "len(full_dict)"
      ]
    },
    {
      "cell_type": "markdown",
      "metadata": {
        "id": "gVcfJglD2uod"
      },
      "source": [
        "Hemos encontrado más de 11000 palabras diferentes solo en nuestros 5600 mensajes. Veamos algunas de las palabras que hemos encontrado:"
      ]
    },
    {
      "cell_type": "code",
      "execution_count": null,
      "metadata": {
        "colab": {
          "base_uri": "https://localhost:8080/",
          "height": 363
        },
        "id": "mHlvyZRN2uod",
        "outputId": "984ad572-c9bc-4360-d3f7-363d50c60db6"
      },
      "outputs": [
        {
          "output_type": "execute_result",
          "data": {
            "text/plain": [
              "                word  index\n",
              "45     jeevithathile     45\n",
              "9930             wil   9930\n",
              "661            HATES    661\n",
              "4641         compare   4641\n",
              "7218            moon   7218\n",
              "11265           mush  11265\n",
              "3837       feb-april   3837\n",
              "3448           slept   3448\n",
              "5886          behalf   5886\n",
              "10383         Gokila  10383"
            ],
            "text/html": [
              "\n",
              "  <div id=\"df-3ccc6259-0d2d-47f1-ac1c-06ca5cad53d8\" class=\"colab-df-container\">\n",
              "    <div>\n",
              "<style scoped>\n",
              "    .dataframe tbody tr th:only-of-type {\n",
              "        vertical-align: middle;\n",
              "    }\n",
              "\n",
              "    .dataframe tbody tr th {\n",
              "        vertical-align: top;\n",
              "    }\n",
              "\n",
              "    .dataframe thead th {\n",
              "        text-align: right;\n",
              "    }\n",
              "</style>\n",
              "<table border=\"1\" class=\"dataframe\">\n",
              "  <thead>\n",
              "    <tr style=\"text-align: right;\">\n",
              "      <th></th>\n",
              "      <th>word</th>\n",
              "      <th>index</th>\n",
              "    </tr>\n",
              "  </thead>\n",
              "  <tbody>\n",
              "    <tr>\n",
              "      <th>45</th>\n",
              "      <td>jeevithathile</td>\n",
              "      <td>45</td>\n",
              "    </tr>\n",
              "    <tr>\n",
              "      <th>9930</th>\n",
              "      <td>wil</td>\n",
              "      <td>9930</td>\n",
              "    </tr>\n",
              "    <tr>\n",
              "      <th>661</th>\n",
              "      <td>HATES</td>\n",
              "      <td>661</td>\n",
              "    </tr>\n",
              "    <tr>\n",
              "      <th>4641</th>\n",
              "      <td>compare</td>\n",
              "      <td>4641</td>\n",
              "    </tr>\n",
              "    <tr>\n",
              "      <th>7218</th>\n",
              "      <td>moon</td>\n",
              "      <td>7218</td>\n",
              "    </tr>\n",
              "    <tr>\n",
              "      <th>11265</th>\n",
              "      <td>mush</td>\n",
              "      <td>11265</td>\n",
              "    </tr>\n",
              "    <tr>\n",
              "      <th>3837</th>\n",
              "      <td>feb-april</td>\n",
              "      <td>3837</td>\n",
              "    </tr>\n",
              "    <tr>\n",
              "      <th>3448</th>\n",
              "      <td>slept</td>\n",
              "      <td>3448</td>\n",
              "    </tr>\n",
              "    <tr>\n",
              "      <th>5886</th>\n",
              "      <td>behalf</td>\n",
              "      <td>5886</td>\n",
              "    </tr>\n",
              "    <tr>\n",
              "      <th>10383</th>\n",
              "      <td>Gokila</td>\n",
              "      <td>10383</td>\n",
              "    </tr>\n",
              "  </tbody>\n",
              "</table>\n",
              "</div>\n",
              "    <div class=\"colab-df-buttons\">\n",
              "\n",
              "  <div class=\"colab-df-container\">\n",
              "    <button class=\"colab-df-convert\" onclick=\"convertToInteractive('df-3ccc6259-0d2d-47f1-ac1c-06ca5cad53d8')\"\n",
              "            title=\"Convert this dataframe to an interactive table.\"\n",
              "            style=\"display:none;\">\n",
              "\n",
              "  <svg xmlns=\"http://www.w3.org/2000/svg\" height=\"24px\" viewBox=\"0 -960 960 960\">\n",
              "    <path d=\"M120-120v-720h720v720H120Zm60-500h600v-160H180v160Zm220 220h160v-160H400v160Zm0 220h160v-160H400v160ZM180-400h160v-160H180v160Zm440 0h160v-160H620v160ZM180-180h160v-160H180v160Zm440 0h160v-160H620v160Z\"/>\n",
              "  </svg>\n",
              "    </button>\n",
              "\n",
              "  <style>\n",
              "    .colab-df-container {\n",
              "      display:flex;\n",
              "      gap: 12px;\n",
              "    }\n",
              "\n",
              "    .colab-df-convert {\n",
              "      background-color: #E8F0FE;\n",
              "      border: none;\n",
              "      border-radius: 50%;\n",
              "      cursor: pointer;\n",
              "      display: none;\n",
              "      fill: #1967D2;\n",
              "      height: 32px;\n",
              "      padding: 0 0 0 0;\n",
              "      width: 32px;\n",
              "    }\n",
              "\n",
              "    .colab-df-convert:hover {\n",
              "      background-color: #E2EBFA;\n",
              "      box-shadow: 0px 1px 2px rgba(60, 64, 67, 0.3), 0px 1px 3px 1px rgba(60, 64, 67, 0.15);\n",
              "      fill: #174EA6;\n",
              "    }\n",
              "\n",
              "    .colab-df-buttons div {\n",
              "      margin-bottom: 4px;\n",
              "    }\n",
              "\n",
              "    [theme=dark] .colab-df-convert {\n",
              "      background-color: #3B4455;\n",
              "      fill: #D2E3FC;\n",
              "    }\n",
              "\n",
              "    [theme=dark] .colab-df-convert:hover {\n",
              "      background-color: #434B5C;\n",
              "      box-shadow: 0px 1px 3px 1px rgba(0, 0, 0, 0.15);\n",
              "      filter: drop-shadow(0px 1px 2px rgba(0, 0, 0, 0.3));\n",
              "      fill: #FFFFFF;\n",
              "    }\n",
              "  </style>\n",
              "\n",
              "    <script>\n",
              "      const buttonEl =\n",
              "        document.querySelector('#df-3ccc6259-0d2d-47f1-ac1c-06ca5cad53d8 button.colab-df-convert');\n",
              "      buttonEl.style.display =\n",
              "        google.colab.kernel.accessAllowed ? 'block' : 'none';\n",
              "\n",
              "      async function convertToInteractive(key) {\n",
              "        const element = document.querySelector('#df-3ccc6259-0d2d-47f1-ac1c-06ca5cad53d8');\n",
              "        const dataTable =\n",
              "          await google.colab.kernel.invokeFunction('convertToInteractive',\n",
              "                                                    [key], {});\n",
              "        if (!dataTable) return;\n",
              "\n",
              "        const docLinkHtml = 'Like what you see? Visit the ' +\n",
              "          '<a target=\"_blank\" href=https://colab.research.google.com/notebooks/data_table.ipynb>data table notebook</a>'\n",
              "          + ' to learn more about interactive tables.';\n",
              "        element.innerHTML = '';\n",
              "        dataTable['output_type'] = 'display_data';\n",
              "        await google.colab.output.renderOutput(dataTable, element);\n",
              "        const docLink = document.createElement('div');\n",
              "        docLink.innerHTML = docLinkHtml;\n",
              "        element.appendChild(docLink);\n",
              "      }\n",
              "    </script>\n",
              "  </div>\n",
              "\n",
              "\n",
              "    <div id=\"df-9678c66a-d9e2-4152-9a60-e3750bded1d0\">\n",
              "      <button class=\"colab-df-quickchart\" onclick=\"quickchart('df-9678c66a-d9e2-4152-9a60-e3750bded1d0')\"\n",
              "                title=\"Suggest charts\"\n",
              "                style=\"display:none;\">\n",
              "\n",
              "<svg xmlns=\"http://www.w3.org/2000/svg\" height=\"24px\"viewBox=\"0 0 24 24\"\n",
              "     width=\"24px\">\n",
              "    <g>\n",
              "        <path d=\"M19 3H5c-1.1 0-2 .9-2 2v14c0 1.1.9 2 2 2h14c1.1 0 2-.9 2-2V5c0-1.1-.9-2-2-2zM9 17H7v-7h2v7zm4 0h-2V7h2v10zm4 0h-2v-4h2v4z\"/>\n",
              "    </g>\n",
              "</svg>\n",
              "      </button>\n",
              "\n",
              "<style>\n",
              "  .colab-df-quickchart {\n",
              "      --bg-color: #E8F0FE;\n",
              "      --fill-color: #1967D2;\n",
              "      --hover-bg-color: #E2EBFA;\n",
              "      --hover-fill-color: #174EA6;\n",
              "      --disabled-fill-color: #AAA;\n",
              "      --disabled-bg-color: #DDD;\n",
              "  }\n",
              "\n",
              "  [theme=dark] .colab-df-quickchart {\n",
              "      --bg-color: #3B4455;\n",
              "      --fill-color: #D2E3FC;\n",
              "      --hover-bg-color: #434B5C;\n",
              "      --hover-fill-color: #FFFFFF;\n",
              "      --disabled-bg-color: #3B4455;\n",
              "      --disabled-fill-color: #666;\n",
              "  }\n",
              "\n",
              "  .colab-df-quickchart {\n",
              "    background-color: var(--bg-color);\n",
              "    border: none;\n",
              "    border-radius: 50%;\n",
              "    cursor: pointer;\n",
              "    display: none;\n",
              "    fill: var(--fill-color);\n",
              "    height: 32px;\n",
              "    padding: 0;\n",
              "    width: 32px;\n",
              "  }\n",
              "\n",
              "  .colab-df-quickchart:hover {\n",
              "    background-color: var(--hover-bg-color);\n",
              "    box-shadow: 0 1px 2px rgba(60, 64, 67, 0.3), 0 1px 3px 1px rgba(60, 64, 67, 0.15);\n",
              "    fill: var(--button-hover-fill-color);\n",
              "  }\n",
              "\n",
              "  .colab-df-quickchart-complete:disabled,\n",
              "  .colab-df-quickchart-complete:disabled:hover {\n",
              "    background-color: var(--disabled-bg-color);\n",
              "    fill: var(--disabled-fill-color);\n",
              "    box-shadow: none;\n",
              "  }\n",
              "\n",
              "  .colab-df-spinner {\n",
              "    border: 2px solid var(--fill-color);\n",
              "    border-color: transparent;\n",
              "    border-bottom-color: var(--fill-color);\n",
              "    animation:\n",
              "      spin 1s steps(1) infinite;\n",
              "  }\n",
              "\n",
              "  @keyframes spin {\n",
              "    0% {\n",
              "      border-color: transparent;\n",
              "      border-bottom-color: var(--fill-color);\n",
              "      border-left-color: var(--fill-color);\n",
              "    }\n",
              "    20% {\n",
              "      border-color: transparent;\n",
              "      border-left-color: var(--fill-color);\n",
              "      border-top-color: var(--fill-color);\n",
              "    }\n",
              "    30% {\n",
              "      border-color: transparent;\n",
              "      border-left-color: var(--fill-color);\n",
              "      border-top-color: var(--fill-color);\n",
              "      border-right-color: var(--fill-color);\n",
              "    }\n",
              "    40% {\n",
              "      border-color: transparent;\n",
              "      border-right-color: var(--fill-color);\n",
              "      border-top-color: var(--fill-color);\n",
              "    }\n",
              "    60% {\n",
              "      border-color: transparent;\n",
              "      border-right-color: var(--fill-color);\n",
              "    }\n",
              "    80% {\n",
              "      border-color: transparent;\n",
              "      border-right-color: var(--fill-color);\n",
              "      border-bottom-color: var(--fill-color);\n",
              "    }\n",
              "    90% {\n",
              "      border-color: transparent;\n",
              "      border-bottom-color: var(--fill-color);\n",
              "    }\n",
              "  }\n",
              "</style>\n",
              "\n",
              "      <script>\n",
              "        async function quickchart(key) {\n",
              "          const quickchartButtonEl =\n",
              "            document.querySelector('#' + key + ' button');\n",
              "          quickchartButtonEl.disabled = true;  // To prevent multiple clicks.\n",
              "          quickchartButtonEl.classList.add('colab-df-spinner');\n",
              "          try {\n",
              "            const charts = await google.colab.kernel.invokeFunction(\n",
              "                'suggestCharts', [key], {});\n",
              "          } catch (error) {\n",
              "            console.error('Error during call to suggestCharts:', error);\n",
              "          }\n",
              "          quickchartButtonEl.classList.remove('colab-df-spinner');\n",
              "          quickchartButtonEl.classList.add('colab-df-quickchart-complete');\n",
              "        }\n",
              "        (() => {\n",
              "          let quickchartButtonEl =\n",
              "            document.querySelector('#df-9678c66a-d9e2-4152-9a60-e3750bded1d0 button');\n",
              "          quickchartButtonEl.style.display =\n",
              "            google.colab.kernel.accessAllowed ? 'block' : 'none';\n",
              "        })();\n",
              "      </script>\n",
              "    </div>\n",
              "\n",
              "    </div>\n",
              "  </div>\n"
            ],
            "application/vnd.google.colaboratory.intrinsic+json": {
              "type": "dataframe",
              "summary": "{\n  \"name\": \")\",\n  \"rows\": 10,\n  \"fields\": [\n    {\n      \"column\": \"word\",\n      \"properties\": {\n        \"dtype\": \"string\",\n        \"num_unique_values\": 10,\n        \"samples\": [\n          \"behalf\",\n          \"wil\",\n          \"mush\"\n        ],\n        \"semantic_type\": \"\",\n        \"description\": \"\"\n      }\n    },\n    {\n      \"column\": \"index\",\n      \"properties\": {\n        \"dtype\": \"number\",\n        \"std\": 3946,\n        \"min\": 45,\n        \"max\": 11265,\n        \"num_unique_values\": 10,\n        \"samples\": [\n          5886,\n          9930,\n          11265\n        ],\n        \"semantic_type\": \"\",\n        \"description\": \"\"\n      }\n    }\n  ]\n}"
            }
          },
          "metadata": {},
          "execution_count": 22
        }
      ],
      "source": [
        "(\n",
        "    pd.DataFrame(full_dict.items(), columns=[\"word\", \"index\"])\n",
        "    .sort_values(\"word\")\n",
        "    .sample(10, random_state=1)\n",
        ")"
      ]
    },
    {
      "cell_type": "markdown",
      "metadata": {
        "id": "wz5PdfIT2uoe"
      },
      "source": [
        "¿Qué observamos?\n",
        "- Algunas palabras son nombres propios.\n",
        "- Algunas palabras no son realmente palabras, sino solo onomatopeyas.\n",
        "- Algunas palabras son variaciones gramaticales de una raíz de palabra.\n",
        "- Algunas palabras son errores ortográficos.\n",
        "- Algunas palabras están en mayúsculas.\n",
        "- Algunas palabras están en otro idioma.\n",
        "\n",
        "¿Cómo podríamos mejorar esto?\n",
        "\n",
        "1. Podríamos eliminar palabras que son raras. Esto eliminaría palabras mal escritas, pero también nombres y lugares raros.\n",
        "2. Podríamos convertir cada palabra a su origen gramatical (por ejemplo: eliminar el plural o conjugar a la raíz de la palabra). Esto se llama \"stemming\". Reduciríamos drásticamente el tamaño del vocabulario, pero también perderíamos información importante (si es plural o no, etc.).\n",
        "3. Podríamos convertir cada palabra a minúsculas, ya que las mayúsculas y minúsculas no cambian el significado de la palabra en inglés.\n",
        "\n",
        "O, alternativamente:\n",
        "\n",
        "4. Podríamos dividir palabras raras y conjugadas aún más: por ejemplo, dividir \"killing\" en [kill, #ing], donde # es un carácter especial para denotar que dividimos una palabra. Esto es más complejo de manejar, pero aún puede manejar palabras raras y conjugación. Este último enfoque es lo que normalmente se hace en los modelos de lenguaje grandes modernos. Puedes encontrar una demostración en este enlace: https://codesandbox.io/s/gpt-tokenizer-tjcjoz.\n",
        "\n",
        "\n",
        "## **Stemming y eliminación de palabras extrañas**\n",
        "\n",
        "Vamos a implementar los primeros tres puntos mencionados anteriormente. Realizaremos un stemming rudimentario eliminando ciertos sufijos y solo mantendremos las palabras que ocurren más de 10 veces."
      ]
    },
    {
      "cell_type": "code",
      "execution_count": null,
      "metadata": {
        "colab": {
          "base_uri": "https://localhost:8080/"
        },
        "id": "gqzGlhl82uoe",
        "outputId": "6d994b0d-9271-48ee-fed2-60e38f3a6f82"
      },
      "outputs": [
        {
          "output_type": "execute_result",
          "data": {
            "text/plain": [
              "[\"i'm\", 'at', 'home', 'please', 'call']"
            ]
          },
          "metadata": {},
          "execution_count": 23
        }
      ],
      "source": [
        "def to_lower_case(word_list):\n",
        "    return [\n",
        "        word.lower() for word in word_list\n",
        "    ]\n",
        "\n",
        "to_lower_case(df.loc[4233, \"word_lists\"])\n"
      ]
    },
    {
      "cell_type": "code",
      "execution_count": null,
      "metadata": {
        "colab": {
          "base_uri": "https://localhost:8080/"
        },
        "id": "tX7kHV002uoe",
        "outputId": "902d7927-93ff-4ec6-fb34-3b2b034cf878"
      },
      "outputs": [
        {
          "output_type": "stream",
          "name": "stdout",
          "text": [
            "Original Sentence:   Is that seriously how you spell his name?\n",
            "Stemmed Version:     ['I', 'that', 'seriously', 'how', 'you', 'spell', 'hi', 'name']\n"
          ]
        }
      ],
      "source": [
        "def rudimentary_stemming(word_list):\n",
        "    suffixes_to_remove = [\n",
        "        \"s\",  # plural suffix\n",
        "        \"ing\",\n",
        "        \"ed\",\n",
        "    ]\n",
        "    def remove_suffixes(word):\n",
        "        for suffix in suffixes_to_remove:\n",
        "            word = word.removesuffix(suffix)\n",
        "        return word\n",
        "\n",
        "    return [\n",
        "        remove_suffixes(word)\n",
        "        for word in word_list\n",
        "    ]\n",
        "\n",
        "to_show_index = 20\n",
        "\n",
        "print(\"Original Sentence:  \", df.loc[to_show_index, \"text\"])\n",
        "print(\"Stemmed Version:    \", rudimentary_stemming(df.loc[20, \"word_lists\"]))\n"
      ]
    },
    {
      "cell_type": "markdown",
      "metadata": {
        "id": "g1zb-6vG2uoe"
      },
      "source": [
        "Podemos ver que nuestro **stemming** rudimentario tiene muchos fallos. Existen algoritmos más sofisticados en la práctica, como el [Porter Stemming Algorithm](https://de.wikipedia.org/wiki/Porter-Stemmer-Algorithmus).\n",
        "\n",
        "Ahora podemos crear una nueva columna con las listas de palabras limpiadas.\n"
      ]
    },
    {
      "cell_type": "code",
      "execution_count": null,
      "metadata": {
        "id": "D9T7ZGwb2uof"
      },
      "outputs": [],
      "source": [
        "df[\"cleaned_word_lists\"] = df[\"word_lists\"].apply(\n",
        "    lambda x: rudimentary_stemming(to_lower_case(x))\n",
        ")"
      ]
    },
    {
      "cell_type": "markdown",
      "metadata": {
        "id": "8YfyAs2p2uof"
      },
      "source": [
        "Construimos nuestro diccionario a continuación, ahora con el criterio de que cada palabra debe aparecer al menos 10 veces."
      ]
    },
    {
      "cell_type": "code",
      "execution_count": null,
      "metadata": {
        "id": "XNsdb0Ku2uof"
      },
      "outputs": [],
      "source": [
        "def get_frequent_word_dictionary(word_list, minimum_count=10):\n",
        "    \"\"\"Create a mapping from frequent words to an integer.\"\"\"\n",
        "    # create a dictionary with the number of occurrences of every word\n",
        "    word_count = pd.Series(word_list).value_counts().to_dict()\n",
        "\n",
        "    # identify the set of words that are frequent enough\n",
        "    relevant_words = {\n",
        "        word for word, count in word_count.items() if count >= minimum_count\n",
        "    }\n",
        "\n",
        "    # turn that set into a dictionary\n",
        "    return {\n",
        "        word: i\n",
        "        for i, word in enumerate(relevant_words)\n",
        "    }\n",
        "\n",
        "\n",
        "# create a list of all clean words\n",
        "list_of_clean_words = flatten_list_of_lists(df[\"cleaned_word_lists\"].to_list())\n",
        "\n",
        "# create the dictionary\n",
        "frequent_dict = get_frequent_word_dictionary(list_of_clean_words)"
      ]
    },
    {
      "cell_type": "markdown",
      "metadata": {
        "id": "NYNZ4W_T2uok"
      },
      "source": [
        "¿Cuantas palabras diferentes tenemos ahora?"
      ]
    },
    {
      "cell_type": "code",
      "execution_count": null,
      "metadata": {
        "colab": {
          "base_uri": "https://localhost:8080/"
        },
        "id": "n4dcxvHx2uok",
        "outputId": "c453b254-317b-4399-9a47-8d27409a51fa"
      },
      "outputs": [
        {
          "output_type": "execute_result",
          "data": {
            "text/plain": [
              "1045"
            ]
          },
          "metadata": {},
          "execution_count": 27
        }
      ],
      "source": [
        "len(frequent_dict)"
      ]
    },
    {
      "cell_type": "markdown",
      "metadata": {
        "id": "b2RsTqgK2uok"
      },
      "source": [
        "Esto parece más certero para un corpus de texto con 5600 mensajes de texto.\n",
        "\n",
        "Luego aplicamos el one-hot encoder a todos nuestros mensajes de texto."
      ]
    },
    {
      "cell_type": "code",
      "execution_count": null,
      "metadata": {
        "id": "kXOjQAHm2uom"
      },
      "outputs": [],
      "source": [
        "import numpy as np\n",
        "\n",
        "df[\"word_number_list\"] = df[\"cleaned_word_lists\"].apply(\n",
        "    lambda word_list: [\n",
        "        frequent_dict.get(word, -1)\n",
        "        for word in word_list\n",
        "    ]\n",
        ")\n",
        "\n",
        "df[\"one_hot_word_encoding\"] = df[\"word_number_list\"].apply(\n",
        "    lambda number_list: np.array(\n",
        "        number_list_to_one_hot(number_list, vocabulary_size=len(frequent_dict) + 1)\n",
        "    )\n",
        ")"
      ]
    },
    {
      "cell_type": "markdown",
      "metadata": {
        "id": "WnaEYbvF2uom"
      },
      "source": [
        "Veamos un ejemplo:"
      ]
    },
    {
      "cell_type": "code",
      "execution_count": null,
      "metadata": {
        "colab": {
          "base_uri": "https://localhost:8080/"
        },
        "id": "djmLgmDR2uom",
        "outputId": "01f94daa-f4a3-46fa-d8be-25c7d53d36fe"
      },
      "outputs": [
        {
          "output_type": "stream",
          "name": "stdout",
          "text": [
            "One-Hot Encoding:\n",
            " [[0 0 0 ... 0 0 0]\n",
            " [0 0 0 ... 0 0 0]\n",
            " [0 0 0 ... 0 0 0]\n",
            " ...\n",
            " [0 0 0 ... 0 0 0]\n",
            " [0 0 0 ... 0 0 0]\n",
            " [0 0 0 ... 0 0 0]]\n",
            "Shape: (20, 1046)\n"
          ]
        }
      ],
      "source": [
        "ix = 0\n",
        "print(\"One-Hot Encoding:\\n\", df[\"one_hot_word_encoding\"][ix])\n",
        "print(\"Shape:\", df[\"one_hot_word_encoding\"][ix].shape)"
      ]
    },
    {
      "cell_type": "markdown",
      "metadata": {
        "id": "zomrwWDH2uon"
      },
      "source": [
        "El one-hot encoding tiene una forma igual al número de palabras multiplicado por el tamaño total del diccionario.\n",
        "\n",
        "Veamos otro ejemplo:"
      ]
    },
    {
      "cell_type": "code",
      "execution_count": null,
      "metadata": {
        "colab": {
          "base_uri": "https://localhost:8080/"
        },
        "id": "DmhxeZPx2uon",
        "outputId": "ecc0cc88-d812-4479-aa58-1f1a20b6bb12"
      },
      "outputs": [
        {
          "output_type": "stream",
          "name": "stdout",
          "text": [
            "One-Hot Encoding:\n",
            " [[0 0 0 ... 0 0 0]\n",
            " [0 0 0 ... 0 0 0]\n",
            " [0 0 0 ... 0 0 0]\n",
            " [0 0 0 ... 0 0 0]\n",
            " [0 0 0 ... 0 0 0]\n",
            " [0 0 0 ... 0 0 0]]\n",
            "Shape: (6, 1046)\n"
          ]
        }
      ],
      "source": [
        "ix = 1\n",
        "print(\"One-Hot Encoding:\\n\", df[\"one_hot_word_encoding\"][ix])\n",
        "print(\"Shape:\", df[\"one_hot_word_encoding\"][ix].shape)"
      ]
    },
    {
      "cell_type": "markdown",
      "metadata": {
        "id": "AQHphzOp2uon"
      },
      "source": [
        "Dado que este segundo mensaje de texto fue más corto, el **encoding** resultante también fue más corto.\n",
        "\n",
        "Este es un problema: los modelos estándar, como las regresiones lineales y tambien las redes neuronales feed-forward, quieren que nuestra entrada siempre tenga el mismo tamaño. ¿Cómo podemos manejar las diferentes longitudes de nuestras entradas?"
      ]
    },
    {
      "cell_type": "markdown",
      "metadata": {
        "id": "YWXqAPHJ2uon"
      },
      "source": [
        "## **Bag of Words (BoW)**\n",
        "La forma más fácil de manejar longitudes de entrada variables es calcular la suma de los one-hot encodings de cada palabra. Conceptualmente, esto solo calcula cuántas veces ocurre una palabra en el texto. Por esta razón, este método se llama bag of words.\n",
        "\n",
        "Por ejemplo: El bag of words encoding de la oración \"hello, how are you and how are your parents?\" es:\n",
        "\n",
        "|I|you|hello|how|are|parents|your|and|\n",
        "|-|---|-----|---|---|-------|----|---|\n",
        "|0|1  |1    |2  |2  |1      |1   |1  |"
      ]
    },
    {
      "cell_type": "markdown",
      "metadata": {
        "id": "pYs-wnSp2uon"
      },
      "source": [
        "Calculemos el BoW para todos nuestros datos:"
      ]
    },
    {
      "cell_type": "code",
      "execution_count": null,
      "metadata": {
        "colab": {
          "base_uri": "https://localhost:8080/",
          "height": 458
        },
        "id": "MPzxxDh_2uon",
        "outputId": "1fdd5012-fb14-4ccd-f1be-0d80ff9753cc"
      },
      "outputs": [
        {
          "output_type": "execute_result",
          "data": {
            "text/plain": [
              "0       [0, 0, 0, 0, 0, 0, 0, 0, 0, 0, 0, 0, 0, 0, 0, ...\n",
              "1       [0, 0, 0, 0, 0, 0, 0, 0, 0, 0, 0, 0, 0, 0, 0, ...\n",
              "2       [0, 0, 0, 0, 0, 0, 0, 0, 0, 0, 0, 0, 0, 0, 0, ...\n",
              "3       [0, 0, 0, 0, 0, 0, 0, 0, 0, 0, 0, 0, 0, 0, 0, ...\n",
              "4       [0, 0, 0, 0, 0, 0, 0, 0, 0, 0, 0, 0, 0, 0, 0, ...\n",
              "                              ...                        \n",
              "5569    [0, 0, 0, 0, 0, 0, 0, 0, 0, 0, 0, 0, 0, 0, 0, ...\n",
              "5570    [0, 0, 0, 0, 0, 0, 0, 0, 0, 0, 0, 0, 0, 0, 0, ...\n",
              "5571    [0, 0, 0, 0, 0, 0, 0, 0, 0, 0, 0, 0, 0, 0, 0, ...\n",
              "5572    [0, 0, 0, 0, 1, 0, 0, 0, 0, 0, 0, 0, 0, 0, 0, ...\n",
              "5573    [0, 0, 0, 0, 0, 0, 0, 0, 0, 0, 0, 0, 0, 0, 0, ...\n",
              "Name: bag_of_words, Length: 5574, dtype: object"
            ],
            "text/html": [
              "<div>\n",
              "<style scoped>\n",
              "    .dataframe tbody tr th:only-of-type {\n",
              "        vertical-align: middle;\n",
              "    }\n",
              "\n",
              "    .dataframe tbody tr th {\n",
              "        vertical-align: top;\n",
              "    }\n",
              "\n",
              "    .dataframe thead th {\n",
              "        text-align: right;\n",
              "    }\n",
              "</style>\n",
              "<table border=\"1\" class=\"dataframe\">\n",
              "  <thead>\n",
              "    <tr style=\"text-align: right;\">\n",
              "      <th></th>\n",
              "      <th>bag_of_words</th>\n",
              "    </tr>\n",
              "  </thead>\n",
              "  <tbody>\n",
              "    <tr>\n",
              "      <th>0</th>\n",
              "      <td>[0, 0, 0, 0, 0, 0, 0, 0, 0, 0, 0, 0, 0, 0, 0, ...</td>\n",
              "    </tr>\n",
              "    <tr>\n",
              "      <th>1</th>\n",
              "      <td>[0, 0, 0, 0, 0, 0, 0, 0, 0, 0, 0, 0, 0, 0, 0, ...</td>\n",
              "    </tr>\n",
              "    <tr>\n",
              "      <th>2</th>\n",
              "      <td>[0, 0, 0, 0, 0, 0, 0, 0, 0, 0, 0, 0, 0, 0, 0, ...</td>\n",
              "    </tr>\n",
              "    <tr>\n",
              "      <th>3</th>\n",
              "      <td>[0, 0, 0, 0, 0, 0, 0, 0, 0, 0, 0, 0, 0, 0, 0, ...</td>\n",
              "    </tr>\n",
              "    <tr>\n",
              "      <th>4</th>\n",
              "      <td>[0, 0, 0, 0, 0, 0, 0, 0, 0, 0, 0, 0, 0, 0, 0, ...</td>\n",
              "    </tr>\n",
              "    <tr>\n",
              "      <th>...</th>\n",
              "      <td>...</td>\n",
              "    </tr>\n",
              "    <tr>\n",
              "      <th>5569</th>\n",
              "      <td>[0, 0, 0, 0, 0, 0, 0, 0, 0, 0, 0, 0, 0, 0, 0, ...</td>\n",
              "    </tr>\n",
              "    <tr>\n",
              "      <th>5570</th>\n",
              "      <td>[0, 0, 0, 0, 0, 0, 0, 0, 0, 0, 0, 0, 0, 0, 0, ...</td>\n",
              "    </tr>\n",
              "    <tr>\n",
              "      <th>5571</th>\n",
              "      <td>[0, 0, 0, 0, 0, 0, 0, 0, 0, 0, 0, 0, 0, 0, 0, ...</td>\n",
              "    </tr>\n",
              "    <tr>\n",
              "      <th>5572</th>\n",
              "      <td>[0, 0, 0, 0, 1, 0, 0, 0, 0, 0, 0, 0, 0, 0, 0, ...</td>\n",
              "    </tr>\n",
              "    <tr>\n",
              "      <th>5573</th>\n",
              "      <td>[0, 0, 0, 0, 0, 0, 0, 0, 0, 0, 0, 0, 0, 0, 0, ...</td>\n",
              "    </tr>\n",
              "  </tbody>\n",
              "</table>\n",
              "<p>5574 rows × 1 columns</p>\n",
              "</div><br><label><b>dtype:</b> object</label>"
            ]
          },
          "metadata": {},
          "execution_count": 31
        }
      ],
      "source": [
        "df[\"bag_of_words\"] = df[\"one_hot_word_encoding\"].apply(lambda x: np.sum(x, axis=0))\n",
        "\n",
        "df[\"bag_of_words\"]"
      ]
    },
    {
      "cell_type": "markdown",
      "metadata": {
        "id": "sWEyTRpB2uon"
      },
      "source": [
        "Esto lo podemos usar ahora para entrenar nuestro modelo:"
      ]
    },
    {
      "cell_type": "code",
      "execution_count": null,
      "metadata": {
        "colab": {
          "base_uri": "https://localhost:8080/",
          "height": 235
        },
        "id": "0wIOXTK42uoo",
        "outputId": "bbeed34a-2839-4c41-d76b-d5d61566ee94"
      },
      "outputs": [
        {
          "output_type": "execute_result",
          "data": {
            "text/plain": [
              "      0     1     2     3     4     5     6     7     8     9     ...  1036  \\\n",
              "385    0.0   0.0   0.0   0.0   1.0   0.0   0.0   0.0   0.0   0.0  ...   0.0   \n",
              "5443   0.0   0.0   0.0   0.0   0.0   0.0   0.0   0.0   0.0   0.0  ...   0.0   \n",
              "1283   0.0   0.0   1.0   0.0   0.0   0.0   0.0   0.0   2.0   0.0  ...   1.0   \n",
              "2327   0.0   0.0   0.0   0.0   0.0   0.0   0.0   0.0   0.0   0.0  ...   1.0   \n",
              "1103   0.0   0.0   0.0   0.0   0.0   0.0   0.0   0.0   0.0   0.0  ...   0.0   \n",
              "\n",
              "      1037  1038  1039  1040  1041  1042  1043  1044  1045  \n",
              "385    0.0   0.0   0.0   0.0   0.0   0.0   0.0   0.0   0.0  \n",
              "5443   0.0   0.0   0.0   0.0   0.0   0.0   0.0   0.0   0.0  \n",
              "1283   2.0   0.0   0.0   0.0   0.0   0.0   0.0   0.0   0.0  \n",
              "2327   0.0   0.0   0.0   0.0   0.0   0.0   0.0   0.0   0.0  \n",
              "1103   0.0   0.0   0.0   0.0   0.0   0.0   0.0   0.0   0.0  \n",
              "\n",
              "[5 rows x 1046 columns]"
            ],
            "text/html": [
              "\n",
              "  <div id=\"df-1ab860dd-3f27-4da8-a7b0-c9334a04fd56\" class=\"colab-df-container\">\n",
              "    <div>\n",
              "<style scoped>\n",
              "    .dataframe tbody tr th:only-of-type {\n",
              "        vertical-align: middle;\n",
              "    }\n",
              "\n",
              "    .dataframe tbody tr th {\n",
              "        vertical-align: top;\n",
              "    }\n",
              "\n",
              "    .dataframe thead th {\n",
              "        text-align: right;\n",
              "    }\n",
              "</style>\n",
              "<table border=\"1\" class=\"dataframe\">\n",
              "  <thead>\n",
              "    <tr style=\"text-align: right;\">\n",
              "      <th></th>\n",
              "      <th>0</th>\n",
              "      <th>1</th>\n",
              "      <th>2</th>\n",
              "      <th>3</th>\n",
              "      <th>4</th>\n",
              "      <th>5</th>\n",
              "      <th>6</th>\n",
              "      <th>7</th>\n",
              "      <th>8</th>\n",
              "      <th>9</th>\n",
              "      <th>...</th>\n",
              "      <th>1036</th>\n",
              "      <th>1037</th>\n",
              "      <th>1038</th>\n",
              "      <th>1039</th>\n",
              "      <th>1040</th>\n",
              "      <th>1041</th>\n",
              "      <th>1042</th>\n",
              "      <th>1043</th>\n",
              "      <th>1044</th>\n",
              "      <th>1045</th>\n",
              "    </tr>\n",
              "  </thead>\n",
              "  <tbody>\n",
              "    <tr>\n",
              "      <th>385</th>\n",
              "      <td>0.0</td>\n",
              "      <td>0.0</td>\n",
              "      <td>0.0</td>\n",
              "      <td>0.0</td>\n",
              "      <td>1.0</td>\n",
              "      <td>0.0</td>\n",
              "      <td>0.0</td>\n",
              "      <td>0.0</td>\n",
              "      <td>0.0</td>\n",
              "      <td>0.0</td>\n",
              "      <td>...</td>\n",
              "      <td>0.0</td>\n",
              "      <td>0.0</td>\n",
              "      <td>0.0</td>\n",
              "      <td>0.0</td>\n",
              "      <td>0.0</td>\n",
              "      <td>0.0</td>\n",
              "      <td>0.0</td>\n",
              "      <td>0.0</td>\n",
              "      <td>0.0</td>\n",
              "      <td>0.0</td>\n",
              "    </tr>\n",
              "    <tr>\n",
              "      <th>5443</th>\n",
              "      <td>0.0</td>\n",
              "      <td>0.0</td>\n",
              "      <td>0.0</td>\n",
              "      <td>0.0</td>\n",
              "      <td>0.0</td>\n",
              "      <td>0.0</td>\n",
              "      <td>0.0</td>\n",
              "      <td>0.0</td>\n",
              "      <td>0.0</td>\n",
              "      <td>0.0</td>\n",
              "      <td>...</td>\n",
              "      <td>0.0</td>\n",
              "      <td>0.0</td>\n",
              "      <td>0.0</td>\n",
              "      <td>0.0</td>\n",
              "      <td>0.0</td>\n",
              "      <td>0.0</td>\n",
              "      <td>0.0</td>\n",
              "      <td>0.0</td>\n",
              "      <td>0.0</td>\n",
              "      <td>0.0</td>\n",
              "    </tr>\n",
              "    <tr>\n",
              "      <th>1283</th>\n",
              "      <td>0.0</td>\n",
              "      <td>0.0</td>\n",
              "      <td>1.0</td>\n",
              "      <td>0.0</td>\n",
              "      <td>0.0</td>\n",
              "      <td>0.0</td>\n",
              "      <td>0.0</td>\n",
              "      <td>0.0</td>\n",
              "      <td>2.0</td>\n",
              "      <td>0.0</td>\n",
              "      <td>...</td>\n",
              "      <td>1.0</td>\n",
              "      <td>2.0</td>\n",
              "      <td>0.0</td>\n",
              "      <td>0.0</td>\n",
              "      <td>0.0</td>\n",
              "      <td>0.0</td>\n",
              "      <td>0.0</td>\n",
              "      <td>0.0</td>\n",
              "      <td>0.0</td>\n",
              "      <td>0.0</td>\n",
              "    </tr>\n",
              "    <tr>\n",
              "      <th>2327</th>\n",
              "      <td>0.0</td>\n",
              "      <td>0.0</td>\n",
              "      <td>0.0</td>\n",
              "      <td>0.0</td>\n",
              "      <td>0.0</td>\n",
              "      <td>0.0</td>\n",
              "      <td>0.0</td>\n",
              "      <td>0.0</td>\n",
              "      <td>0.0</td>\n",
              "      <td>0.0</td>\n",
              "      <td>...</td>\n",
              "      <td>1.0</td>\n",
              "      <td>0.0</td>\n",
              "      <td>0.0</td>\n",
              "      <td>0.0</td>\n",
              "      <td>0.0</td>\n",
              "      <td>0.0</td>\n",
              "      <td>0.0</td>\n",
              "      <td>0.0</td>\n",
              "      <td>0.0</td>\n",
              "      <td>0.0</td>\n",
              "    </tr>\n",
              "    <tr>\n",
              "      <th>1103</th>\n",
              "      <td>0.0</td>\n",
              "      <td>0.0</td>\n",
              "      <td>0.0</td>\n",
              "      <td>0.0</td>\n",
              "      <td>0.0</td>\n",
              "      <td>0.0</td>\n",
              "      <td>0.0</td>\n",
              "      <td>0.0</td>\n",
              "      <td>0.0</td>\n",
              "      <td>0.0</td>\n",
              "      <td>...</td>\n",
              "      <td>0.0</td>\n",
              "      <td>0.0</td>\n",
              "      <td>0.0</td>\n",
              "      <td>0.0</td>\n",
              "      <td>0.0</td>\n",
              "      <td>0.0</td>\n",
              "      <td>0.0</td>\n",
              "      <td>0.0</td>\n",
              "      <td>0.0</td>\n",
              "      <td>0.0</td>\n",
              "    </tr>\n",
              "  </tbody>\n",
              "</table>\n",
              "<p>5 rows × 1046 columns</p>\n",
              "</div>\n",
              "    <div class=\"colab-df-buttons\">\n",
              "\n",
              "  <div class=\"colab-df-container\">\n",
              "    <button class=\"colab-df-convert\" onclick=\"convertToInteractive('df-1ab860dd-3f27-4da8-a7b0-c9334a04fd56')\"\n",
              "            title=\"Convert this dataframe to an interactive table.\"\n",
              "            style=\"display:none;\">\n",
              "\n",
              "  <svg xmlns=\"http://www.w3.org/2000/svg\" height=\"24px\" viewBox=\"0 -960 960 960\">\n",
              "    <path d=\"M120-120v-720h720v720H120Zm60-500h600v-160H180v160Zm220 220h160v-160H400v160Zm0 220h160v-160H400v160ZM180-400h160v-160H180v160Zm440 0h160v-160H620v160ZM180-180h160v-160H180v160Zm440 0h160v-160H620v160Z\"/>\n",
              "  </svg>\n",
              "    </button>\n",
              "\n",
              "  <style>\n",
              "    .colab-df-container {\n",
              "      display:flex;\n",
              "      gap: 12px;\n",
              "    }\n",
              "\n",
              "    .colab-df-convert {\n",
              "      background-color: #E8F0FE;\n",
              "      border: none;\n",
              "      border-radius: 50%;\n",
              "      cursor: pointer;\n",
              "      display: none;\n",
              "      fill: #1967D2;\n",
              "      height: 32px;\n",
              "      padding: 0 0 0 0;\n",
              "      width: 32px;\n",
              "    }\n",
              "\n",
              "    .colab-df-convert:hover {\n",
              "      background-color: #E2EBFA;\n",
              "      box-shadow: 0px 1px 2px rgba(60, 64, 67, 0.3), 0px 1px 3px 1px rgba(60, 64, 67, 0.15);\n",
              "      fill: #174EA6;\n",
              "    }\n",
              "\n",
              "    .colab-df-buttons div {\n",
              "      margin-bottom: 4px;\n",
              "    }\n",
              "\n",
              "    [theme=dark] .colab-df-convert {\n",
              "      background-color: #3B4455;\n",
              "      fill: #D2E3FC;\n",
              "    }\n",
              "\n",
              "    [theme=dark] .colab-df-convert:hover {\n",
              "      background-color: #434B5C;\n",
              "      box-shadow: 0px 1px 3px 1px rgba(0, 0, 0, 0.15);\n",
              "      filter: drop-shadow(0px 1px 2px rgba(0, 0, 0, 0.3));\n",
              "      fill: #FFFFFF;\n",
              "    }\n",
              "  </style>\n",
              "\n",
              "    <script>\n",
              "      const buttonEl =\n",
              "        document.querySelector('#df-1ab860dd-3f27-4da8-a7b0-c9334a04fd56 button.colab-df-convert');\n",
              "      buttonEl.style.display =\n",
              "        google.colab.kernel.accessAllowed ? 'block' : 'none';\n",
              "\n",
              "      async function convertToInteractive(key) {\n",
              "        const element = document.querySelector('#df-1ab860dd-3f27-4da8-a7b0-c9334a04fd56');\n",
              "        const dataTable =\n",
              "          await google.colab.kernel.invokeFunction('convertToInteractive',\n",
              "                                                    [key], {});\n",
              "        if (!dataTable) return;\n",
              "\n",
              "        const docLinkHtml = 'Like what you see? Visit the ' +\n",
              "          '<a target=\"_blank\" href=https://colab.research.google.com/notebooks/data_table.ipynb>data table notebook</a>'\n",
              "          + ' to learn more about interactive tables.';\n",
              "        element.innerHTML = '';\n",
              "        dataTable['output_type'] = 'display_data';\n",
              "        await google.colab.output.renderOutput(dataTable, element);\n",
              "        const docLink = document.createElement('div');\n",
              "        docLink.innerHTML = docLinkHtml;\n",
              "        element.appendChild(docLink);\n",
              "      }\n",
              "    </script>\n",
              "  </div>\n",
              "\n",
              "\n",
              "    <div id=\"df-f8402bc0-a0a4-4c7b-895e-4207cdc0ff0d\">\n",
              "      <button class=\"colab-df-quickchart\" onclick=\"quickchart('df-f8402bc0-a0a4-4c7b-895e-4207cdc0ff0d')\"\n",
              "                title=\"Suggest charts\"\n",
              "                style=\"display:none;\">\n",
              "\n",
              "<svg xmlns=\"http://www.w3.org/2000/svg\" height=\"24px\"viewBox=\"0 0 24 24\"\n",
              "     width=\"24px\">\n",
              "    <g>\n",
              "        <path d=\"M19 3H5c-1.1 0-2 .9-2 2v14c0 1.1.9 2 2 2h14c1.1 0 2-.9 2-2V5c0-1.1-.9-2-2-2zM9 17H7v-7h2v7zm4 0h-2V7h2v10zm4 0h-2v-4h2v4z\"/>\n",
              "    </g>\n",
              "</svg>\n",
              "      </button>\n",
              "\n",
              "<style>\n",
              "  .colab-df-quickchart {\n",
              "      --bg-color: #E8F0FE;\n",
              "      --fill-color: #1967D2;\n",
              "      --hover-bg-color: #E2EBFA;\n",
              "      --hover-fill-color: #174EA6;\n",
              "      --disabled-fill-color: #AAA;\n",
              "      --disabled-bg-color: #DDD;\n",
              "  }\n",
              "\n",
              "  [theme=dark] .colab-df-quickchart {\n",
              "      --bg-color: #3B4455;\n",
              "      --fill-color: #D2E3FC;\n",
              "      --hover-bg-color: #434B5C;\n",
              "      --hover-fill-color: #FFFFFF;\n",
              "      --disabled-bg-color: #3B4455;\n",
              "      --disabled-fill-color: #666;\n",
              "  }\n",
              "\n",
              "  .colab-df-quickchart {\n",
              "    background-color: var(--bg-color);\n",
              "    border: none;\n",
              "    border-radius: 50%;\n",
              "    cursor: pointer;\n",
              "    display: none;\n",
              "    fill: var(--fill-color);\n",
              "    height: 32px;\n",
              "    padding: 0;\n",
              "    width: 32px;\n",
              "  }\n",
              "\n",
              "  .colab-df-quickchart:hover {\n",
              "    background-color: var(--hover-bg-color);\n",
              "    box-shadow: 0 1px 2px rgba(60, 64, 67, 0.3), 0 1px 3px 1px rgba(60, 64, 67, 0.15);\n",
              "    fill: var(--button-hover-fill-color);\n",
              "  }\n",
              "\n",
              "  .colab-df-quickchart-complete:disabled,\n",
              "  .colab-df-quickchart-complete:disabled:hover {\n",
              "    background-color: var(--disabled-bg-color);\n",
              "    fill: var(--disabled-fill-color);\n",
              "    box-shadow: none;\n",
              "  }\n",
              "\n",
              "  .colab-df-spinner {\n",
              "    border: 2px solid var(--fill-color);\n",
              "    border-color: transparent;\n",
              "    border-bottom-color: var(--fill-color);\n",
              "    animation:\n",
              "      spin 1s steps(1) infinite;\n",
              "  }\n",
              "\n",
              "  @keyframes spin {\n",
              "    0% {\n",
              "      border-color: transparent;\n",
              "      border-bottom-color: var(--fill-color);\n",
              "      border-left-color: var(--fill-color);\n",
              "    }\n",
              "    20% {\n",
              "      border-color: transparent;\n",
              "      border-left-color: var(--fill-color);\n",
              "      border-top-color: var(--fill-color);\n",
              "    }\n",
              "    30% {\n",
              "      border-color: transparent;\n",
              "      border-left-color: var(--fill-color);\n",
              "      border-top-color: var(--fill-color);\n",
              "      border-right-color: var(--fill-color);\n",
              "    }\n",
              "    40% {\n",
              "      border-color: transparent;\n",
              "      border-right-color: var(--fill-color);\n",
              "      border-top-color: var(--fill-color);\n",
              "    }\n",
              "    60% {\n",
              "      border-color: transparent;\n",
              "      border-right-color: var(--fill-color);\n",
              "    }\n",
              "    80% {\n",
              "      border-color: transparent;\n",
              "      border-right-color: var(--fill-color);\n",
              "      border-bottom-color: var(--fill-color);\n",
              "    }\n",
              "    90% {\n",
              "      border-color: transparent;\n",
              "      border-bottom-color: var(--fill-color);\n",
              "    }\n",
              "  }\n",
              "</style>\n",
              "\n",
              "      <script>\n",
              "        async function quickchart(key) {\n",
              "          const quickchartButtonEl =\n",
              "            document.querySelector('#' + key + ' button');\n",
              "          quickchartButtonEl.disabled = true;  // To prevent multiple clicks.\n",
              "          quickchartButtonEl.classList.add('colab-df-spinner');\n",
              "          try {\n",
              "            const charts = await google.colab.kernel.invokeFunction(\n",
              "                'suggestCharts', [key], {});\n",
              "          } catch (error) {\n",
              "            console.error('Error during call to suggestCharts:', error);\n",
              "          }\n",
              "          quickchartButtonEl.classList.remove('colab-df-spinner');\n",
              "          quickchartButtonEl.classList.add('colab-df-quickchart-complete');\n",
              "        }\n",
              "        (() => {\n",
              "          let quickchartButtonEl =\n",
              "            document.querySelector('#df-f8402bc0-a0a4-4c7b-895e-4207cdc0ff0d button');\n",
              "          quickchartButtonEl.style.display =\n",
              "            google.colab.kernel.accessAllowed ? 'block' : 'none';\n",
              "        })();\n",
              "      </script>\n",
              "    </div>\n",
              "\n",
              "    </div>\n",
              "  </div>\n"
            ],
            "application/vnd.google.colaboratory.intrinsic+json": {
              "type": "dataframe",
              "variable_name": "train_x"
            }
          },
          "metadata": {},
          "execution_count": 32
        }
      ],
      "source": [
        "bag_of_words_df = df[\"bag_of_words\"].apply(pd.Series)\n",
        "target = df[\"label\"] == \"spam\"\n",
        "\n",
        "# we have to use the same test_size and random state as above to ensure comparability\n",
        "train_x, test_x, train_y, test_y = train_test_split(\n",
        "    bag_of_words_df, target, test_size=.2, random_state=123\n",
        ")\n",
        "\n",
        "# let's look at our training data\n",
        "train_x.head()"
      ]
    },
    {
      "cell_type": "markdown",
      "metadata": {
        "id": "ZmrZzTfW2uoo"
      },
      "source": [
        "Entrenemos un modelo linear con esto:"
      ]
    },
    {
      "cell_type": "code",
      "execution_count": null,
      "metadata": {
        "id": "jXPsHV6A2uoo"
      },
      "outputs": [],
      "source": [
        "bow_model = LogisticRegression()\n",
        "bow_model.fit(train_x.fillna(0), train_y)\n",
        "\n",
        "bow_predictions = bow_model.predict(test_x.fillna(0))"
      ]
    },
    {
      "cell_type": "code",
      "execution_count": null,
      "metadata": {
        "colab": {
          "base_uri": "https://localhost:8080/"
        },
        "id": "tLax0JVT2uoo",
        "outputId": "34bfd4b0-f001-4511-f523-493cb09ef1d9"
      },
      "outputs": [
        {
          "output_type": "stream",
          "name": "stdout",
          "text": [
            "Precision: 0.9867549668874173\n",
            "Recall: 0.9371069182389937\n"
          ]
        }
      ],
      "source": [
        "print(\"Precision:\", precision_score(test[\"is_spam\"], bow_predictions))\n",
        "print(\"Recall:\", recall_score(test[\"is_spam\"], bow_predictions))"
      ]
    },
    {
      "cell_type": "markdown",
      "metadata": {
        "id": "pSkjkJGM2uoo"
      },
      "source": [
        "Vemos que, al analizar nuestro contenido, podríamos mejorar significativamente el rendimiento de nuestro modelo."
      ]
    },
    {
      "cell_type": "markdown",
      "metadata": {
        "id": "o4d2OVuR2uop"
      },
      "source": [
        "## **¿Qué se podria considerar para mejorar?**\n",
        "Nuestro modelo de **bag of words** tiene margen de mejora:\n",
        "- Nuestros vectores son muy dispersos y no contienen mucha información.\n",
        "- No tenemos en cuenta el orden de las palabras.\n",
        "- No distinguimos entre palabras en minúsculas y mayúsculas, puntuación, etc.\n",
        "\n"
      ]
    }
  ],
  "metadata": {
    "kernelspec": {
      "display_name": ".venv",
      "language": "python",
      "name": "python3"
    },
    "language_info": {
      "codemirror_mode": {
        "name": "ipython",
        "version": 3
      },
      "file_extension": ".py",
      "mimetype": "text/x-python",
      "name": "python",
      "nbconvert_exporter": "python",
      "pygments_lexer": "ipython3",
      "version": "3.12.2"
    },
    "colab": {
      "provenance": [],
      "toc_visible": true,
      "include_colab_link": true
    }
  },
  "nbformat": 4,
  "nbformat_minor": 0
}